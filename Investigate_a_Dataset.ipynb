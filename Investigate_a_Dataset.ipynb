{
 "cells": [
  {
   "cell_type": "markdown",
   "metadata": {},
   "source": [
    "# Project: Investigate a Dataset - IMDB 10,000 Movies Dataset\n",
    "\n",
    "## Table of Contents\n",
    "<ul>\n",
    "<li><a href=\"#intro\">Introduction</a></li>\n",
    "<li><a href=\"#wrangling\">Data Wrangling</a></li>\n",
    "<li><a href=\"#eda\">Exploratory Data Analysis</a></li>\n",
    "<li><a href=\"#conclusions\">Conclusions</a></li>\n",
    "</ul>"
   ]
  },
  {
   "cell_type": "markdown",
   "metadata": {},
   "source": [
    "<a id='intro'></a>\n",
    "## Introduction\n",
    "\n",
    "### Dataset Description \n",
    "\n",
    "The IMDB dataset includes over 10,000 rows of movies data from revenue generated to average user ratings. \n",
    "\n",
    "\n",
    "\n",
    "\n",
    "\n",
    "\n",
    "### Question(s) for Analysis\n",
    "\n",
    "1. Is there a certain genre that generates more revenue than others?\n",
    "2. Is there a correlation between movie ratings and the year it was released?"
   ]
  },
  {
   "cell_type": "markdown",
   "metadata": {},
   "source": [
    "First we will import all the necessary python packages to help with the analysis"
   ]
  },
  {
   "cell_type": "code",
   "execution_count": 2,
   "metadata": {},
   "outputs": [],
   "source": [
    "import pandas as pd\n",
    "import numpy as np\n",
    "import matplotlib.pyplot as plt\n",
    "import seaborn\n",
    "\n",
    "%matplotlib inline\n"
   ]
  },
  {
   "cell_type": "code",
   "execution_count": 10,
   "metadata": {},
   "outputs": [
    {
     "name": "stdout",
     "output_type": "stream",
     "text": [
      "Collecting pandas==0.25.0\n",
      "\u001b[?25l  Downloading https://files.pythonhosted.org/packages/1d/9a/7eb9952f4b4d73fbd75ad1d5d6112f407e695957444cb695cbb3cdab918a/pandas-0.25.0-cp36-cp36m-manylinux1_x86_64.whl (10.5MB)\n",
      "\u001b[K    100% |████████████████████████████████| 10.5MB 2.1MB/s eta 0:00:01   12% |████                            | 1.3MB 23.7MB/s eta 0:00:01    58% |██████████████████▊             | 6.1MB 18.1MB/s eta 0:00:01    67% |█████████████████████▌          | 7.0MB 20.2MB/s eta 0:00:01    76% |████████████████████████▋       | 8.0MB 25.1MB/s eta 0:00:01    88% |████████████████████████████▍   | 9.3MB 26.2MB/s eta 0:00:01\n",
      "\u001b[?25hCollecting numpy>=1.13.3 (from pandas==0.25.0)\n",
      "\u001b[?25l  Downloading https://files.pythonhosted.org/packages/45/b2/6c7545bb7a38754d63048c7696804a0d947328125d81bf12beaa692c3ae3/numpy-1.19.5-cp36-cp36m-manylinux1_x86_64.whl (13.4MB)\n",
      "\u001b[K    100% |████████████████████████████████| 13.4MB 2.7MB/s eta 0:00:01  9% |███                             | 1.2MB 23.2MB/s eta 0:00:01    59% |███████████████████▏            | 8.0MB 21.8MB/s eta 0:00:01    75% |████████████████████████▎       | 10.2MB 23.8MB/s eta 0:00:01    92% |█████████████████████████████▋  | 12.4MB 24.4MB/s eta 0:00:01\n",
      "\u001b[?25hRequirement already satisfied, skipping upgrade: python-dateutil>=2.6.1 in /opt/conda/lib/python3.6/site-packages (from pandas==0.25.0) (2.6.1)\n",
      "Requirement already satisfied, skipping upgrade: pytz>=2017.2 in /opt/conda/lib/python3.6/site-packages (from pandas==0.25.0) (2017.3)\n",
      "Requirement already satisfied, skipping upgrade: six>=1.5 in /opt/conda/lib/python3.6/site-packages (from python-dateutil>=2.6.1->pandas==0.25.0) (1.11.0)\n",
      "\u001b[31mtensorflow 1.3.0 requires tensorflow-tensorboard<0.2.0,>=0.1.0, which is not installed.\u001b[0m\n",
      "Installing collected packages: numpy, pandas\n",
      "  Found existing installation: numpy 1.12.1\n",
      "    Uninstalling numpy-1.12.1:\n",
      "      Successfully uninstalled numpy-1.12.1\n",
      "  Found existing installation: pandas 0.23.3\n",
      "    Uninstalling pandas-0.23.3:\n",
      "      Successfully uninstalled pandas-0.23.3\n",
      "Successfully installed numpy-1.19.5 pandas-0.25.0\n"
     ]
    }
   ],
   "source": [
    "# Upgrade pandas to use dataframe.explode() function. \n",
    "!pip install --upgrade pandas==0.25.0"
   ]
  },
  {
   "cell_type": "markdown",
   "metadata": {},
   "source": [
    "<a id='wrangling'></a>\n",
    "## Data Wrangling\n"
   ]
  },
  {
   "cell_type": "markdown",
   "metadata": {},
   "source": [
    "First, we will take a look at the dataset and see their data types and values"
   ]
  },
  {
   "cell_type": "code",
   "execution_count": 3,
   "metadata": {},
   "outputs": [
    {
     "data": {
      "text/html": [
       "<div>\n",
       "<style scoped>\n",
       "    .dataframe tbody tr th:only-of-type {\n",
       "        vertical-align: middle;\n",
       "    }\n",
       "\n",
       "    .dataframe tbody tr th {\n",
       "        vertical-align: top;\n",
       "    }\n",
       "\n",
       "    .dataframe thead th {\n",
       "        text-align: right;\n",
       "    }\n",
       "</style>\n",
       "<table border=\"1\" class=\"dataframe\">\n",
       "  <thead>\n",
       "    <tr style=\"text-align: right;\">\n",
       "      <th></th>\n",
       "      <th>id</th>\n",
       "      <th>imdb_id</th>\n",
       "      <th>popularity</th>\n",
       "      <th>budget</th>\n",
       "      <th>revenue</th>\n",
       "      <th>original_title</th>\n",
       "      <th>cast</th>\n",
       "      <th>homepage</th>\n",
       "      <th>director</th>\n",
       "      <th>tagline</th>\n",
       "      <th>...</th>\n",
       "      <th>overview</th>\n",
       "      <th>runtime</th>\n",
       "      <th>genres</th>\n",
       "      <th>production_companies</th>\n",
       "      <th>release_date</th>\n",
       "      <th>vote_count</th>\n",
       "      <th>vote_average</th>\n",
       "      <th>release_year</th>\n",
       "      <th>budget_adj</th>\n",
       "      <th>revenue_adj</th>\n",
       "    </tr>\n",
       "  </thead>\n",
       "  <tbody>\n",
       "    <tr>\n",
       "      <th>0</th>\n",
       "      <td>135397</td>\n",
       "      <td>tt0369610</td>\n",
       "      <td>32.985763</td>\n",
       "      <td>150000000</td>\n",
       "      <td>1513528810</td>\n",
       "      <td>Jurassic World</td>\n",
       "      <td>Chris Pratt|Bryce Dallas Howard|Irrfan Khan|Vi...</td>\n",
       "      <td>http://www.jurassicworld.com/</td>\n",
       "      <td>Colin Trevorrow</td>\n",
       "      <td>The park is open.</td>\n",
       "      <td>...</td>\n",
       "      <td>Twenty-two years after the events of Jurassic ...</td>\n",
       "      <td>124</td>\n",
       "      <td>Action|Adventure|Science Fiction|Thriller</td>\n",
       "      <td>Universal Studios|Amblin Entertainment|Legenda...</td>\n",
       "      <td>6/9/15</td>\n",
       "      <td>5562</td>\n",
       "      <td>6.5</td>\n",
       "      <td>2015</td>\n",
       "      <td>1.379999e+08</td>\n",
       "      <td>1.392446e+09</td>\n",
       "    </tr>\n",
       "    <tr>\n",
       "      <th>1</th>\n",
       "      <td>76341</td>\n",
       "      <td>tt1392190</td>\n",
       "      <td>28.419936</td>\n",
       "      <td>150000000</td>\n",
       "      <td>378436354</td>\n",
       "      <td>Mad Max: Fury Road</td>\n",
       "      <td>Tom Hardy|Charlize Theron|Hugh Keays-Byrne|Nic...</td>\n",
       "      <td>http://www.madmaxmovie.com/</td>\n",
       "      <td>George Miller</td>\n",
       "      <td>What a Lovely Day.</td>\n",
       "      <td>...</td>\n",
       "      <td>An apocalyptic story set in the furthest reach...</td>\n",
       "      <td>120</td>\n",
       "      <td>Action|Adventure|Science Fiction|Thriller</td>\n",
       "      <td>Village Roadshow Pictures|Kennedy Miller Produ...</td>\n",
       "      <td>5/13/15</td>\n",
       "      <td>6185</td>\n",
       "      <td>7.1</td>\n",
       "      <td>2015</td>\n",
       "      <td>1.379999e+08</td>\n",
       "      <td>3.481613e+08</td>\n",
       "    </tr>\n",
       "    <tr>\n",
       "      <th>2</th>\n",
       "      <td>262500</td>\n",
       "      <td>tt2908446</td>\n",
       "      <td>13.112507</td>\n",
       "      <td>110000000</td>\n",
       "      <td>295238201</td>\n",
       "      <td>Insurgent</td>\n",
       "      <td>Shailene Woodley|Theo James|Kate Winslet|Ansel...</td>\n",
       "      <td>http://www.thedivergentseries.movie/#insurgent</td>\n",
       "      <td>Robert Schwentke</td>\n",
       "      <td>One Choice Can Destroy You</td>\n",
       "      <td>...</td>\n",
       "      <td>Beatrice Prior must confront her inner demons ...</td>\n",
       "      <td>119</td>\n",
       "      <td>Adventure|Science Fiction|Thriller</td>\n",
       "      <td>Summit Entertainment|Mandeville Films|Red Wago...</td>\n",
       "      <td>3/18/15</td>\n",
       "      <td>2480</td>\n",
       "      <td>6.3</td>\n",
       "      <td>2015</td>\n",
       "      <td>1.012000e+08</td>\n",
       "      <td>2.716190e+08</td>\n",
       "    </tr>\n",
       "    <tr>\n",
       "      <th>3</th>\n",
       "      <td>140607</td>\n",
       "      <td>tt2488496</td>\n",
       "      <td>11.173104</td>\n",
       "      <td>200000000</td>\n",
       "      <td>2068178225</td>\n",
       "      <td>Star Wars: The Force Awakens</td>\n",
       "      <td>Harrison Ford|Mark Hamill|Carrie Fisher|Adam D...</td>\n",
       "      <td>http://www.starwars.com/films/star-wars-episod...</td>\n",
       "      <td>J.J. Abrams</td>\n",
       "      <td>Every generation has a story.</td>\n",
       "      <td>...</td>\n",
       "      <td>Thirty years after defeating the Galactic Empi...</td>\n",
       "      <td>136</td>\n",
       "      <td>Action|Adventure|Science Fiction|Fantasy</td>\n",
       "      <td>Lucasfilm|Truenorth Productions|Bad Robot</td>\n",
       "      <td>12/15/15</td>\n",
       "      <td>5292</td>\n",
       "      <td>7.5</td>\n",
       "      <td>2015</td>\n",
       "      <td>1.839999e+08</td>\n",
       "      <td>1.902723e+09</td>\n",
       "    </tr>\n",
       "    <tr>\n",
       "      <th>4</th>\n",
       "      <td>168259</td>\n",
       "      <td>tt2820852</td>\n",
       "      <td>9.335014</td>\n",
       "      <td>190000000</td>\n",
       "      <td>1506249360</td>\n",
       "      <td>Furious 7</td>\n",
       "      <td>Vin Diesel|Paul Walker|Jason Statham|Michelle ...</td>\n",
       "      <td>http://www.furious7.com/</td>\n",
       "      <td>James Wan</td>\n",
       "      <td>Vengeance Hits Home</td>\n",
       "      <td>...</td>\n",
       "      <td>Deckard Shaw seeks revenge against Dominic Tor...</td>\n",
       "      <td>137</td>\n",
       "      <td>Action|Crime|Thriller</td>\n",
       "      <td>Universal Pictures|Original Film|Media Rights ...</td>\n",
       "      <td>4/1/15</td>\n",
       "      <td>2947</td>\n",
       "      <td>7.3</td>\n",
       "      <td>2015</td>\n",
       "      <td>1.747999e+08</td>\n",
       "      <td>1.385749e+09</td>\n",
       "    </tr>\n",
       "  </tbody>\n",
       "</table>\n",
       "<p>5 rows × 21 columns</p>\n",
       "</div>"
      ],
      "text/plain": [
       "       id    imdb_id  popularity     budget     revenue  \\\n",
       "0  135397  tt0369610   32.985763  150000000  1513528810   \n",
       "1   76341  tt1392190   28.419936  150000000   378436354   \n",
       "2  262500  tt2908446   13.112507  110000000   295238201   \n",
       "3  140607  tt2488496   11.173104  200000000  2068178225   \n",
       "4  168259  tt2820852    9.335014  190000000  1506249360   \n",
       "\n",
       "                 original_title  \\\n",
       "0                Jurassic World   \n",
       "1            Mad Max: Fury Road   \n",
       "2                     Insurgent   \n",
       "3  Star Wars: The Force Awakens   \n",
       "4                     Furious 7   \n",
       "\n",
       "                                                cast  \\\n",
       "0  Chris Pratt|Bryce Dallas Howard|Irrfan Khan|Vi...   \n",
       "1  Tom Hardy|Charlize Theron|Hugh Keays-Byrne|Nic...   \n",
       "2  Shailene Woodley|Theo James|Kate Winslet|Ansel...   \n",
       "3  Harrison Ford|Mark Hamill|Carrie Fisher|Adam D...   \n",
       "4  Vin Diesel|Paul Walker|Jason Statham|Michelle ...   \n",
       "\n",
       "                                            homepage          director  \\\n",
       "0                      http://www.jurassicworld.com/   Colin Trevorrow   \n",
       "1                        http://www.madmaxmovie.com/     George Miller   \n",
       "2     http://www.thedivergentseries.movie/#insurgent  Robert Schwentke   \n",
       "3  http://www.starwars.com/films/star-wars-episod...       J.J. Abrams   \n",
       "4                           http://www.furious7.com/         James Wan   \n",
       "\n",
       "                         tagline      ...       \\\n",
       "0              The park is open.      ...        \n",
       "1             What a Lovely Day.      ...        \n",
       "2     One Choice Can Destroy You      ...        \n",
       "3  Every generation has a story.      ...        \n",
       "4            Vengeance Hits Home      ...        \n",
       "\n",
       "                                            overview runtime  \\\n",
       "0  Twenty-two years after the events of Jurassic ...     124   \n",
       "1  An apocalyptic story set in the furthest reach...     120   \n",
       "2  Beatrice Prior must confront her inner demons ...     119   \n",
       "3  Thirty years after defeating the Galactic Empi...     136   \n",
       "4  Deckard Shaw seeks revenge against Dominic Tor...     137   \n",
       "\n",
       "                                      genres  \\\n",
       "0  Action|Adventure|Science Fiction|Thriller   \n",
       "1  Action|Adventure|Science Fiction|Thriller   \n",
       "2         Adventure|Science Fiction|Thriller   \n",
       "3   Action|Adventure|Science Fiction|Fantasy   \n",
       "4                      Action|Crime|Thriller   \n",
       "\n",
       "                                production_companies release_date vote_count  \\\n",
       "0  Universal Studios|Amblin Entertainment|Legenda...       6/9/15       5562   \n",
       "1  Village Roadshow Pictures|Kennedy Miller Produ...      5/13/15       6185   \n",
       "2  Summit Entertainment|Mandeville Films|Red Wago...      3/18/15       2480   \n",
       "3          Lucasfilm|Truenorth Productions|Bad Robot     12/15/15       5292   \n",
       "4  Universal Pictures|Original Film|Media Rights ...       4/1/15       2947   \n",
       "\n",
       "   vote_average  release_year    budget_adj   revenue_adj  \n",
       "0           6.5          2015  1.379999e+08  1.392446e+09  \n",
       "1           7.1          2015  1.379999e+08  3.481613e+08  \n",
       "2           6.3          2015  1.012000e+08  2.716190e+08  \n",
       "3           7.5          2015  1.839999e+08  1.902723e+09  \n",
       "4           7.3          2015  1.747999e+08  1.385749e+09  \n",
       "\n",
       "[5 rows x 21 columns]"
      ]
     },
     "execution_count": 3,
     "metadata": {},
     "output_type": "execute_result"
    }
   ],
   "source": [
    "#load data from external website and display the first 5 rows\n",
    "df = pd.read_csv('https://d17h27t6h515a5.cloudfront.net/topher/2017/October/59dd1c4c_tmdb-movies/tmdb-movies.csv')\n",
    "df.head()"
   ]
  },
  {
   "cell_type": "markdown",
   "metadata": {},
   "source": [
    "After displaying the first 5 rows of data, I can spot many things that will need to be cleaned.\n",
    "\n",
    "1. \"cast\" column has multiple values and is seperated by the mark \"|\"\n",
    "2. \"genres\" column has multiple values and is seperated by the mark \"|\"\n",
    "3. \"production_companies\" column has multiple values and is seperated by the mark \"|\""
   ]
  },
  {
   "cell_type": "code",
   "execution_count": 6,
   "metadata": {},
   "outputs": [
    {
     "data": {
      "text/plain": [
       "(10866, 21)"
      ]
     },
     "execution_count": 6,
     "metadata": {},
     "output_type": "execute_result"
    }
   ],
   "source": [
    "#check rows and columns count\n",
    "\n",
    "df.shape"
   ]
  },
  {
   "cell_type": "code",
   "execution_count": 7,
   "metadata": {},
   "outputs": [
    {
     "data": {
      "text/plain": [
       "id                        int64\n",
       "imdb_id                  object\n",
       "popularity              float64\n",
       "budget                    int64\n",
       "revenue                   int64\n",
       "original_title           object\n",
       "cast                     object\n",
       "homepage                 object\n",
       "director                 object\n",
       "tagline                  object\n",
       "keywords                 object\n",
       "overview                 object\n",
       "runtime                   int64\n",
       "genres                   object\n",
       "production_companies     object\n",
       "release_date             object\n",
       "vote_count                int64\n",
       "vote_average            float64\n",
       "release_year              int64\n",
       "budget_adj              float64\n",
       "revenue_adj             float64\n",
       "dtype: object"
      ]
     },
     "execution_count": 7,
     "metadata": {},
     "output_type": "execute_result"
    }
   ],
   "source": [
    "#check datatypes for all columns\n",
    "\n",
    "df.dtypes"
   ]
  },
  {
   "cell_type": "markdown",
   "metadata": {},
   "source": [
    "After checking the datatypes for each column, I found 1 column that doesn't look correct. The release_date column is currently an object. "
   ]
  },
  {
   "cell_type": "code",
   "execution_count": 8,
   "metadata": {},
   "outputs": [
    {
     "data": {
      "text/plain": [
       "str"
      ]
     },
     "execution_count": 8,
     "metadata": {},
     "output_type": "execute_result"
    }
   ],
   "source": [
    "#check data type for release_date\n",
    "type(df['release_date'][0])"
   ]
  },
  {
   "cell_type": "markdown",
   "metadata": {},
   "source": [
    "My observation was correct, it is currently a string. This will not effect our analysis since we won't be using this column so we won't need to convert it to a date data type."
   ]
  },
  {
   "cell_type": "code",
   "execution_count": 9,
   "metadata": {},
   "outputs": [
    {
     "name": "stdout",
     "output_type": "stream",
     "text": [
      "<class 'pandas.core.frame.DataFrame'>\n",
      "RangeIndex: 10866 entries, 0 to 10865\n",
      "Data columns (total 21 columns):\n",
      "id                      10866 non-null int64\n",
      "imdb_id                 10856 non-null object\n",
      "popularity              10866 non-null float64\n",
      "budget                  10866 non-null int64\n",
      "revenue                 10866 non-null int64\n",
      "original_title          10866 non-null object\n",
      "cast                    10790 non-null object\n",
      "homepage                2936 non-null object\n",
      "director                10822 non-null object\n",
      "tagline                 8042 non-null object\n",
      "keywords                9373 non-null object\n",
      "overview                10862 non-null object\n",
      "runtime                 10866 non-null int64\n",
      "genres                  10843 non-null object\n",
      "production_companies    9836 non-null object\n",
      "release_date            10866 non-null object\n",
      "vote_count              10866 non-null int64\n",
      "vote_average            10866 non-null float64\n",
      "release_year            10866 non-null int64\n",
      "budget_adj              10866 non-null float64\n",
      "revenue_adj             10866 non-null float64\n",
      "dtypes: float64(4), int64(6), object(11)\n",
      "memory usage: 1.7+ MB\n"
     ]
    }
   ],
   "source": [
    "#check to see if there are missing values in rows\n",
    "\n",
    "df.info()"
   ]
  },
  {
   "cell_type": "markdown",
   "metadata": {},
   "source": [
    "Looks like cast, hompeage, director, tagline, keywords, overview, genres, production companies are missing some data"
   ]
  },
  {
   "cell_type": "markdown",
   "metadata": {},
   "source": [
    "Next we will check to see how many nulls we have in the dataset"
   ]
  },
  {
   "cell_type": "code",
   "execution_count": 10,
   "metadata": {},
   "outputs": [
    {
     "data": {
      "text/plain": [
       "id                         0\n",
       "imdb_id                   10\n",
       "popularity                 0\n",
       "budget                     0\n",
       "revenue                    0\n",
       "original_title             0\n",
       "cast                      76\n",
       "homepage                7930\n",
       "director                  44\n",
       "tagline                 2824\n",
       "keywords                1493\n",
       "overview                   4\n",
       "runtime                    0\n",
       "genres                    23\n",
       "production_companies    1030\n",
       "release_date               0\n",
       "vote_count                 0\n",
       "vote_average               0\n",
       "release_year               0\n",
       "budget_adj                 0\n",
       "revenue_adj                0\n",
       "dtype: int64"
      ]
     },
     "execution_count": 10,
     "metadata": {},
     "output_type": "execute_result"
    }
   ],
   "source": [
    "df.isnull().sum()"
   ]
  },
  {
   "cell_type": "markdown",
   "metadata": {},
   "source": [
    "After doing a null check, most of the columns that have nulls will not matter since it will not be used in the analysis. \n",
    "We will be using the column \"genres\" and it is missing 23 values.\n",
    "\n",
    "We will now check for duplicate rows"
   ]
  },
  {
   "cell_type": "code",
   "execution_count": 11,
   "metadata": {},
   "outputs": [
    {
     "data": {
      "text/plain": [
       "1"
      ]
     },
     "execution_count": 11,
     "metadata": {},
     "output_type": "execute_result"
    }
   ],
   "source": [
    "#check to see if there are duplicate rows\n",
    "\n",
    "sum(df.duplicated())"
   ]
  },
  {
   "cell_type": "markdown",
   "metadata": {},
   "source": [
    "There is 1 duplicate row found, we will delete this in the cleaning step.\n",
    "\n",
    "Next I am going to check the \"genre\" column to see how many unique genres there are."
   ]
  },
  {
   "cell_type": "code",
   "execution_count": 12,
   "metadata": {},
   "outputs": [
    {
     "data": {
      "text/plain": [
       "2039"
      ]
     },
     "execution_count": 12,
     "metadata": {},
     "output_type": "execute_result"
    }
   ],
   "source": [
    "df.genres.nunique()"
   ]
  },
  {
   "cell_type": "markdown",
   "metadata": {},
   "source": [
    "There are currently 2,039 unique values in the column \"genres\". We will have to clean up this column to be able to use in the analysis as it is too many uniques to work with."
   ]
  },
  {
   "cell_type": "markdown",
   "metadata": {},
   "source": [
    "## CLEANING THE DATA"
   ]
  },
  {
   "cell_type": "markdown",
   "metadata": {},
   "source": [
    "After mangling with the data, it looks like there are a few things we need to clean up.\n",
    "\n",
    "1. Drop columns we won't be using in our analysis\n",
    "2. Remove duplicate rows\n",
    "3. Remove rows where genre has a null value (it is only a few so it won't effect the analysis)\n",
    "4. Split the genres into it's own columns so we can perform analysis on it"
   ]
  },
  {
   "cell_type": "code",
   "execution_count": 4,
   "metadata": {},
   "outputs": [],
   "source": [
    "#drop columns that we won't be using in the analysis\n",
    "df.drop(['imdb_id','popularity','budget','original_title','cast','homepage','director','tagline','overview','production_companies','vote_count','budget_adj','revenue_adj', 'keywords', 'release_date'], axis=1, inplace=True)"
   ]
  },
  {
   "cell_type": "code",
   "execution_count": 14,
   "metadata": {},
   "outputs": [
    {
     "data": {
      "text/html": [
       "<div>\n",
       "<style scoped>\n",
       "    .dataframe tbody tr th:only-of-type {\n",
       "        vertical-align: middle;\n",
       "    }\n",
       "\n",
       "    .dataframe tbody tr th {\n",
       "        vertical-align: top;\n",
       "    }\n",
       "\n",
       "    .dataframe thead th {\n",
       "        text-align: right;\n",
       "    }\n",
       "</style>\n",
       "<table border=\"1\" class=\"dataframe\">\n",
       "  <thead>\n",
       "    <tr style=\"text-align: right;\">\n",
       "      <th></th>\n",
       "      <th>id</th>\n",
       "      <th>revenue</th>\n",
       "      <th>runtime</th>\n",
       "      <th>genres</th>\n",
       "      <th>vote_average</th>\n",
       "      <th>release_year</th>\n",
       "    </tr>\n",
       "  </thead>\n",
       "  <tbody>\n",
       "    <tr>\n",
       "      <th>0</th>\n",
       "      <td>135397</td>\n",
       "      <td>1513528810</td>\n",
       "      <td>124</td>\n",
       "      <td>Action|Adventure|Science Fiction|Thriller</td>\n",
       "      <td>6.5</td>\n",
       "      <td>2015</td>\n",
       "    </tr>\n",
       "    <tr>\n",
       "      <th>1</th>\n",
       "      <td>76341</td>\n",
       "      <td>378436354</td>\n",
       "      <td>120</td>\n",
       "      <td>Action|Adventure|Science Fiction|Thriller</td>\n",
       "      <td>7.1</td>\n",
       "      <td>2015</td>\n",
       "    </tr>\n",
       "    <tr>\n",
       "      <th>2</th>\n",
       "      <td>262500</td>\n",
       "      <td>295238201</td>\n",
       "      <td>119</td>\n",
       "      <td>Adventure|Science Fiction|Thriller</td>\n",
       "      <td>6.3</td>\n",
       "      <td>2015</td>\n",
       "    </tr>\n",
       "    <tr>\n",
       "      <th>3</th>\n",
       "      <td>140607</td>\n",
       "      <td>2068178225</td>\n",
       "      <td>136</td>\n",
       "      <td>Action|Adventure|Science Fiction|Fantasy</td>\n",
       "      <td>7.5</td>\n",
       "      <td>2015</td>\n",
       "    </tr>\n",
       "    <tr>\n",
       "      <th>4</th>\n",
       "      <td>168259</td>\n",
       "      <td>1506249360</td>\n",
       "      <td>137</td>\n",
       "      <td>Action|Crime|Thriller</td>\n",
       "      <td>7.3</td>\n",
       "      <td>2015</td>\n",
       "    </tr>\n",
       "  </tbody>\n",
       "</table>\n",
       "</div>"
      ],
      "text/plain": [
       "       id     revenue  runtime                                     genres  \\\n",
       "0  135397  1513528810      124  Action|Adventure|Science Fiction|Thriller   \n",
       "1   76341   378436354      120  Action|Adventure|Science Fiction|Thriller   \n",
       "2  262500   295238201      119         Adventure|Science Fiction|Thriller   \n",
       "3  140607  2068178225      136   Action|Adventure|Science Fiction|Fantasy   \n",
       "4  168259  1506249360      137                      Action|Crime|Thriller   \n",
       "\n",
       "   vote_average  release_year  \n",
       "0           6.5          2015  \n",
       "1           7.1          2015  \n",
       "2           6.3          2015  \n",
       "3           7.5          2015  \n",
       "4           7.3          2015  "
      ]
     },
     "execution_count": 14,
     "metadata": {},
     "output_type": "execute_result"
    }
   ],
   "source": [
    "df.head()"
   ]
  },
  {
   "cell_type": "markdown",
   "metadata": {},
   "source": [
    "There was 1 duplicate found, we will now drop duplicate row"
   ]
  },
  {
   "cell_type": "code",
   "execution_count": 5,
   "metadata": {},
   "outputs": [],
   "source": [
    "#drop duplicate\n",
    "df.drop_duplicates(inplace=True)"
   ]
  },
  {
   "cell_type": "code",
   "execution_count": 6,
   "metadata": {},
   "outputs": [
    {
     "data": {
      "text/plain": [
       "0"
      ]
     },
     "execution_count": 6,
     "metadata": {},
     "output_type": "execute_result"
    }
   ],
   "source": [
    "#confirm correction by rechecking for duplicates in the data\n",
    "sum(df.duplicated())\n",
    "\n"
   ]
  },
  {
   "cell_type": "code",
   "execution_count": 7,
   "metadata": {},
   "outputs": [],
   "source": [
    "#since genre has some missing data, we will drop the rows that have null data\n",
    "df = df[df['genres'].notna()]"
   ]
  },
  {
   "cell_type": "code",
   "execution_count": 8,
   "metadata": {},
   "outputs": [
    {
     "name": "stdout",
     "output_type": "stream",
     "text": [
      "<class 'pandas.core.frame.DataFrame'>\n",
      "Int64Index: 10842 entries, 0 to 10865\n",
      "Data columns (total 6 columns):\n",
      "id              10842 non-null int64\n",
      "revenue         10842 non-null int64\n",
      "runtime         10842 non-null int64\n",
      "genres          10842 non-null object\n",
      "vote_average    10842 non-null float64\n",
      "release_year    10842 non-null int64\n",
      "dtypes: float64(1), int64(4), object(1)\n",
      "memory usage: 592.9+ KB\n"
     ]
    }
   ],
   "source": [
    "#check to see if the count of rows are now all matching\n",
    "df.info()"
   ]
  },
  {
   "cell_type": "code",
   "execution_count": 9,
   "metadata": {},
   "outputs": [],
   "source": [
    "#after removing null values, we have to rebuild the index\n",
    "df.reset_index(drop=True, inplace=True)"
   ]
  },
  {
   "cell_type": "markdown",
   "metadata": {},
   "source": [
    "In the next step, we will have to split the genres in the \"genres\" column since at it's current state, we are unable to do any analysis on it with over 2,000 unique values."
   ]
  },
  {
   "cell_type": "code",
   "execution_count": 10,
   "metadata": {},
   "outputs": [],
   "source": [
    "#create new list to hold the genre value split\n",
    "genre_trim = []"
   ]
  },
  {
   "cell_type": "code",
   "execution_count": 11,
   "metadata": {},
   "outputs": [],
   "source": [
    "#loop through the dataframe, split the first genre value and append it to genre_trim list\n",
    "n = 0\n",
    "for index, row in df.iterrows():\n",
    "    i = df.genres.str.strip().str.split(\"|\",5)[n]\n",
    "    t = i[0]\n",
    "    genre_trim.append(t)\n",
    "    n = n + 1"
   ]
  },
  {
   "cell_type": "code",
   "execution_count": 12,
   "metadata": {},
   "outputs": [
    {
     "name": "stdout",
     "output_type": "stream",
     "text": [
      "10842\n"
     ]
    }
   ],
   "source": [
    "#verify the rows of genre_trim\n",
    "print(len(genre_trim))"
   ]
  },
  {
   "cell_type": "code",
   "execution_count": 28,
   "metadata": {},
   "outputs": [
    {
     "name": "stdout",
     "output_type": "stream",
     "text": [
      "['Action', 'Action', 'Adventure', 'Action', 'Action', 'Western', 'Science Fiction', 'Drama', 'Family', 'Comedy', 'Action', 'Science Fiction', 'Drama', 'Action', 'Action', 'Crime', 'Crime', 'Science Fiction', 'Romance', 'War', 'Action', 'Action', 'Action', 'Drama', 'Comedy', 'Action', 'Comedy', 'Crime', 'Drama', 'Action', 'Mystery', 'Crime', 'Comedy', 'Thriller', 'Adventure', 'Drama', 'Crime', 'Adventure', 'Action', 'Drama', 'Drama', 'Fantasy', 'History', 'Comedy', 'Fantasy', 'Action', 'Fantasy', 'Drama', 'Thriller', 'Thriller', 'Romance', 'Comedy', 'Adventure', 'Comedy', 'Action', 'Drama', 'Science Fiction', 'Comedy', 'Drama', 'Mystery', 'Action', 'Action', 'Mystery', 'Action', 'Romance', 'Action', 'Thriller', 'Crime', 'Drama', 'Comedy', 'Drama', 'Crime', 'Thriller', 'Adventure', 'Action', 'Comedy', 'Adventure', 'Drama', 'Comedy', 'Drama', 'Romance', 'Animation', 'Family', 'Adventure', 'Action', 'Adventure', 'Horror', 'Horror', 'Drama', 'Crime', 'Thriller', 'Comedy', 'Fantasy', 'Thriller', 'Adventure', 'Adventure', 'Drama', 'Romance', 'Horror', 'Action', 'Adventure', 'Action', 'Thriller', 'Thriller', 'Comedy', 'Comedy', 'Comedy', 'Horror', 'Crime', 'Crime', 'Horror', 'Drama', 'Action', 'Crime', 'Comedy', 'Drama', 'Action', 'Comedy', 'Science Fiction', 'Comedy', 'Thriller', 'Mystery', 'Thriller', 'Comedy', 'Horror', 'Romance', 'Drama', 'Crime', 'Comedy', 'Family', 'Crime', 'Adventure', 'Family', 'Drama', 'Comedy', 'Action', 'Horror', 'Action', 'Drama', 'Drama', 'Action', 'Comedy', 'Drama', 'Adventure', 'Animation', 'Horror', 'Horror', 'Drama', 'Drama', 'Thriller', 'Drama', 'Horror', 'Horror', 'Action', 'Romance', 'Mystery', 'Drama', 'Comedy', 'Comedy', 'Action', 'Drama', 'Crime', 'Drama', 'Comedy', 'Drama', 'Comedy', 'Comedy', 'History', 'Drama', 'Drama', 'Drama', 'Adventure', 'History', 'Action', 'Comedy', 'Music', 'Music', 'Romance', 'Drama', 'Drama', 'Comedy', 'Action', 'Drama', 'Adventure', 'Romance', 'Action', 'Drama', 'Drama', 'Thriller', 'Drama', 'Animation', 'Thriller', 'Thriller', 'Comedy', 'Western', 'Documentary', 'Drama', 'Fantasy', 'Family', 'Horror', 'Romance', 'Romance', 'Drama', 'Drama', 'Thriller', 'Comedy', 'Comedy', 'Drama', 'Comedy', 'Thriller', 'Drama', 'Comedy', 'Romance', 'Drama', 'Drama', 'Mystery', 'Animation', 'Thriller', 'Action', 'Drama', 'Drama', 'Drama', 'Mystery', 'Drama', 'Horror', 'Thriller', 'Action', 'Thriller', 'Adventure', 'Comedy', 'Fantasy', 'Music', 'War', 'Thriller', 'Drama', 'Drama', 'Horror', 'Drama', 'Drama', 'Animation', 'Thriller', 'Documentary', 'Horror', 'Drama', 'Horror', 'History', 'Drama', 'Drama', 'Horror', 'Thriller', 'Action', 'Drama', 'Crime', 'Drama', 'Thriller', 'Fantasy', 'Adventure', 'Action', 'Action', 'TV Movie', 'Action', 'Drama', 'Horror', 'Horror', 'Drama', 'Comedy', 'Comedy', 'Music', 'Comedy', 'Music', 'Drama', 'Horror', 'Comedy', 'Action', 'Drama', 'Action', 'Fantasy', 'Action', 'Thriller', 'Animation', 'Drama', 'Thriller', 'Horror', 'Thriller', 'Comedy', 'Thriller', 'Family', 'Drama', 'Thriller', 'Action', 'Documentary', 'Drama', 'Horror', 'Drama', 'Thriller', 'Family', 'Thriller', 'Thriller', 'Crime', 'Thriller', 'Drama', 'Thriller', 'Drama', 'Fantasy', 'Drama', 'Family', 'Thriller', 'Science Fiction', 'Drama', 'Thriller', 'Horror', 'Adventure', 'Thriller', 'Horror', 'Horror', 'Thriller', 'Horror', 'Animation', 'Science Fiction', 'Horror', 'Thriller', 'Comedy', 'Drama', 'Thriller', 'TV Movie', 'Horror', 'TV Movie', 'Drama', 'Science Fiction', 'Thriller', 'Comedy', 'Drama', 'Drama', 'Crime', 'Documentary', 'Documentary', 'Thriller', 'War', 'Adventure', 'Animation', 'Drama', 'Animation', 'Comedy', 'Animation', 'Drama', 'Drama', 'Documentary', 'Drama', 'Thriller', 'Science Fiction', 'Crime', 'Science Fiction', 'Action', 'Comedy', 'Science Fiction', 'Thriller', 'Action', 'Action', 'Drama', 'Science Fiction', 'Action', 'Drama', 'Drama', 'Thriller', 'Drama', 'Drama', 'Horror', 'Thriller', 'Drama', 'Family', 'Adventure', 'Animation', 'Romance', 'Romance', 'Mystery', 'TV Movie', 'Action', 'Documentary', 'Drama', 'Drama', 'Drama', 'Horror', 'Drama', 'Science Fiction', 'Romance', 'Horror', 'Drama', 'Drama', 'Drama', 'Drama', 'Drama', 'Drama', 'Horror', 'Comedy', 'Romance', 'Horror', 'History', 'Horror', 'Horror', 'Horror', 'Horror', 'Drama', 'Science Fiction', 'Drama', 'Music', 'Horror', 'Drama', 'Thriller', 'Comedy', 'Drama', 'Horror', 'Horror', 'Thriller', 'Romance', 'Romance', 'History', 'Horror', 'Action', 'Drama', 'Action', 'Documentary', 'Romance', 'Fantasy', 'TV Movie', 'Comedy', 'History', 'Thriller', 'Comedy', 'Drama', 'Comedy', 'Crime', 'Science Fiction', 'Drama', 'Comedy', 'Comedy', 'Documentary', 'Drama', 'Drama', 'Comedy', 'Documentary', 'Documentary', 'Mystery', 'Drama', 'Thriller', 'Horror', 'Horror', 'Comedy', 'Drama', 'Horror', 'Romance', 'Horror', 'Horror', 'Drama', 'Horror', 'Documentary', 'Science Fiction', 'Thriller', 'Drama', 'Documentary', 'Documentary', 'Documentary', 'Comedy', 'Mystery', 'Drama', 'Documentary', 'Science Fiction', 'Mystery', 'Crime', 'Comedy', 'Documentary', 'Thriller', 'Drama', 'Action', 'Comedy', 'Comedy', 'Drama', 'Drama', 'Thriller', 'Action', 'Action', 'Thriller', 'Horror', 'Action', 'Crime', 'Comedy', 'TV Movie', 'Thriller', 'Drama', 'Drama', 'Comedy', 'Horror', 'Drama', 'Drama', 'Drama', 'Comedy', 'Documentary', 'Romance', 'Thriller', 'Thriller', 'Comedy', 'Drama', 'Romance', 'Drama', 'Music', 'Action', 'Horror', 'Drama', 'Horror', 'Science Fiction', 'Action', 'Romance', 'Documentary', 'Drama', 'Documentary', 'Drama', 'Horror', 'Comedy', 'Thriller', 'Drama', 'Action', 'Romance', 'Drama', 'Documentary', 'Drama', 'Fantasy', 'Romance', 'Documentary', 'Romance', 'Horror', 'Drama', 'Mystery', 'Comedy', 'Thriller', 'Drama', 'Documentary', 'Documentary', 'Thriller', 'Documentary', 'Music', 'Mystery', 'Comedy', 'Horror', 'Comedy', 'Drama', 'Documentary', 'Horror', 'Drama', 'Documentary', 'Thriller', 'Thriller', 'Documentary', 'Horror', 'Drama', 'Documentary', 'Thriller', 'Comedy', 'Family', 'Horror', 'Thriller', 'Thriller', 'Comedy', 'Mystery', 'Horror', 'Music', 'Horror', 'Animation', 'Comedy', 'Crime', 'Drama', 'Drama', 'Thriller', 'Comedy', 'Comedy', 'Documentary', 'Action', 'Comedy', 'Drama', 'Documentary', 'Drama', 'Drama', 'Romance', 'Thriller', 'Drama', 'Horror', 'Drama', 'Comedy', 'Documentary', 'Thriller', 'Documentary', 'Drama', 'Thriller', 'Documentary', 'Documentary', 'Romance', 'Horror', 'Documentary', 'Action', 'Music', 'Drama', 'Science Fiction', 'Drama', 'Comedy', 'Comedy', 'Thriller', 'Science Fiction', 'Comedy', 'Comedy', 'Family', 'Documentary', 'Thriller', 'Animation', 'Documentary', 'Drama', 'Drama', 'Thriller', 'Drama', 'Horror', 'Drama', 'Science Fiction', 'Horror', 'Documentary', 'Documentary', 'Comedy', 'Comedy', 'Documentary', 'Documentary', 'Documentary', 'Adventure', 'Action', 'Action', 'Action', 'Science Fiction', 'Adventure', 'Adventure', 'History', 'Action', 'Drama', 'Mystery', 'War', 'Adventure', 'Action', 'Action', 'Action', 'Science Fiction', 'Comedy', 'Crime', 'Science Fiction', 'Comedy', 'Drama', 'Science Fiction', 'Thriller', 'Comedy', 'Action', 'Action', 'Action', 'War', 'Adventure', 'Action', 'Fantasy', 'Crime', 'Horror', 'Fantasy', 'Thriller', 'Action', 'Adventure', 'Thriller', 'Adventure', 'Drama', 'Comedy', 'Horror', 'Family', 'Fantasy', 'Action', 'Drama', 'Crime', 'Crime', 'Comedy', 'Drama', 'Comedy', 'Horror', 'Thriller', 'Drama', 'Action', 'Action', 'Drama', 'Drama', 'Action', 'Comedy', 'Comedy', 'Drama', 'Romance', 'Comedy', 'Romance', 'Science Fiction', 'Action', 'Thriller', 'Comedy', 'Action', 'Action', 'Science Fiction', 'Thriller', 'Action', 'Drama', 'Science Fiction', 'Thriller', 'Comedy', 'Animation', 'Comedy', 'Crime', 'Adventure', 'Animation', 'Comedy', 'Mystery', 'War', 'Drama', 'History', 'Drama', 'Thriller', 'Animation', 'Drama', 'Action', 'Drama', 'Music', 'Horror', 'Romance', 'Comedy', 'Action', 'Romance', 'Thriller', 'Drama', 'Animation', 'Drama', 'Thriller', 'Adventure', 'Family', 'Comedy', 'Thriller', 'Thriller', 'Action', 'Action', 'Action', 'Animation', 'Thriller', 'Action', 'Comedy', 'Thriller', 'Comedy', 'Drama', 'Thriller', 'Drama', 'Horror', 'Drama', 'Comedy', 'Drama', 'Crime', 'Comedy', 'Drama', 'Thriller', 'Comedy', 'Thriller', 'Horror', 'Drama', 'Family', 'Horror', 'Comedy', 'Drama', 'Drama', 'Action', 'Drama', 'Comedy', 'Drama', 'Drama', 'History', 'Action', 'Action', 'Drama', 'Mystery', 'Thriller', 'Drama', 'Drama', 'Romance', 'Mystery', 'Western', 'Fantasy', 'Crime', 'Comedy', 'War', 'Horror', 'Comedy', 'Drama', 'Family', 'Drama', 'Western', 'Action', 'Drama', 'Thriller', 'Animation', 'Thriller', 'Thriller', 'Action', 'Crime', 'Music', 'Comedy', 'Drama', 'Drama', 'Comedy', 'Drama', 'Drama', 'Science Fiction', 'Drama', 'Thriller', 'Comedy', 'Adventure', 'Drama', 'Documentary', 'Thriller', 'Comedy', 'Animation', 'Drama', 'Horror', 'Thriller', 'Drama', 'Thriller', 'Animation', 'Romance', 'Drama', 'Drama', 'Thriller', 'Romance', 'Drama', 'Drama', 'Drama', 'Action', 'Comedy', 'Thriller', 'Horror', 'Action', 'Thriller', 'Drama', 'Drama', 'Horror', 'Thriller', 'Drama', 'Thriller', 'Drama', 'Thriller', 'Comedy', 'Comedy', 'Thriller', 'Horror', 'Drama', 'Drama', 'Drama', 'Music', 'Family', 'Comedy', 'Action', 'Drama', 'Thriller', 'Thriller', 'Drama', 'Thriller', 'Comedy', 'Drama', 'Horror', 'Comedy', 'Thriller', 'Horror', 'Comedy', 'Drama', 'Drama', 'Comedy', 'Horror', 'Comedy', 'Thriller', 'Action', 'Drama', 'Comedy', 'Drama', 'Drama', 'Drama', 'Action', 'Drama', 'Thriller', 'Thriller', 'Family', 'Comedy', 'Adventure', 'Drama', 'Documentary', 'Drama', 'Documentary', 'Horror', 'Thriller', 'Action', 'Drama', 'Horror', 'Horror', 'Thriller', 'Comedy', 'History', 'Fantasy', 'Adventure', 'Horror', 'Comedy', 'Comedy', 'Action', 'Drama', 'Romance', 'Thriller', 'Romance', 'Action', 'Comedy', 'Drama', 'Drama', 'Horror', 'Crime', 'Horror', 'Thriller', 'Drama', 'Comedy', 'Thriller', 'Drama', 'Romance', 'Action', 'Comedy', 'Horror', 'Drama', 'Thriller', 'Comedy', 'Drama', 'Thriller', 'Family', 'Action', 'Action', 'Crime', 'Thriller', 'Drama', 'Drama', 'Action', 'Horror', 'Drama', 'Horror', 'Animation', 'Drama', 'Drama', 'Drama', 'TV Movie', 'Comedy', 'Horror', 'Comedy', 'Mystery', 'Comedy', 'Animation', 'Family', 'Drama', 'Adventure', 'Thriller', 'Fantasy', 'Comedy', 'Action', 'Action', 'Western', 'Thriller', 'TV Movie', 'Crime', 'Comedy', 'Family', 'Action', 'Horror', 'Drama', 'Comedy', 'Thriller', 'Comedy', 'Thriller', 'Action', 'Adventure', 'Crime', 'Drama', 'Drama', 'Thriller', 'Comedy', 'Documentary', 'Drama', 'Comedy', 'Horror', 'Horror', 'Drama', 'Horror', 'Drama', 'Documentary', 'Thriller', 'Drama', 'Comedy', 'Science Fiction', 'Science Fiction', 'Comedy', 'Horror', 'Drama', 'Drama', 'Music', 'Science Fiction', 'Comedy', 'Drama', 'Horror', 'Thriller', 'Romance', 'Action', 'Thriller', 'Horror', 'Comedy', 'Thriller', 'Drama', 'Action', 'Comedy', 'Romance', 'Thriller', 'Comedy', 'Drama', 'Horror', 'Drama', 'War', 'Documentary', 'Comedy', 'Horror', 'Thriller', 'Documentary', 'Thriller', 'Fantasy', 'TV Movie', 'Horror', 'Science Fiction', 'Romance', 'Thriller', 'Horror', 'Drama', 'Horror', 'Drama', 'Thriller', 'Horror', 'Drama', 'Thriller', 'Drama', 'Adventure', 'Drama', 'Horror', 'Romance', 'Family', 'Drama', 'Romance', 'Thriller', 'TV Movie', 'Comedy', 'Comedy', 'Drama', 'Comedy', 'Mystery', 'Animation', 'Action', 'Drama', 'Thriller', 'Action', 'Animation', 'Horror', 'History', 'Horror', 'Romance', 'Documentary', 'Drama', 'Thriller', 'Music', 'Adventure', 'Action', 'Action', 'TV Movie', 'Drama', 'Drama', 'Documentary', 'Romance', 'Thriller', 'Thriller', 'Comedy', 'Horror', 'Action', 'War', 'Documentary', 'Drama', 'Horror', 'Documentary', 'Music', 'Drama', 'Drama', 'Documentary', 'Documentary', 'Adventure', 'Documentary', 'Adventure', 'TV Movie', 'Adventure', 'Thriller', 'Comedy', 'Documentary', 'Documentary', 'Action', 'Horror', 'Comedy', 'Horror', 'Action', 'Drama', 'Action', 'Drama', 'Action', 'Drama', 'Thriller', 'Drama', 'Adventure', 'Horror', 'Music', 'Drama', 'Crime', 'Documentary', 'Action', 'Documentary', 'Drama', 'Fantasy', 'Drama', 'Animation', 'Family', 'Drama', 'War', 'Science Fiction', 'Action', 'Drama', 'Horror', 'Drama', 'History', 'Adventure', 'Family', 'Documentary', 'Thriller', 'Action', 'Drama', 'Horror', 'Drama', 'Comedy', 'Music', 'Science Fiction', 'Drama', 'Horror', 'Comedy', 'Adventure', 'Romance', 'Romance', 'Thriller', 'Thriller', 'Action', 'Comedy', 'Horror', 'Romance', 'Drama', 'Adventure', 'Drama', 'Thriller', 'Horror', 'Horror', 'Music', 'Drama', 'Action', 'Thriller', 'Adventure', 'Documentary', 'Comedy', 'Drama', 'Animation', 'Animation', 'TV Movie', 'Comedy', 'Comedy', 'Documentary', 'Comedy', 'Drama', 'Drama', 'Thriller', 'Documentary', 'Crime', 'Thriller', 'Drama', 'War', 'Comedy', 'Crime', 'Drama', 'Mystery', 'Comedy', 'Drama', 'Comedy', 'Comedy', 'TV Movie', 'Drama', 'Thriller', 'Comedy', 'Documentary', 'Comedy', 'Horror', 'Documentary', 'Thriller', 'Documentary', 'History', 'Drama', 'Family', 'Comedy', 'War', 'Drama', 'Horror', 'Comedy', 'Adventure', 'Documentary', 'Action', 'History', 'Thriller', 'Comedy', 'Romance', 'Romance', 'Drama', 'Adventure', 'Romance', 'Thriller', 'Drama', 'Drama', 'Adventure', 'Documentary', 'Comedy', 'Family', 'Drama', 'Documentary', 'Thriller', 'Comedy', 'Horror', 'Drama', 'Romance', 'Comedy', 'Comedy', 'Crime', 'Comedy', 'Drama', 'Documentary', 'Documentary', 'Crime', 'Documentary', 'Comedy', 'Comedy', 'Drama', 'Drama', 'Romance', 'Documentary', 'Comedy', 'Documentary', 'Thriller', 'Comedy', 'Documentary', 'Thriller', 'Documentary', 'Horror', 'Thriller', 'Romance', 'Science Fiction', 'Drama', 'Mystery', 'Romance', 'Comedy', 'Comedy', 'Documentary', 'War', 'Thriller', 'Comedy', 'Documentary', 'Documentary', 'Documentary', 'Drama', 'Documentary', 'Drama', 'Drama', 'Comedy', 'Comedy', 'Documentary', 'Documentary', 'Documentary', 'Thriller', 'Horror', 'Romance', 'War', 'Documentary', 'Adventure', 'Documentary', 'Adventure', 'Documentary', 'Comedy', 'Mystery', 'Comedy', 'Action', 'Drama', 'Documentary', 'Science Fiction', 'Family', 'Drama', 'Mystery', 'Comedy', 'Documentary', 'Documentary', 'Documentary', 'Horror', 'Comedy', 'Romance', 'Documentary', 'Documentary', 'Documentary', 'Drama', 'Documentary', 'Crime', 'Romance', 'Documentary', 'Documentary', 'Drama', 'Romance', 'Documentary', 'Documentary', 'Documentary', 'Adventure', 'Adventure', 'Fantasy', 'Comedy', 'Fantasy', 'Science Fiction', 'Drama', 'Animation', 'Romance', 'Action', 'Action', 'Drama', 'Comedy', 'Action', 'Documentary', 'Drama', 'Drama', 'Drama', 'Drama', 'Drama', 'Drama', 'Fantasy', 'Horror', 'Action', 'Fantasy', 'Science Fiction', 'Action', 'Adventure', 'Adventure', 'History', 'Action', 'Family', 'Drama', 'Western', 'Drama', 'Action', 'Drama', 'Fantasy', 'Drama', 'Horror', 'Horror', 'Animation', 'Action', 'Horror', 'Horror', 'Comedy', 'Science Fiction', 'Horror', 'Mystery', 'Horror', 'Science Fiction', 'Horror', 'Comedy', 'Drama', 'Horror', 'Horror', 'Drama', 'Action', 'Drama', 'Fantasy', 'Adventure', 'Animation', 'Science Fiction', 'Drama', 'Action', 'Adventure', 'Comedy', 'Animation', 'Comedy', 'Action', 'Action', 'Action', 'Thriller', 'Romance', 'Drama', 'Comedy', 'Adventure', 'Comedy', 'Adventure', 'Comedy', 'Comedy', 'Comedy', 'Animation', 'Adventure', 'Animation', 'Adventure', 'Comedy', 'Animation', 'Comedy', 'Fantasy', 'Action', 'Drama', 'Drama', 'Thriller', 'Action', 'Action', 'Animation', 'Horror', 'Thriller', 'Action', 'Science Fiction', 'Fantasy', 'Comedy', 'Thriller', 'Comedy', 'Comedy', 'Fantasy', 'Action', 'Action', 'Science Fiction', 'Comedy', 'Drama', 'Adventure', 'Animation', 'Drama', 'Romance', 'Drama', 'History', 'Family', 'Comedy', 'Horror', 'Comedy', 'Horror', 'Comedy', 'Drama', 'Comedy', 'Drama', 'Action', 'Horror', 'Drama', 'Comedy', 'Comedy', 'Adventure', 'Horror', 'Drama', 'Horror', 'Fantasy', 'Drama', 'Adventure', 'Drama', 'Adventure', 'Drama', 'Action', 'Crime', 'Horror', 'Drama', 'Comedy', 'Thriller', 'Comedy', 'Action', 'Drama', 'Drama', 'Comedy', 'Fantasy', 'Drama', 'Action', 'Action', 'Drama', 'Science Fiction', 'Comedy', 'Comedy', 'Action', 'Comedy', 'Family', 'Comedy', 'Crime', 'Science Fiction', 'Comedy', 'Drama', 'Adventure', 'Drama', 'Science Fiction', 'Fantasy', 'Thriller', 'Comedy', 'Animation', 'Horror', 'Comedy', 'Comedy', 'Drama', 'Documentary', 'Mystery', 'Adventure', 'Science Fiction', 'Documentary', 'Comedy', 'Drama', 'Adventure', 'Animation', 'Action', 'Drama', 'Adventure', 'Crime', 'Action', 'Action', 'Drama', 'Comedy', 'Comedy', 'Adventure', 'Animation', 'Comedy', 'Drama', 'Comedy', 'Comedy', 'Drama', 'Animation', 'Drama', 'Horror', 'Thriller', 'Adventure', 'Action', 'Horror', 'Drama', 'Documentary', 'Drama', 'Action', 'Drama', 'Horror', 'Comedy', 'Comedy', 'Drama', 'Comedy', 'Action', 'Action', 'Comedy', 'Adventure', 'Drama', 'Drama', 'Adventure', 'Horror', 'Drama', 'Drama', 'Comedy', 'Science Fiction', 'War', 'Comedy', 'Drama', 'Fantasy', 'Comedy', 'Crime', 'Thriller', 'Comedy', 'Animation', 'Horror', 'Comedy', 'Thriller', 'Adventure', 'Action', 'Drama', 'Adventure', 'Action', 'Action', 'Adventure', 'Comedy', 'Comedy', 'Mystery', 'Drama', 'Fantasy', 'Comedy', 'Drama', 'Thriller', 'Drama', 'Horror', 'Action', 'Drama', 'Comedy', 'Drama', 'Drama', 'Action', 'Documentary', 'Drama', 'Science Fiction', 'Horror', 'Drama', 'Drama', 'Crime', 'Drama', 'Science Fiction', 'Thriller', 'Action', 'Action', 'Drama', 'Comedy', 'Action', 'Comedy', 'Drama', 'Drama', 'Animation', 'Thriller', 'Drama', 'Drama', 'Drama', 'Action', 'Horror', 'Drama', 'TV Movie', 'Drama', 'Comedy', 'Animation', 'Comedy', 'Music', 'Comedy', 'Drama', 'Drama', 'Drama', 'TV Movie', 'Crime', 'Drama', 'Adventure', 'Action', 'Horror', 'Action', 'Action', 'Thriller', 'Animation', 'Adventure', 'Comedy', 'TV Movie', 'Drama', 'Thriller', 'Action', 'Family', 'Drama', 'Drama', 'Action', 'Horror', 'Drama', 'Animation', 'Animation', 'Drama', 'Action', 'Drama', 'Adventure', 'Crime', 'Animation', 'Comedy', 'Action', 'Drama', 'Drama', 'Drama', 'Comedy', 'Drama', 'Animation', 'Science Fiction', 'Comedy', 'Comedy', 'Comedy', 'Comedy', 'Crime', 'Fantasy', 'Comedy', 'Drama', 'Crime', 'Animation', 'Horror', 'Comedy', 'Comedy', 'Drama', 'Music', 'Horror', 'Horror', 'Comedy', 'Animation', 'Action', 'Horror', 'Horror', 'Horror', 'Action', 'Drama', 'Drama', 'Horror', 'Action', 'Comedy', 'Adventure', 'Comedy', 'Drama', 'Mystery', 'Comedy', 'Comedy', 'Horror', 'Comedy', 'Horror', 'Drama', 'Comedy', 'Comedy', 'War', 'Drama', 'Drama', 'Horror', 'Drama', 'Animation', 'Comedy', 'Drama', 'Animation', 'Comedy', 'Comedy', 'Drama', 'Comedy', 'Comedy', 'Drama', 'Comedy', 'Drama', 'Action', 'Action', 'Comedy', 'Comedy', 'Comedy', 'Horror', 'Drama', 'Comedy', 'Action', 'Horror', 'Fantasy', 'Action', 'Action', 'Documentary', 'Horror', 'Horror', 'War', 'Science Fiction', 'Action', 'Comedy', 'Documentary', 'Drama', 'Drama', 'Drama', 'Comedy', 'Horror', 'Comedy', 'Thriller', 'Action', 'Adventure', 'Comedy', 'Horror', 'Comedy', 'Music', 'Animation', 'Action', 'Drama', 'Drama', 'Horror', 'Drama', 'Action', 'Horror', 'Drama', 'Mystery', 'Comedy', 'Comedy', 'Drama', 'Fantasy', 'Crime', 'Comedy', 'Action', 'Action', 'Drama', 'Comedy', 'Comedy', 'Action', 'Action', 'Comedy', 'Animation', 'Crime', 'Comedy', 'Foreign', 'Fantasy', 'Documentary', 'Horror', 'Drama', 'Comedy', 'Horror', 'Comedy', 'Drama', 'Romance', 'Drama', 'Horror', 'Animation', 'Documentary', 'Horror', 'Comedy', 'Adventure', 'Comedy', 'Drama', 'Action', 'Animation', 'Comedy', 'Action', 'Comedy', 'Action', 'Drama', 'Horror', 'Comedy', 'Comedy', 'Drama', 'Thriller', 'Action', 'Action', 'Comedy', 'Thriller', 'Drama', 'Comedy', 'Animation', 'Horror', 'Horror', 'Family', 'Comedy', 'Comedy', 'Comedy', 'Drama', 'Drama', 'Comedy', 'Comedy', 'Action', 'Drama', 'Comedy', 'Comedy', 'Action', 'Action', 'Horror', 'Comedy', 'Drama', 'Horror', 'Comedy', 'Drama', 'Comedy', 'Comedy', 'Documentary', 'Action', 'Comedy', 'Drama', 'Drama', 'Action', 'Drama', 'Comedy', 'War', 'Documentary', 'Documentary', 'Drama', 'Thriller', 'Action', 'Comedy', 'Documentary', 'Drama', 'Drama', 'Music', 'Horror', 'Horror', 'Documentary', 'Drama', 'Documentary', 'Science Fiction', 'Action', 'Drama', 'Comedy', 'Comedy', 'Drama', 'Crime', 'Documentary', 'Horror', 'Comedy', 'Documentary', 'Drama', 'Documentary', 'Comedy', 'Action', 'Comedy', 'Science Fiction', 'Animation', 'Comedy', 'Animation', 'Documentary', 'Foreign', 'Documentary', 'Drama', 'Comedy', 'Comedy', 'Comedy', 'Action', 'Drama', 'Drama', 'Documentary', 'Documentary', 'Animation', 'Action', 'Documentary', 'Comedy', 'Comedy', 'Drama', 'Mystery', 'Action', 'Adventure', 'Family', 'Drama', 'Adventure', 'Action', 'Action', 'Fantasy', 'Drama', 'Adventure', 'Animation', 'Animation', 'Action', 'Adventure', 'Comedy', 'Adventure', 'Action', 'Action', 'Adventure', 'Action', 'Drama', 'Adventure', 'Fantasy', 'Comedy', 'Drama', 'Action', 'Comedy', 'Action', 'Adventure', 'Action', 'Comedy', 'Drama', 'Thriller', 'Action', 'Action', 'Comedy', 'Action', 'Comedy', 'Crime', 'Drama', 'Adventure', 'Animation', 'Action', 'Action', 'Horror', 'Horror', 'Drama', 'Drama', 'Drama', 'Drama', 'Action', 'Drama', 'Action', 'Action', 'Drama', 'Drama', 'Action', 'Romance', 'Action', 'Comedy', 'Comedy', 'Drama', 'Comedy', 'Drama', 'Comedy', 'Fantasy', 'Animation', 'Horror', 'Action', 'Comedy', 'Action', 'Action', 'Thriller', 'Comedy', 'Romance', 'Horror', 'Action', 'Drama', 'Comedy', 'Comedy', 'Action', 'Animation', 'Drama', 'Drama', 'Horror', 'Documentary', 'Action', 'Horror', 'Drama', 'Comedy', 'Comedy', 'Fantasy', 'Science Fiction', 'Thriller', 'Drama', 'Comedy', 'Animation', 'Action', 'Drama', 'Drama', 'Comedy', 'Crime', 'Drama', 'Horror', 'Drama', 'Action', 'Crime', 'Animation', 'Action', 'Crime', 'Drama', 'Adventure', 'Comedy', 'Drama', 'Drama', 'Animation', 'Drama', 'Horror', 'Drama', 'Comedy', 'Thriller', 'Comedy', 'Comedy', 'Drama', 'Fantasy', 'Horror', 'Comedy', 'Romance', 'Drama', 'Horror', 'Animation', 'Drama', 'Comedy', 'Fantasy', 'Adventure', 'Drama', 'Comedy', 'Adventure', 'Science Fiction', 'Drama', 'Animation', 'Comedy', 'Action', 'Drama', 'Drama', 'Crime', 'Comedy', 'TV Movie', 'Action', 'Comedy', 'Horror', 'Comedy', 'Comedy', 'Comedy', 'Animation', 'Drama', 'Documentary', 'Thriller', 'Comedy', 'Action', 'Action', 'Comedy', 'Drama', 'Drama', 'Action', 'Crime', 'Drama', 'Drama', 'Action', 'Drama', 'Crime', 'Crime', 'Action', 'Comedy', 'Horror', 'Comedy', 'Drama', 'Drama', 'Family', 'Documentary', 'Comedy', 'Action', 'Thriller', 'Drama', 'Drama', 'TV Movie', 'Comedy', 'Crime', 'Adventure', 'Drama', 'Drama', 'Thriller', 'Horror', 'Drama', 'Drama', 'Comedy', 'Family', 'Comedy', 'Fantasy', 'Mystery', 'Drama', 'Drama', 'War', 'Drama', 'Drama', 'Family', 'Comedy', 'Drama', 'Mystery', 'Animation', 'Drama', 'Fantasy', 'Comedy', 'Adventure', 'Comedy', 'Adventure', 'Comedy', 'Drama', 'Animation', 'Comedy', 'Comedy', 'Animation', 'Comedy', 'Fantasy', 'Comedy', 'Comedy', 'Comedy', 'Drama', 'Romance', 'Fantasy', 'Comedy', 'Drama', 'Animation', 'Action', 'Adventure', 'Fantasy', 'Animation', 'Action', 'Drama', 'Horror', 'Action', 'Documentary', 'Crime', 'Drama', 'Action', 'Horror', 'Documentary', 'Action', 'Horror', 'Comedy', 'Drama', 'Drama', 'Animation', 'Horror', 'Science Fiction', 'Drama', 'Action', 'Drama', 'Drama', 'Animation', 'Comedy', 'Action', 'Drama', 'Horror', 'Horror', 'Animation', 'Documentary', 'Comedy', 'Drama', 'Animation', 'Comedy', 'Action', 'Action', 'Comedy', 'Drama', 'Documentary', 'Crime', 'Horror', 'Drama', 'Mystery', 'Comedy', 'Action', 'Drama', 'Drama', 'Crime', 'Animation', 'Comedy', 'Documentary', 'Comedy', 'Crime', 'Drama', 'TV Movie', 'Horror', 'Romance', 'War', 'Action', 'Horror', 'Romance', 'Comedy', 'Drama', 'Action', 'TV Movie', 'Family', 'Horror', 'Comedy', 'Drama', 'Comedy', 'Drama', 'Documentary', 'Comedy', 'Drama', 'Comedy', 'Animation', 'Comedy', 'Drama', 'Animation', 'Horror', 'Drama', 'Animation', 'Horror', 'Comedy', 'Drama', 'Drama', 'Documentary', 'Adventure', 'Documentary', 'Comedy', 'Drama', 'Drama', 'Animation', 'Animation', 'Action', 'Action', 'Horror', 'Drama', 'Comedy', 'Drama', 'Drama', 'Action', 'Drama', 'Action', 'Foreign', 'Drama', 'Comedy', 'Action', 'Comedy', 'Comedy', 'Drama', 'History', 'Documentary', 'Adventure', 'Comedy', 'Music', 'Family', 'Comedy', 'Documentary', 'Documentary', 'Comedy', 'Comedy', 'Drama', 'Action', 'Drama', 'Drama', 'Comedy', 'Crime', 'Documentary', 'Comedy', 'Comedy', 'Science Fiction', 'Horror', 'Drama', 'Science Fiction', 'Animation', 'Action', 'Drama', 'Drama', 'Drama', 'Thriller', 'Horror', 'Drama', 'Documentary', 'Comedy', 'Drama', 'Drama', 'Crime', 'Horror', 'Horror', 'Horror', 'Horror', 'Drama', 'Drama', 'Comedy', 'Horror', 'Animation', 'Drama', 'Drama', 'Thriller', 'Drama', 'Animation', 'Comedy', 'Comedy', 'Action', 'Drama', 'Comedy', 'Horror', 'Action', 'Animation', 'Thriller', 'Action', 'Action', 'Documentary', 'Horror', 'Thriller', 'Drama', 'Documentary', 'Comedy', 'Drama', 'Drama', 'Comedy', 'Family', 'Comedy', 'Horror', 'Drama', 'Action', 'Horror', 'Comedy', 'Comedy', 'Comedy', 'Fantasy', 'Documentary', 'Mystery', 'Documentary', 'Comedy', 'Action', 'Horror', 'Drama', 'Horror', 'Animation', 'Drama', 'Drama', 'Romance', 'Drama', 'Comedy', 'Action', 'Horror', 'Crime', 'Drama', 'Documentary', 'Documentary', 'Crime', 'Adventure', 'Drama', 'Horror', 'Comedy', 'Comedy', 'Horror', 'Drama', 'Action', 'TV Movie', 'Drama', 'Comedy', 'Animation', 'Comedy', 'Drama', 'Music', 'Drama', 'Drama', 'Documentary', 'Animation', 'Drama', 'Documentary', 'Documentary', 'Comedy', 'Action', 'Documentary', 'Documentary', 'Drama', 'Documentary', 'Comedy', 'Music', 'Drama', 'Animation', 'Horror', 'Documentary', 'Comedy', 'Documentary', 'Action', 'Drama', 'Action', 'Drama', 'Adventure', 'Adventure', 'Fantasy', 'Mystery', 'Adventure', 'Drama', 'Drama', 'Adventure', 'Comedy', 'Romance', 'Animation', 'Comedy', 'Comedy', 'Crime', 'Crime', 'Drama', 'Comedy', 'Drama', 'Fantasy', 'Comedy', 'Fantasy', 'Drama', 'Action', 'Adventure', 'Action', 'Drama', 'Adventure', 'Horror', 'Animation', 'Drama', 'Comedy', 'Comedy', 'Drama', 'Action', 'Comedy', 'Drama', 'Comedy', 'Horror', 'Horror', 'Drama', 'Thriller', 'Comedy', 'Drama', 'Thriller', 'Fantasy', 'Drama', 'Animation', 'Horror', 'Comedy', 'Comedy', 'Comedy', 'Drama', 'Crime', 'Horror', 'Horror', 'Comedy', 'Action', 'Drama', 'Comedy', 'Horror', 'Thriller', 'Horror', 'Comedy', 'Adventure', 'Action', 'Music', 'Crime', 'Romance', 'Drama', 'Drama', 'Action', 'Comedy', 'Drama', 'Music', 'Horror', 'Crime', 'Drama', 'Drama', 'Drama', 'Drama', 'Action', 'Drama', 'Thriller', 'Horror', 'Drama', 'Drama', 'Drama', 'Comedy', 'Action', 'Drama', 'Drama', 'Comedy', 'Action', 'Comedy', 'Fantasy', 'Comedy', 'Drama', 'Comedy', 'Western', 'Action', 'Drama', 'Comedy', 'Drama', 'Drama', 'Comedy', 'Fantasy', 'Drama', 'Drama', 'Comedy', 'Drama', 'Science Fiction', 'Adventure', 'Fantasy', 'Drama', 'Drama', 'Action', 'Comedy', 'Comedy', 'TV Movie', 'Thriller', 'Drama', 'Drama', 'Action', 'Comedy', 'Drama', 'Comedy', 'Comedy', 'Drama', 'Thriller', 'Comedy', 'Drama', 'Action', 'Drama', 'Comedy', 'Drama', 'Comedy', 'Crime', 'Drama', 'Comedy', 'Comedy', 'Drama', 'Drama', 'Comedy', 'Drama', 'Animation', 'Comedy', 'Documentary', 'Drama', 'Comedy', 'Action', 'Fantasy', 'Comedy', 'Drama', 'Comedy', 'Horror', 'Comedy', 'Comedy', 'Documentary', 'Drama', 'Adventure', 'Comedy', 'Drama', 'Drama', 'Drama', 'Action', 'Comedy', 'Family', 'Fantasy', 'Comedy', 'Adventure', 'Comedy', 'Comedy', 'Drama', 'Drama', 'Comedy', 'Horror', 'Comedy', 'Comedy', 'Comedy', 'Animation', 'Action', 'Drama', 'Crime', 'Comedy', 'Romance', 'Comedy', 'Drama', 'Horror', 'Comedy', 'Drama', 'Drama', 'Family', 'Comedy', 'Fantasy', 'Comedy', 'Animation', 'Drama', 'Comedy', 'Comedy', 'Comedy', 'Adventure', 'Drama', 'Drama', 'Animation', 'TV Movie', 'Comedy', 'Comedy', 'Documentary', 'TV Movie', 'Comedy', 'Drama', 'Comedy', 'Comedy', 'Comedy', 'TV Movie', 'Comedy', 'Documentary', 'Animation', 'Thriller', 'TV Movie', 'Foreign', 'Adventure', 'Adventure', 'Thriller', 'Fantasy', 'Fantasy', 'Drama', 'Adventure', 'Comedy', 'Thriller', 'History', 'Action', 'Animation', 'Adventure', 'Drama', 'Comedy', 'Comedy', 'Romance', 'Thriller', 'Comedy', 'Crime', 'War', 'Action', 'Comedy', 'Adventure', 'Comedy', 'Comedy', 'Comedy', 'Action', 'Action', 'Horror', 'Adventure', 'Comedy', 'Comedy', 'Comedy', 'Drama', 'Animation', 'Action', 'Action', 'Action', 'Comedy', 'Animation', 'Animation', 'Action', 'Adventure', 'Animation', 'Drama', 'Comedy', 'Action', 'Horror', 'Comedy', 'Comedy', 'Horror', 'Action', 'Crime', 'Comedy', 'Comedy', 'Adventure', 'Drama', 'Horror', 'Action', 'Mystery', 'Drama', 'Crime', 'Action', 'Action', 'Action', 'Music', 'Animation', 'Drama', 'Comedy', 'Comedy', 'Thriller', 'Horror', 'Adventure', 'Drama', 'Animation', 'Drama', 'Drama', 'Drama', 'Drama', 'Comedy', 'Drama', 'Action', 'Drama', 'Comedy', 'Action', 'Comedy', 'Crime', 'Drama', 'Action', 'Horror', 'Action', 'Drama', 'Mystery', 'Adventure', 'Action', 'Drama', 'Drama', 'Comedy', 'Fantasy', 'Comedy', 'Comedy', 'Drama', 'Action', 'Drama', 'Drama', 'Horror', 'Action', 'Drama', 'Action', 'Comedy', 'Comedy', 'Comedy', 'Horror', 'Adventure', 'Crime', 'Action', 'Drama', 'Comedy', 'Mystery', 'Action', 'Drama', 'Drama', 'Drama', 'Crime', 'Thriller', 'Drama', 'Action', 'Crime', 'Comedy', 'Comedy', 'Action', 'Action', 'Crime', 'Documentary', 'Comedy', 'Drama', 'Drama', 'Drama', 'Action', 'Comedy', 'Romance', 'Comedy', 'Action', 'Action', 'Crime', 'Mystery', 'Thriller', 'Comedy', 'Animation', 'Drama', 'Action', 'Action', 'Comedy', 'Crime', 'Comedy', 'Action', 'Adventure', 'Drama', 'Comedy', 'Drama', 'Comedy', 'Horror', 'Action', 'Action', 'Action', 'Adventure', 'Drama', 'Comedy', 'Adventure', 'Action', 'Comedy', 'Comedy', 'Drama', 'War', 'Action', 'Action', 'Action', 'Comedy', 'Action', 'TV Movie', 'Drama', 'TV Movie', 'Adventure', 'Comedy', 'Drama', 'Animation', 'Adventure', 'Drama', 'Comedy', 'Drama', 'Drama', 'Adventure', 'Comedy', 'Drama', 'Comedy', 'Science Fiction', 'Animation', 'Adventure', 'Comedy', 'Documentary', 'TV Movie', 'Comedy', 'Action', 'Drama', 'Action', 'History', 'Drama', 'Comedy', 'Adventure', 'Documentary', 'Drama', 'Comedy', 'Crime', 'Comedy', 'Animation', 'Action', 'Documentary', 'Comedy', 'Comedy', 'Action', 'Action', 'Action', 'Drama', 'Fantasy', 'TV Movie', 'Adventure', 'Horror', 'Action', 'Fantasy', 'Drama', 'Drama', 'Adventure', 'Drama', 'Romance', 'TV Movie', 'Comedy', 'Adventure', 'Documentary', 'Drama', 'Comedy', 'Drama', 'Animation', 'Action', 'Action', 'Adventure', 'Adventure', 'Adventure', 'Animation', 'Comedy', 'Comedy', 'Fantasy', 'Adventure', 'Science Fiction', 'Drama', 'Family', 'Adventure', 'Adventure', 'Action', 'Action', 'Animation', 'Drama', 'Action', 'Drama', 'Adventure', 'Fantasy', 'Drama', 'Comedy', 'Adventure', 'Action', 'Mystery', 'War', 'Action', 'Action', 'Music', 'Drama', 'Adventure', 'Drama', 'Action', 'Animation', 'Comedy', 'Drama', 'Comedy', 'Comedy', 'Action', 'Comedy', 'Comedy', 'Adventure', 'Drama', 'Thriller', 'Comedy', 'Comedy', 'Comedy', 'Drama', 'Action', 'Drama', 'Fantasy', 'Action', 'Action', 'Horror', 'Drama', 'Comedy', 'Action', 'Comedy', 'Fantasy', 'Drama', 'Comedy', 'Drama', 'Action', 'Drama', 'Comedy', 'Crime', 'Adventure', 'Comedy', 'Comedy', 'Comedy', 'Crime', 'Family', 'Animation', 'Action', 'Comedy', 'Comedy', 'Music', 'Adventure', 'Romance', 'Animation', 'Thriller', 'Horror', 'Comedy', 'Family', 'Drama', 'Animation', 'Drama', 'Drama', 'Action', 'Drama', 'Animation', 'Action', 'Thriller', 'Drama', 'Comedy', 'Action', 'Comedy', 'Drama', 'Family', 'Comedy', 'Thriller', 'Adventure', 'History', 'Fantasy', 'Drama', 'Drama', 'Drama', 'Animation', 'Adventure', 'Comedy', 'Drama', 'Drama', 'Drama', 'Action', 'Drama', 'Drama', 'Action', 'Comedy', 'Drama', 'Comedy', 'Drama', 'Comedy', 'Drama', 'Action', 'Drama', 'Drama', 'Horror', 'Drama', 'Action', 'Thriller', 'Action', 'Adventure', 'Crime', 'Drama', 'Drama', 'Drama', 'Comedy', 'Comedy', 'Comedy', 'Animation', 'Animation', 'Comedy', 'Animation', 'Action', 'Adventure', 'Horror', 'Drama', 'Adventure', 'Drama', 'Drama', 'Drama', 'Comedy', 'Animation', 'Romance', 'Drama', 'Comedy', 'Comedy', 'Drama', 'Action', 'Animation', 'Action', 'Animation', 'Adventure', 'Drama', 'Thriller', 'Horror', 'Comedy', 'Comedy', 'Comedy', 'TV Movie', 'Comedy', 'Crime', 'Drama', 'Drama', 'Horror', 'Comedy', 'Adventure', 'Comedy', 'Science Fiction', 'Horror', 'Comedy', 'Action', 'Crime', 'Horror', 'Romance', 'Comedy', 'Drama', 'Action', 'Comedy', 'Action', 'Animation', 'Documentary', 'Adventure', 'Horror', 'Animation', 'Drama', 'Drama', 'Adventure', 'Drama', 'Comedy', 'Thriller', 'Comedy', 'Action', 'Drama', 'Crime', 'Action', 'Horror', 'Drama', 'Comedy', 'Animation', 'Comedy', 'Drama', 'Documentary', 'Drama', 'Comedy', 'Horror', 'Comedy', 'Animation', 'Horror', 'Horror', 'Drama', 'Horror', 'Crime', 'Animation', 'Drama', 'Crime', 'Animation', 'Comedy', 'Drama', 'Action', 'Action', 'Crime', 'Action', 'Drama', 'Comedy', 'Drama', 'Action', 'Drama', 'Comedy', 'Action', 'Action', 'Fantasy', 'Drama', 'Drama', 'Drama', 'Action', 'Drama', 'Action', 'Drama', 'Drama', 'Adventure', 'Comedy', 'Adventure', 'Comedy', 'Action', 'Thriller', 'Comedy', 'Thriller', 'Comedy', 'Documentary', 'Action', 'Drama', 'Horror', 'Comedy', 'Drama', 'Horror', 'Horror', 'Mystery', 'Horror', 'Action', 'Action', 'Action', 'History', 'Action', 'Drama', 'Comedy', 'Horror', 'Comedy', 'Drama', 'Drama', 'Horror', 'Documentary', 'Horror', 'Comedy', 'Comedy', 'Drama', 'Crime', 'Drama', 'Horror', 'Comedy', 'Horror', 'Documentary', 'Comedy', 'Drama', 'Action', 'Comedy', 'Drama', 'Action', 'Drama', 'Drama', 'Drama', 'Comedy', 'Comedy', 'Comedy', 'Adventure', 'Drama', 'Comedy', 'Comedy', 'Action', 'Adventure', 'Drama', 'War', 'Drama', 'Adventure', 'Horror', 'Comedy', 'Drama', 'Comedy', 'Animation', 'Comedy', 'Drama', 'Comedy', 'Drama', 'Comedy', 'Drama', 'Drama', 'Comedy', 'Romance', 'Drama', 'Drama', 'Horror', 'Comedy', 'Action', 'Drama', 'Horror', 'Drama', 'Drama', 'Action', 'Drama', 'Thriller', 'Action', 'Horror', 'Drama', 'Comedy', 'Music', 'Comedy', 'Comedy', 'Comedy', 'Fantasy', 'Comedy', 'Drama', 'Drama', 'Comedy', 'TV Movie', 'Thriller', 'Action', 'Action', 'Drama', 'Documentary', 'Adventure', 'Drama', 'Animation', 'Horror', 'Drama', 'Adventure', 'Comedy', 'Documentary', 'Action', 'Action', 'Comedy', 'Crime', 'Drama', 'Drama', 'Drama', 'Drama', 'Action', 'Horror', 'Comedy', 'Comedy', 'Action', 'Drama', 'Comedy', 'Action', 'Horror', 'Drama', 'Drama', 'Drama', 'Horror', 'Action', 'Crime', 'Documentary', 'Fantasy', 'Drama', 'Documentary', 'Foreign', 'Documentary', 'Drama', 'Drama', 'Comedy', 'Drama', 'Drama', 'Comedy', 'Comedy', 'Comedy', 'Action', 'Drama', 'Drama', 'Documentary', 'Thriller', 'Adventure', 'Drama', 'Romance', 'Comedy', 'Documentary', 'Action', 'Drama', 'Action', 'Horror', 'Drama', 'Crime', 'Horror', 'Animation', 'Action', 'Documentary', 'Documentary', 'Documentary', 'Action', 'Drama', 'Comedy', 'Crime', 'Horror', 'Drama', 'Foreign', 'Comedy', 'Horror', 'Comedy', 'Horror', 'Comedy', 'Drama', 'Comedy', 'Horror', 'Drama', 'Comedy', 'Comedy', 'Comedy', 'Action', 'Comedy', 'Music', 'Family', 'Comedy', 'Drama', 'Documentary', 'Drama', 'Fantasy', 'Drama', 'Drama', 'Comedy', 'Drama', 'Documentary', 'Documentary', 'Drama', 'Comedy', 'Comedy', 'Horror', 'Comedy', 'Drama', 'Drama', 'Documentary', 'Comedy', 'Comedy', 'Adventure', 'Crime', 'Comedy', 'Documentary', 'Animation', 'History', 'Comedy', 'Drama', 'Comedy', 'Drama', 'Drama', 'Family', 'Science Fiction', 'Comedy', 'Music', 'Documentary', 'Documentary', 'Comedy', 'Family', 'Comedy', 'Action', 'Action', 'Drama', 'Adventure', 'Adventure', 'Thriller', 'Adventure', 'Action', 'Fantasy', 'Action', 'Thriller', 'Action', 'Comedy', 'Thriller', 'Thriller', 'Animation', 'Romance', 'Comedy', 'Action', 'Comedy', 'Comedy', 'Adventure', 'Animation', 'Adventure', 'Comedy', 'Comedy', 'Adventure', 'Romance', 'Comedy', 'Thriller', 'Action', 'Thriller', 'Adventure', 'Drama', 'Animation', 'Comedy', 'Drama', 'Action', 'Animation', 'Drama', 'Comedy', 'Action', 'Animation', 'Drama', 'Comedy', 'Animation', 'Comedy', 'Adventure', 'Crime', 'Action', 'Drama', 'Action', 'Drama', 'Animation', 'Adventure', 'Mystery', 'Comedy', 'Horror', 'Fantasy', 'Action', 'Drama', 'Comedy', 'Action', 'Thriller', 'Action', 'Thriller', 'Fantasy', 'Drama', 'Comedy', 'Adventure', 'Drama', 'Comedy', 'Action', 'Action', 'Horror', 'Action', 'Comedy', 'Comedy', 'Adventure', 'Drama', 'Horror', 'Drama', 'Comedy', 'Horror', 'Drama', 'Action', 'Drama', 'Drama', 'Thriller', 'Action', 'Drama', 'Action', 'Comedy', 'Adventure', 'Comedy', 'Crime', 'Drama', 'Animation', 'Comedy', 'Drama', 'Comedy', 'Horror', 'Action', 'Comedy', 'Adventure', 'Animation', 'Drama', 'Animation', 'Drama', 'Horror', 'Horror', 'Music', 'Horror', 'Adventure', 'Action', 'Family', 'Animation', 'Drama', 'Science Fiction', 'Comedy', 'Drama', 'Thriller', 'Drama', 'Animation', 'Drama', 'Action', 'Thriller', 'Drama', 'Comedy', 'Drama', 'Drama', 'Mystery', 'Thriller', 'Animation', 'Crime', 'Comedy', 'Comedy', 'Animation', 'Drama', 'Horror', 'Action', 'War', 'Comedy', 'Drama', 'Drama', 'Comedy', 'Crime', 'Comedy', 'Drama', 'Drama', 'Family', 'Action', 'Horror', 'Horror', 'Comedy', 'Comedy', 'Comedy', 'Drama', 'Horror', 'Adventure', 'Comedy', 'Family', 'Crime', 'Drama', 'Comedy', 'Drama', 'Action', 'Animation', 'Comedy', 'Comedy', 'Family', 'Comedy', 'Adventure', 'Comedy', 'Crime', 'Thriller', 'Drama', 'Animation', 'Comedy', 'Horror', 'Comedy', 'Action', 'Horror', 'Drama', 'Action', 'Comedy', 'Drama', 'Drama', 'Action', 'Drama', 'Comedy', 'Drama', 'Action', 'Action', 'Drama', 'Comedy', 'Drama', 'Action', 'Comedy', 'Action', 'Drama', 'Comedy', 'War', 'Action', 'Action', 'Drama', 'Drama', 'Drama', 'Comedy', 'Horror', 'Comedy', 'Comedy', 'Crime', 'Drama', 'Thriller', 'Comedy', 'Drama', 'Crime', 'Documentary', 'Adventure', 'Animation', 'Crime', 'Animation', 'Thriller', 'Drama', 'Drama', 'Science Fiction', 'Adventure', 'Action', 'Comedy', 'Drama', 'Animation', 'Science Fiction', 'Crime', 'Thriller', 'Horror', 'Action', 'Comedy', 'Horror', 'Drama', 'Music', 'Comedy', 'Drama', 'Documentary', 'Action', 'Drama', 'Horror', 'Adventure', 'Action', 'Drama', 'Action', 'Action', 'Drama', 'Animation', 'Comedy', 'Horror', 'Comedy', 'Comedy', 'Drama', 'Family', 'Horror', 'Action', 'Drama', 'Drama', 'Thriller', 'Drama', 'Action', 'Documentary', 'Drama', 'Thriller', 'Action', 'Adventure', 'Drama', 'Horror', 'Drama', 'Drama', 'Comedy', 'Thriller', 'Drama', 'Adventure', 'Comedy', 'Comedy', 'Family', 'Drama', 'Drama', 'Adventure', 'Horror', 'Comedy', 'Comedy', 'Comedy', 'History', 'Animation', 'Action', 'Horror', 'Science Fiction', 'Drama', 'Horror', 'Drama', 'Drama', 'Music', 'Action', 'Fantasy', 'Romance', 'Drama', 'Horror', 'Horror', 'Drama', 'Drama', 'Documentary', 'Horror', 'Drama', 'Drama', 'Comedy', 'Action', 'Action', 'Comedy', 'Drama', 'Action', 'Drama', 'Adventure', 'Drama', 'Horror', 'Drama', 'Drama', 'Thriller', 'Action', 'Crime', 'Drama', 'Crime', 'Adventure', 'Drama', 'Drama', 'Science Fiction', 'Thriller', 'Drama', 'Horror', 'Comedy', 'Drama', 'Fantasy', 'Adventure', 'Drama', 'Action', 'Horror', 'Drama', 'Horror', 'Action', 'Drama', 'Documentary', 'Action', 'Drama', 'Drama', 'Comedy', 'Drama', 'Comedy', 'Action', 'Comedy', 'Action', 'Family', 'Comedy', 'Animation', 'Drama', 'Drama', 'History', 'Drama', 'Family', 'Mystery', 'Music', 'Drama', 'Drama', 'Drama', 'Thriller', 'Drama', 'Drama', 'Drama', 'Animation', 'Horror', 'Thriller', 'Drama', 'Comedy', 'Horror', 'Horror', 'Drama', 'Comedy', 'Horror', 'Drama', 'Fantasy', 'Comedy', 'Horror', 'Documentary', 'Drama', 'Fantasy', 'Comedy', 'Science Fiction', 'Adventure', 'Animation', 'Documentary', 'Thriller', 'Science Fiction', 'Drama', 'Thriller', 'Drama', 'Documentary', 'Documentary', 'Documentary', 'Horror', 'Thriller', 'Animation', 'Documentary', 'Comedy', 'Drama', 'Documentary', 'Horror', 'Action', 'Horror', 'Action', 'Drama', 'Animation', 'Science Fiction', 'Documentary', 'Drama', 'Drama', 'Adventure', 'Drama', 'Music', 'Comedy', 'Documentary', 'TV Movie', 'Documentary', 'Action', 'Animation', 'Action', 'Action', 'Comedy', 'Comedy', 'Drama', 'Crime', 'Horror', 'Comedy', 'History', 'Comedy', 'Crime', 'Action', 'Action', 'Documentary', 'Horror', 'Crime', 'Action', 'Comedy', 'Documentary', 'Comedy', 'Thriller', 'Comedy', 'Horror', 'Comedy', 'Horror', 'Crime', 'Comedy', 'Horror', 'Comedy', 'Documentary', 'Comedy', 'Documentary', 'Family', 'Horror', 'Music', 'Horror', 'Horror', 'Fantasy', 'Horror', 'Comedy', 'Action', 'Documentary', 'Comedy', 'Horror', 'Adventure', 'Documentary', 'Action', 'Documentary', 'Adventure', 'Drama', 'Comedy', 'Comedy', 'Drama', 'Documentary', 'Family', 'Horror', 'Horror', 'Action', 'TV Movie', 'Documentary', 'Comedy', 'Romance', 'Horror', 'Documentary', 'Fantasy', 'Music', 'Comedy', 'Documentary', 'Documentary', 'Drama', 'Drama', 'Foreign', 'Comedy', 'TV Movie', 'Fantasy', 'Adventure', 'Horror', 'Comedy', 'Action', 'Documentary', 'Documentary', 'Drama', 'Drama', 'Romance', 'Horror', 'Drama', 'Comedy', 'Horror', 'Adventure', 'Fantasy', 'Animation', 'Documentary', 'Documentary', 'Documentary', 'Science Fiction', 'Drama', 'Comedy', 'Comedy', 'Comedy', 'Drama', 'Documentary', 'Drama', 'Drama', 'Comedy', 'Drama', 'Documentary', 'Documentary', 'Drama', 'Comedy', 'Documentary', 'Adventure', 'Adventure', 'Animation', 'Action', 'Horror', 'Fantasy', 'Adventure', 'Drama', 'Action', 'Drama', 'Action', 'Animation', 'Action', 'Action', 'Adventure', 'Adventure', 'Horror', 'Comedy', 'Science Fiction', 'Drama', 'Crime', 'Family', 'Comedy', 'Drama', 'Comedy', 'Comedy', 'Animation', 'Romance', 'Drama', 'Horror', 'Crime', 'Drama', 'Comedy', 'Drama', 'Adventure', 'Action', 'Thriller', 'Science Fiction', 'Action', 'Drama', 'Drama', 'Thriller', 'Science Fiction', 'Fantasy', 'Crime', 'Horror', 'Mystery', 'Thriller', 'Western', 'Action', 'Comedy', 'Action', 'Action', 'Documentary', 'Crime', 'Drama', 'Animation', 'Thriller', 'Thriller', 'Action', 'Comedy', 'Comedy', 'Drama', 'Crime', 'Comedy', 'Comedy', 'Comedy', 'Action', 'Science Fiction', 'Action', 'Romance', 'Comedy', 'Drama', 'Drama', 'Animation', 'Comedy', 'Animation', 'Drama', 'Action', 'Comedy', 'Thriller', 'Adventure', 'Action', 'Thriller', 'Drama', 'Action', 'Animation', 'Action', 'Comedy', 'Adventure', 'Adventure', 'Comedy', 'Comedy', 'Comedy', 'Adventure', 'Action', 'Horror', 'Thriller', 'Comedy', 'Drama', 'Comedy', 'Horror', 'Action', 'Action', 'Comedy', 'Drama', 'Romance', 'Drama', 'Drama', 'Adventure', 'Crime', 'Drama', 'Comedy', 'War', 'Drama', 'Family', 'Drama', 'Comedy', 'Drama', 'Action', 'Adventure', 'Drama', 'Drama', 'Action', 'Action', 'Comedy', 'Romance', 'Horror', 'Horror', 'Drama', 'Science Fiction', 'Action', 'Comedy', 'Action', 'Action', 'Comedy', 'Comedy', 'Adventure', 'Horror', 'Drama', 'Horror', 'Action', 'Comedy', 'Action', 'Action', 'Documentary', 'Action', 'Horror', 'Action', 'Comedy', 'Animation', 'Comedy', 'Comedy', 'Comedy', 'Drama', 'Comedy', 'Comedy', 'Science Fiction', 'Drama', 'Comedy', 'Drama', 'Comedy', 'Adventure', 'Comedy', 'Drama', 'Drama', 'Action', 'Action', 'Mystery', 'Drama', 'Drama', 'TV Movie', 'Horror', 'Drama', 'Drama', 'Drama', 'Crime', 'Drama', 'Comedy', 'Action', 'Animation', 'Drama', 'Action', 'Drama', 'Comedy', 'Comedy', 'Mystery', 'Drama', 'Comedy', 'Animation', 'Drama', 'Drama', 'Comedy', 'Crime', 'Comedy', 'Crime', 'Comedy', 'Drama', 'Comedy', 'Mystery', 'Comedy', 'Comedy', 'Action', 'Action', 'Horror', 'Comedy', 'Drama', 'Animation', 'Drama', 'Action', 'Comedy', 'Comedy', 'Drama', 'Action', 'Drama', 'Comedy', 'Documentary', 'Comedy', 'Comedy', 'Action', 'Comedy', 'Action', 'Horror', 'Action', 'Drama', 'Action', 'Comedy', 'Drama', 'Action', 'Documentary', 'Action', 'Fantasy', 'Thriller', 'Crime', 'Action', 'Crime', 'Documentary', 'Drama', 'Family', 'Drama', 'War', 'Documentary', 'Mystery', 'Comedy', 'Fantasy', 'Comedy', 'Drama', 'Drama', 'Horror', 'Comedy', 'Action', 'Comedy', 'Comedy', 'Documentary', 'Comedy', 'Crime', 'Action', 'Action', 'Comedy', 'Animation', 'Action', 'Horror', 'Action', 'Comedy', 'Documentary', 'Documentary', 'Thriller', 'Drama', 'Comedy', 'Family', 'Action', 'Comedy', 'Comedy', 'Horror', 'Adventure', 'Action', 'Romance', 'Action', 'Action', 'Action', 'Crime', 'Comedy', 'Action', 'Fantasy', 'Drama', 'Drama', 'Comedy', 'Adventure', 'Action', 'Drama', 'Fantasy', 'Comedy', 'Fantasy', 'Fantasy', 'Science Fiction', 'Comedy', 'Comedy', 'Action', 'Drama', 'Comedy', 'Horror', 'Adventure', 'Drama', 'Fantasy', 'Fantasy', 'Adventure', 'Comedy', 'Animation', 'Thriller', 'Comedy', 'Thriller', 'Drama', 'Comedy', 'Drama', 'Drama', 'History', 'Action', 'Crime', 'Drama', 'Action', 'Action', 'Drama', 'Animation', 'Action', 'Action', 'Comedy', 'Action', 'Action', 'Family', 'Drama', 'Comedy', 'Action', 'Family', 'Drama', 'Comedy', 'Comedy', 'Drama', 'Drama', 'Adventure', 'Action', 'Fantasy', 'Comedy', 'Drama', 'Fantasy', 'Drama', 'Drama', 'Fantasy', 'Crime', 'Comedy', 'Crime', 'Action', 'Drama', 'Comedy', 'Comedy', 'Mystery', 'Comedy', 'Thriller', 'Action', 'Comedy', 'Drama', 'Horror', 'Comedy', 'Comedy', 'Documentary', 'Comedy', 'Comedy', 'Action', 'Comedy', 'Crime', 'Comedy', 'Comedy', 'Western', 'Action', 'Drama', 'Comedy', 'Comedy', 'Action', 'Comedy', 'Comedy', 'Crime', 'Comedy', 'Comedy', 'Comedy', 'Drama', 'Action', 'Action', 'Drama', 'Drama', 'Action', 'Action', 'Action', 'Drama', 'Romance', 'Action', 'Action', 'Horror', 'Romance', 'Drama', 'Comedy', 'Comedy', 'Comedy', 'Action', 'Comedy', 'Comedy', 'Action', 'Comedy', 'Adventure', 'Drama', 'Drama', 'Action', 'Drama', 'Crime', 'Comedy', 'Adventure', 'Comedy', 'Thriller', 'Adventure', 'Drama', 'Comedy', 'Drama', 'Drama', 'Drama', 'Action', 'Comedy', 'Horror', 'Action', 'Comedy', 'Comedy', 'Drama', 'Documentary', 'Adventure', 'Action', 'Science Fiction', 'Science Fiction', 'Horror', 'Comedy', 'Action', 'Thriller', 'Action', 'Comedy', 'Fantasy', 'Comedy', 'Action', 'Comedy', 'Action', 'Action', 'Drama', 'Action', 'Action', 'Action', 'Science Fiction', 'Fantasy', 'Action', 'Drama', 'Action', 'Action', 'Adventure', 'Science Fiction', 'Drama', 'Action', 'Animation', 'Adventure', 'Action', 'Adventure', 'Animation', 'Comedy', 'Crime', 'Drama', 'Family', 'Comedy', 'Action', 'Science Fiction', 'Action', 'Drama', 'Action', 'Action', 'Comedy', 'Drama', 'Drama', 'Comedy', 'Drama', 'Horror', 'Fantasy', 'Drama', 'Adventure', 'Thriller', 'Action', 'Action', 'Romance', 'Action', 'Animation', 'Comedy', 'Animation', 'Action', 'Thriller', 'Drama', 'Animation', 'Action', 'Drama', 'Adventure', 'Action', 'Action', 'Adventure', 'Thriller', 'Thriller', 'Adventure', 'Music', 'Science Fiction', 'Action', 'Animation', 'Horror', 'Action', 'Crime', 'Drama', 'Drama', 'Romance', 'Comedy', 'Action', 'Drama', 'Comedy', 'Thriller', 'Drama', 'Animation', 'Animation', 'Crime', 'Drama', 'Thriller', 'Comedy', 'Action', 'Comedy', 'Drama', 'Comedy', 'Animation', 'Drama', 'Crime', 'Comedy', 'Comedy', 'Action', 'Comedy', 'Drama', 'Animation', 'Comedy', 'Action', 'Crime', 'Action', 'Action', 'Drama', 'Drama', 'Action', 'Comedy', 'Adventure', 'Drama', 'Horror', 'Horror', 'Drama', 'Drama', 'Horror', 'Drama', 'Horror', 'Thriller', 'Crime', 'Action', 'Animation', 'Drama', 'Thriller', 'Comedy', 'Drama', 'War', 'Thriller', 'Comedy', 'Drama', 'Drama', 'Drama', 'Action', 'Comedy', 'Comedy', 'Drama', 'Drama', 'Drama', 'Thriller', 'Action', 'Drama', 'Romance', 'Horror', 'Drama', 'Comedy', 'Horror', 'Action', 'Action', 'Drama', 'Drama', 'Fantasy', 'Comedy', 'Thriller', 'Family', 'Drama', 'Comedy', 'Drama', 'Drama', 'Action', 'Drama', 'Drama', 'Thriller', 'Thriller', 'Comedy', 'Comedy', 'Horror', 'TV Movie', 'Crime', 'Comedy', 'Family', 'Comedy', 'Action', 'Drama', 'Drama', 'Drama', 'Animation', 'Drama', 'Family', 'Drama', 'Action', 'Drama', 'Adventure', 'Horror', 'Drama', 'Adventure', 'Drama', 'Thriller', 'Action', 'Horror', 'Science Fiction', 'Horror', 'Comedy', 'Action', 'Action', 'Comedy', 'Comedy', 'Drama', 'Comedy', 'Drama', 'Horror', 'Animation', 'Comedy', 'Comedy', 'Comedy', 'Horror', 'Horror', 'Comedy', 'Thriller', 'Action', 'Horror', 'Horror', 'Thriller', 'Horror', 'Drama', 'Comedy', 'Drama', 'Drama', 'Adventure', 'Comedy', 'Drama', 'Action', 'Science Fiction', 'Thriller', 'Thriller', 'Comedy', 'Drama', 'Science Fiction', 'Horror', 'Crime', 'Drama', 'Horror', 'Comedy', 'Fantasy', 'Adventure', 'Drama', 'Horror', 'Drama', 'Drama', 'Horror', 'Action', 'Horror', 'Drama', 'Horror', 'Animation', 'Horror', 'Comedy', 'Comedy', 'Fantasy', 'Drama', 'Animation', 'Action', 'Comedy', 'Animation', 'Documentary', 'Horror', 'Documentary', 'Drama', 'Drama', 'Thriller', 'Comedy', 'Comedy', 'Horror', 'Comedy', 'Drama', 'Science Fiction', 'Horror', 'Comedy', 'Horror', 'Action', 'Comedy', 'Action', 'Comedy', 'Drama', 'Drama', 'Adventure', 'Science Fiction', 'Drama', 'Drama', 'Horror', 'Drama', 'Drama', 'Drama', 'Drama', 'Science Fiction', 'Documentary', 'Horror', 'Comedy', 'Adventure', 'Comedy', 'Action', 'Drama', 'Comedy', 'Documentary', 'Comedy', 'Adventure', 'Comedy', 'Horror', 'Horror', 'Comedy', 'Thriller', 'Drama', 'Mystery', 'Drama', 'Animation', 'Drama', 'Drama', 'Comedy', 'Horror', 'Fantasy', 'Drama', 'Comedy', 'Drama', 'Action', 'Drama', 'Horror', 'Comedy', 'Drama', 'Comedy', 'Comedy', 'Comedy', 'Comedy', 'Action', 'Comedy', 'Comedy', 'Mystery', 'Documentary', 'Animation', 'Thriller', 'Comedy', 'Crime', 'Horror', 'Action', 'Drama', 'Science Fiction', 'Action', 'Family', 'Action', 'Action', 'Comedy', 'Music', 'Documentary', 'Horror', 'Drama', 'Drama', 'Animation', 'Drama', 'Comedy', 'Horror', 'Horror', 'Documentary', 'Horror', 'Comedy', 'Drama', 'Action', 'Drama', 'Horror', 'Fantasy', 'Thriller', 'Documentary', 'Comedy', 'Thriller', 'Drama', 'Action', 'Animation', 'Horror', 'Action', 'Horror', 'Drama', 'Documentary', 'Horror', 'Comedy', 'Action', 'Comedy', 'Drama', 'Drama', 'Crime', 'Drama', 'Drama', 'Drama', 'Documentary', 'Adventure', 'Science Fiction', 'Horror', 'Science Fiction', 'Horror', 'Drama', 'Animation', 'Drama', 'Comedy', 'Documentary', 'Comedy', 'Action', 'Thriller', 'Comedy', 'Comedy', 'Comedy', 'Horror', 'Documentary', 'Thriller', 'Drama', 'Drama', 'Comedy', 'Crime', 'Drama', 'Drama', 'Drama', 'Comedy', 'Comedy', 'Science Fiction', 'Thriller', 'Action', 'Animation', 'Drama', 'Documentary', 'Documentary', 'Documentary', 'Horror', 'Horror', 'Horror', 'Action', 'Thriller', 'Action', 'Drama', 'Drama', 'Drama', 'Drama', 'Comedy', 'Drama', 'Drama', 'Thriller', 'Comedy', 'Drama', 'Adventure', 'Drama', 'Drama', 'Comedy', 'Drama', 'Drama', 'Documentary', 'Action', 'Family', 'Comedy', 'Action', 'Comedy', 'Thriller', 'Comedy', 'Comedy', 'Action', 'Music', 'Action', 'Drama', 'Thriller', 'Crime', 'Horror', 'Comedy', 'Drama', 'Action', 'Drama', 'Horror', 'Drama', 'Comedy', 'Drama', 'Action', 'Animation', 'Horror', 'Action', 'Science Fiction', 'Drama', 'Adventure', 'Drama', 'Documentary', 'Documentary', 'Thriller', 'Documentary', 'TV Movie', 'Drama', 'Thriller', 'Music', 'Drama', 'Adventure', 'Horror', 'Family', 'Horror', 'Drama', 'Romance', 'Documentary', 'Science Fiction', 'Horror', 'Drama', 'Action', 'Drama', 'Adventure', 'Drama', 'Drama', 'Music', 'Mystery', 'Horror', 'Family', 'Comedy', 'Comedy', 'Comedy', 'Documentary', 'Documentary', 'Documentary', 'Animation', 'Music', 'Thriller', 'Comedy', 'Horror', 'Drama', 'Drama', 'Mystery', 'Action', 'Comedy', 'Horror', 'Comedy', 'TV Movie', 'Comedy', 'Documentary', 'Comedy', 'Drama', 'Drama', 'Comedy', 'Family', 'Comedy', 'Horror', 'Drama', 'Action', 'Animation', 'Documentary', 'Drama', 'Comedy', 'Horror', 'Documentary', 'Documentary', 'Family', 'Comedy', 'Drama', 'Documentary', 'Documentary', 'Documentary', 'Drama', 'Documentary', 'Documentary', 'Comedy', 'Drama', 'Comedy', 'Documentary', 'Drama', 'Comedy', 'Comedy', 'Comedy', 'Drama', 'Horror', 'Horror', 'Drama', 'Comedy', 'Romance', 'Documentary', 'Drama', 'Comedy', 'Documentary', 'Drama', 'Music', 'Documentary', 'Animation', 'Romance', 'Documentary', 'Comedy', 'Horror', 'Horror', 'Comedy', 'Thriller', 'Drama', 'Documentary', 'Documentary', 'Comedy', 'Fantasy', 'Comedy', 'Drama', 'Family', 'Drama', 'Drama', 'Documentary', 'TV Movie', 'Drama', 'Drama', 'Music', 'Comedy', 'TV Movie', 'Documentary', 'Documentary', 'Crime', 'Adventure', 'Fantasy', 'Adventure', 'Action', 'Adventure', 'Adventure', 'Animation', 'Fantasy', 'Comedy', 'Romance', 'Action', 'Drama', 'Adventure', 'Fantasy', 'Comedy', 'Fantasy', 'Thriller', 'Family', 'Drama', 'Drama', 'Adventure', 'Animation', 'Adventure', 'Comedy', 'Music', 'Action', 'Comedy', 'Drama', 'Adventure', 'Action', 'Horror', 'Mystery', 'Adventure', 'Drama', 'Thriller', 'Animation', 'Comedy', 'Action', 'Action', 'Action', 'Animation', 'Comedy', 'Comedy', 'Action', 'Action', 'Action', 'Comedy', 'Fantasy', 'Comedy', 'Comedy', 'Family', 'Action', 'Action', 'Action', 'Drama', 'Thriller', 'Action', 'Horror', 'Drama', 'Horror', 'Adventure', 'Horror', 'Action', 'Comedy', 'Drama', 'Crime', 'Adventure', 'Thriller', 'Drama', 'Horror', 'Action', 'Animation', 'Animation', 'Action', 'Adventure', 'Animation', 'Action', 'Comedy', 'Adventure', 'Action', 'Comedy', 'Action', 'Western', 'Comedy', 'Comedy', 'Comedy', 'Comedy', 'Comedy', 'Drama', 'Thriller', 'Horror', 'Comedy', 'Drama', 'Action', 'Action', 'Action', 'Action', 'Action', 'Drama', 'Crime', 'Drama', 'Drama', 'Animation', 'Comedy', 'Comedy', 'Horror', 'Drama', 'Drama', 'Comedy', 'Comedy', 'Crime', 'Thriller', 'Horror', 'Comedy', 'Drama', 'Drama', 'Drama', 'Drama', 'Drama', 'Comedy', 'Drama', 'Action', 'Drama', 'Comedy', 'Crime', 'Comedy', 'Comedy', 'Comedy', 'Drama', 'Drama', 'Comedy', 'Drama', 'Comedy', 'Horror', 'Drama', 'Documentary', 'Drama', 'Crime', 'Horror', 'Comedy', 'Action', 'Drama', 'Drama', 'Drama', 'TV Movie', 'Adventure', 'Comedy', 'Adventure', 'Action', 'Thriller', 'Comedy', 'Thriller', 'Comedy', 'Comedy', 'Comedy', 'Animation', 'Animation', 'Drama', 'Drama', 'Comedy', 'Comedy', 'Fantasy', 'Romance', 'Thriller', 'Horror', 'Action', 'Action', 'Drama', 'Horror', 'Animation', 'Animation', 'Action', 'Drama', 'Action', 'Action', 'Horror', 'Action', 'Animation', 'Drama', 'Comedy', 'Mystery', 'Action', 'Drama', 'Comedy', 'Comedy', 'Documentary', 'Action', 'Comedy', 'Drama', 'Action', 'Crime', 'Fantasy', 'Animation', 'Family', 'Comedy', 'Drama', 'Action', 'Comedy', 'Thriller', 'Comedy', 'Comedy', 'Thriller', 'Documentary', 'Drama', 'Comedy', 'Science Fiction', 'Action', 'Action', 'Drama', 'Comedy', 'Comedy', 'Documentary', 'Crime', 'Science Fiction', 'Drama', 'Drama', 'Science Fiction', 'Drama', 'Action', 'Action', 'Crime', 'Documentary', 'Thriller', 'Horror', 'Drama', 'Comedy', 'Documentary', 'Drama', 'Drama', 'Animation', 'Drama', 'Drama', 'Drama', 'Comedy', 'Comedy', 'Adventure', 'Comedy', 'Crime', 'Fantasy', 'Drama', 'Comedy', 'War', 'Drama', 'Comedy', 'War', 'Comedy', 'Comedy', 'Comedy', 'Comedy', 'Comedy', 'Comedy', 'Horror', 'Horror', 'Crime', 'Drama', 'Science Fiction', 'Animation', 'Drama', 'Drama', 'Action', 'Music', 'Drama', 'Drama', 'Comedy', 'Action', 'Drama', 'Comedy', 'Comedy', 'Horror', 'Comedy', 'Documentary', 'Science Fiction', 'Crime', 'Action', 'Comedy', 'Drama', 'Family', 'Action', 'Animation', 'Science Fiction', 'Drama', 'Comedy', 'Drama', 'Animation', 'Action', 'Thriller', 'Adventure', 'Action', 'Action', 'Adventure', 'Drama', 'Action', 'Science Fiction', 'Drama', 'Horror', 'Animation', 'Comedy', 'Science Fiction', 'Adventure', 'Comedy', 'Action', 'Action', 'Crime', 'Horror', 'Drama', 'Adventure', 'Comedy', 'Action', 'Action', 'Crime', 'Horror', 'Comedy', 'Animation', 'Drama', 'Drama', 'Drama', 'Science Fiction', 'Action', 'Action', 'Thriller', 'Comedy', 'Thriller', 'Action', 'Action', 'Adventure', 'Comedy', 'Comedy', 'Drama', 'History', 'Comedy', 'Drama', 'Drama', 'Action', 'Adventure', 'Action', 'Family', 'Comedy', 'Crime', 'Comedy', 'Action', 'Adventure', 'Drama', 'Crime', 'Comedy', 'Thriller', 'Family', 'Fantasy', 'Drama', 'Drama', 'Action', 'Action', 'Thriller', 'Drama', 'Drama', 'Action', 'Horror', 'Comedy', 'Drama', 'Action', 'Fantasy', 'Comedy', 'Comedy', 'Animation', 'Crime', 'Fantasy', 'Comedy', 'Action', 'Action', 'Comedy', 'Drama', 'Animation', 'Comedy', 'Drama', 'Action', 'Action', 'Documentary', 'Adventure', 'Drama', 'Drama', 'Comedy', 'Comedy', 'Drama', 'Action', 'Animation', 'Action', 'Action', 'Comedy', 'Action', 'Action', 'Drama', 'Fantasy', 'Horror', 'Comedy', 'Crime', 'Action', 'Action', 'Adventure', 'Fantasy', 'Action', 'Comedy', 'Action', 'Drama', 'Drama', 'Comedy', 'Comedy', 'Science Fiction', 'Action', 'Drama', 'Science Fiction', 'Comedy', 'Drama', 'Drama', 'Drama', 'Drama', 'Action', 'Comedy', 'Drama', 'Drama', 'Comedy', 'Comedy', 'Drama', 'Drama', 'Action', 'Action', 'Science Fiction', 'Crime', 'Comedy', 'Drama', 'Action', 'Drama', 'Drama', 'Crime', 'Crime', 'Comedy', 'Action', 'Comedy', 'Fantasy', 'Horror', 'Drama', 'Comedy', 'Drama', 'Drama', 'Adventure', 'Action', 'Action', 'Action', 'Comedy', 'Action', 'Drama', 'Thriller', 'Fantasy', 'Comedy', 'Drama', 'Comedy', 'Family', 'Family', 'Comedy', 'Documentary', 'Action', 'Adventure', 'Fantasy', 'Adventure', 'Drama', 'Comedy', 'Animation', 'Comedy', 'Drama', 'Comedy', 'Comedy', 'Fantasy', 'Comedy', 'Comedy', 'Drama', 'Animation', 'Science Fiction', 'Action', 'Action', 'Thriller', 'Science Fiction', 'Crime', 'Action', 'Action', 'Adventure', 'Action', 'Romance', 'Animation', 'Action', 'Drama', 'Science Fiction', 'Horror', 'Drama', 'Drama', 'Science Fiction', 'Action', 'Science Fiction', 'Animation', 'Action', 'Adventure', 'Science Fiction', 'Comedy', 'Action', 'Comedy', 'Drama', 'Adventure', 'Drama', 'Action', 'Adventure', 'Drama', 'Comedy', 'Drama', 'Horror', 'Comedy', 'Fantasy', 'Action', 'Animation', 'Action', 'Animation', 'Action', 'Drama', 'Drama', 'Fantasy', 'Action', 'Animation', 'Drama', 'Comedy', 'Thriller', 'Horror', 'Comedy', 'Crime', 'Horror', 'Drama', 'Drama', 'Comedy', 'Comedy', 'Adventure', 'Action', 'Action', 'Drama', 'Action', 'Thriller', 'Action', 'Comedy', 'Comedy', 'Comedy', 'Drama', 'Action', 'Crime', 'Action', 'Drama', 'Comedy', 'Action', 'Comedy', 'Action', 'Science Fiction', 'Drama', 'Action', 'Comedy', 'Action', 'Horror', 'Action', 'Crime', 'Comedy', 'Action', 'Drama', 'Drama', 'Action', 'Horror', 'Comedy', 'Thriller', 'Comedy', 'Animation', 'Fantasy', 'Animation', 'Action', 'Thriller', 'Horror', 'Mystery', 'Action', 'Drama', 'Drama', 'Horror', 'Action', 'Adventure', 'Comedy', 'Drama', 'Drama', 'Comedy', 'Comedy', 'Animation', 'Comedy', 'Drama', 'Animation', 'Action', 'Romance', 'Science Fiction', 'War', 'Comedy', 'Drama', 'Action', 'Drama', 'Animation', 'Crime', 'Comedy', 'Drama', 'Science Fiction', 'Thriller', 'Comedy', 'Comedy', 'Drama', 'Thriller', 'Crime', 'Comedy', 'Drama', 'Comedy', 'Drama', 'Thriller', 'Drama', 'Drama', 'Drama', 'Thriller', 'Romance', 'Science Fiction', 'Thriller', 'Animation', 'Animation', 'Mystery', 'Horror', 'Action', 'Fantasy', 'Thriller', 'Fantasy', 'Drama', 'Drama', 'Drama', 'Comedy', 'Comedy', 'Drama', 'Fantasy', 'Thriller', 'Action', 'Thriller', 'Animation', 'Drama', 'Thriller', 'Comedy', 'Comedy', 'Comedy', 'Adventure', 'Thriller', 'Action', 'Comedy', 'Comedy', 'Comedy', 'Action', 'Comedy', 'Comedy', 'Action', 'Horror', 'Comedy', 'Horror', 'Comedy', 'Drama', 'Science Fiction', 'Crime', 'Drama', 'Action', 'Romance', 'Comedy', 'Comedy', 'Horror', 'Horror', 'Horror', 'Science Fiction', 'Action', 'Thriller', 'Drama', 'Science Fiction', 'Comedy', 'Action', 'Drama', 'Action', 'Action', 'Action', 'Documentary', 'Mystery', 'Drama', 'Drama', 'Horror', 'Thriller', 'Drama', 'Horror', 'Drama', 'Comedy', 'Crime', 'Drama', 'Thriller', 'Comedy', 'Family', 'Family', 'Drama', 'Horror', 'Action', 'Comedy', 'Comedy', 'Horror', 'Drama', 'Drama', 'Music', 'Thriller', 'Horror', 'Horror', 'Drama', 'Drama', 'Thriller', 'Comedy', 'Horror', 'Comedy', 'Action', 'Animation', 'Action', 'History', 'Drama', 'Fantasy', 'TV Movie', 'Animation', 'Drama', 'Documentary', 'Drama', 'Drama', 'Comedy', 'Drama', 'Drama', 'Drama', 'Action', 'Thriller', 'Comedy', 'Action', 'Drama', 'Thriller', 'Action', 'TV Movie', 'Drama', 'Drama', 'Comedy', 'Drama', 'Documentary', 'Thriller', 'Action', 'Mystery', 'Action', 'Comedy', 'Animation', 'Comedy', 'Action', 'Western', 'Western', 'Animation', 'Drama', 'Drama', 'Drama', 'Comedy', 'Animation', 'Action', 'Drama', 'Thriller', 'Thriller', 'Thriller', 'Thriller', 'Drama', 'Crime', 'Horror', 'Drama', 'Crime', 'Horror', 'Action', 'Documentary', 'Animation', 'Action', 'Music', 'Comedy', 'Thriller', 'Mystery', 'Animation', 'Animation', 'Action', 'Fantasy', 'Comedy', 'Comedy', 'Comedy', 'Action', 'Action', 'Comedy', 'Comedy', 'Documentary', 'Adventure', 'Drama', 'Drama', 'Drama', 'Drama', 'Thriller', 'Drama', 'Comedy', 'Action', 'Drama', 'Horror', 'Horror', 'Drama', 'Drama', 'Fantasy', 'Documentary', 'Comedy', 'TV Movie', 'Family', 'Comedy', 'Comedy', 'Thriller', 'Drama', 'Comedy', 'Thriller', 'Comedy', 'Horror', 'Documentary', 'Adventure', 'Adventure', 'Fantasy', 'Drama', 'Thriller', 'Horror', 'Documentary', 'Thriller', 'Drama', 'Thriller', 'Crime', 'Horror', 'Crime', 'Drama', 'Music', 'Comedy', 'Drama', 'Drama', 'Comedy', 'Drama', 'Thriller', 'Mystery', 'Action', 'Horror', 'Comedy', 'Drama', 'Documentary', 'Romance', 'Drama', 'Animation', 'Crime', 'Drama', 'Horror', 'Horror', 'Comedy', 'Documentary', 'Horror', 'Documentary', 'Drama', 'Thriller', 'Action', 'History', 'Horror', 'Horror', 'Documentary', 'Action', 'Thriller', 'Action', 'Horror', 'Drama', 'Drama', 'Thriller', 'Drama', 'Horror', 'Drama', 'Adventure', 'Documentary', 'Drama', 'Drama', 'Comedy', 'Documentary', 'Horror', 'Comedy', 'Documentary', 'Thriller', 'Drama', 'Action', 'Family', 'Drama', 'Crime', 'Comedy', 'Action', 'Horror', 'Adventure', 'Drama', 'Animation', 'Documentary', 'Comedy', 'Family', 'Comedy', 'Drama', 'Comedy', 'Thriller', 'Comedy', 'Drama', 'Comedy', 'Documentary', 'Documentary', 'Drama', 'Romance', 'Drama', 'Action', 'War', 'Family', 'Family', 'Thriller', 'Action', 'Horror', 'Documentary', 'Mystery', 'Comedy', 'Horror', 'Horror', 'Drama', 'Drama', 'Thriller', 'Action', 'Romance', 'Documentary', 'Drama', 'Animation', 'Drama', 'Action', 'Fantasy', 'TV Movie', 'Thriller', 'Action', 'Drama', 'Thriller', 'Drama', 'Horror', 'TV Movie', 'Drama', 'Horror', 'Drama', 'Documentary', 'Drama', 'Drama', 'Action', 'Crime', 'Comedy', 'Action', 'Horror', 'Horror', 'Drama', 'Comedy', 'Action', 'Horror', 'Documentary', 'Documentary', 'Adventure', 'Comedy', 'Documentary', 'Action', 'Crime', 'Drama', 'Romance', 'Drama', 'Romance', 'Documentary', 'Documentary', 'Music', 'Documentary', 'Horror', 'Horror', 'Comedy', 'Action', 'Action', 'Action', 'Horror', 'Horror', 'Thriller', 'Documentary', 'Adventure', 'Action', 'Comedy', 'Science Fiction', 'Action', 'Comedy', 'Music', 'Thriller', 'Comedy', 'Fantasy', 'Comedy', 'Comedy', 'Thriller', 'Mystery', 'Horror', 'Action', 'Horror', 'Thriller', 'Action', 'Animation', 'Comedy', 'Documentary', 'Animation', 'Documentary', 'Crime', 'Horror', 'Drama', 'Comedy', 'Music', 'Drama', 'Horror', 'Horror', 'Comedy', 'Comedy', 'Music', 'Documentary', 'TV Movie', 'Drama', 'Horror', 'Romance', 'TV Movie', 'Comedy', 'Horror', 'Drama', 'Documentary', 'Drama', 'Horror', 'Comedy', 'Drama', 'Documentary', 'Drama', 'Family', 'Science Fiction', 'Family', 'Comedy', 'Documentary', 'Romance', 'Horror', 'Documentary', 'Documentary', 'Thriller', 'Action', 'Comedy', 'Drama', 'Horror', 'Documentary', 'Comedy', 'Drama', 'Comedy', 'Comedy', 'Documentary', 'Horror', 'Documentary', 'Drama', 'Drama', 'Drama', 'Romance', 'Horror', 'Documentary', 'Comedy', 'Documentary', 'Adventure', 'Documentary', 'Science Fiction', 'Romance', 'Romance', 'Romance', 'Documentary', 'Documentary', 'Drama', 'Drama', 'Comedy', 'Comedy', 'Animation', 'Documentary', 'Drama', 'Adventure', 'Comedy', 'Drama', 'Documentary', 'Music', 'Comedy', 'Comedy', 'Horror', 'Horror', 'Comedy', 'Drama', 'Action', 'Drama', 'Comedy', 'Thriller', 'Comedy', 'Action', 'Documentary', 'Comedy', 'Drama', 'Drama', 'Documentary', 'Documentary', 'Action', 'Comedy', 'Horror', 'Documentary', 'Documentary', 'Comedy', 'Documentary', 'Comedy', 'Science Fiction', 'War', 'Adventure', 'Documentary', 'TV Movie', 'Horror', 'Documentary', 'Action', 'Comedy', 'Documentary', 'Comedy', 'Horror', 'Documentary', 'Action', 'Documentary', 'Drama', 'Comedy', 'Adventure', 'Comedy', 'Adventure', 'Action', 'Adventure', 'Action', 'Adventure', 'Horror', 'Action', 'Drama', 'Drama', 'Comedy', 'Animation', 'Drama', 'Action', 'Action', 'Comedy', 'Crime', 'Adventure', 'Comedy', 'Family', 'Horror', 'Adventure', 'Action', 'Adventure', 'Horror', 'Comedy', 'Horror', 'Adventure', 'Action', 'Drama', 'Action', 'Comedy', 'Comedy', 'Romance', 'Fantasy', 'Drama', 'Horror', 'Action', 'Action', 'Science Fiction', 'Comedy', 'Action', 'Comedy', 'Comedy', 'Comedy', 'Adventure', 'Comedy', 'Comedy', 'Adventure', 'Romance', 'Comedy', 'Drama', 'Fantasy', 'Drama', 'Horror', 'Comedy', 'Action', 'Drama', 'Action', 'Fantasy', 'Action', 'Comedy', 'Drama', 'Horror', 'Drama', 'Comedy', 'Comedy', 'Action', 'Comedy', 'Action', 'Drama', 'Comedy', 'Adventure', 'Comedy', 'Action', 'Adventure', 'Comedy', 'Thriller', 'Drama', 'Adventure', 'Comedy', 'Comedy', 'Mystery', 'Drama', 'Thriller', 'Comedy', 'Horror', 'Drama', 'Drama', 'Action', 'Action', 'Horror', 'Comedy', 'Adventure', 'Documentary', 'Action', 'Drama', 'Comedy', 'Comedy', 'Drama', 'Comedy', 'Drama', 'Comedy', 'Action', 'Action', 'Adventure', 'Comedy', 'Drama', 'Adventure', 'Action', 'Adventure', 'Action', 'Action', 'Adventure', 'Science Fiction', 'Adventure', 'Action', 'Family', 'Action', 'Drama', 'Comedy', 'Action', 'Action', 'Adventure', 'Drama', 'Comedy', 'Animation', 'Comedy', 'Action', 'Comedy', 'Fantasy', 'Drama', 'Comedy', 'Adventure', 'Comedy', 'Action', 'Drama', 'Drama', 'Animation', 'Animation', 'Action', 'Drama', 'Action', 'Drama', 'Action', 'Crime', 'Family', 'Action', 'Drama', 'Romance', 'Adventure', 'Comedy', 'Drama', 'Drama', 'Drama', 'Adventure', 'Science Fiction', 'Horror', 'Comedy', 'Comedy', 'Comedy', 'Animation', 'Action', 'Horror', 'Action', 'Romance', 'Drama', 'Animation', 'Horror', 'Comedy', 'Comedy', 'Comedy', 'Action', 'Comedy', 'Adventure', 'Comedy', 'Comedy', 'Drama', 'Action', 'Adventure', 'Drama', 'Mystery', 'Action', 'Drama', 'Crime', 'Comedy', 'Comedy', 'Drama', 'Fantasy', 'Drama', 'Crime', 'Drama', 'Drama', 'Comedy', 'Drama', 'Drama', 'Drama', 'Horror', 'Comedy', 'Action', 'Comedy', 'Comedy', 'Comedy', 'Comedy', 'Crime', 'Thriller', 'Thriller', 'Comedy', 'Comedy', 'Comedy', 'Drama', 'Horror', 'Horror', 'Action', 'Action', 'Drama', 'Comedy', 'Comedy', 'Drama', 'Romance', 'Adventure', 'Horror', 'Mystery', 'Comedy', 'Comedy', 'Comedy', 'Comedy', 'Thriller', 'Drama', 'Horror', 'Horror', 'Action', 'Comedy', 'Action', 'Drama', 'Drama', 'Comedy', 'Fantasy', 'Action', 'Action', 'Crime', 'Animation', 'Drama', 'Drama', 'Drama', 'Horror', 'Action', 'Action', 'Fantasy', 'Comedy', 'Comedy', 'Action', 'Comedy', 'Adventure', 'Adventure', 'Drama', 'Comedy', 'Drama', 'Horror', 'Adventure', 'Action', 'Comedy', 'Horror', 'Drama', 'Drama', 'Documentary', 'Drama', 'Horror', 'Family', 'Drama', 'Drama', 'Family', 'Adventure', 'Drama', 'Horror', 'Horror', 'Comedy', 'Family', 'Horror', 'Family', 'Drama', 'Comedy', 'Adventure', 'Comedy', 'Animation', 'Animation', 'Family', 'Drama', 'Comedy', 'Animation', 'Comedy', 'Crime', 'Animation', 'Comedy', 'Drama', 'Drama', 'Comedy', 'Drama', 'Drama', 'Comedy', 'Drama', 'Drama', 'Action', 'Thriller', 'Comedy', 'Comedy', 'Fantasy', 'Drama', 'Comedy', 'Horror', 'Comedy', 'Horror', 'Action', 'Action', 'Thriller', 'Drama', 'Horror', 'Action', 'Comedy', 'Documentary', 'Adventure', 'Drama', 'Comedy', 'Documentary', 'Comedy', 'Animation', 'Drama', 'Drama', 'Thriller', 'Comedy', 'Thriller', 'Comedy', 'Comedy', 'Action', 'Comedy', 'Comedy', 'Drama', 'Horror', 'Documentary', 'Comedy', 'Comedy', 'Action', 'Action', 'Drama', 'Drama', 'Action', 'Action', 'Horror', 'Animation', 'Documentary', 'Fantasy', 'Action', 'Action', 'Comedy', 'Action', 'Drama', 'Horror', 'Action', 'Action', 'Comedy', 'Drama', 'Comedy', 'Comedy', 'Drama', 'Drama', 'Comedy', 'Comedy', 'Comedy', 'Drama', 'Drama', 'Comedy', 'Fantasy', 'Comedy', 'Action', 'Drama', 'Comedy', 'Drama', 'Science Fiction', 'Drama', 'Drama', 'Science Fiction', 'Drama', 'Comedy', 'Drama', 'Comedy', 'Drama', 'Comedy', 'Action', 'Comedy', 'Horror', 'Comedy', 'Fantasy', 'Thriller', 'Drama', 'Action', 'Documentary', 'Drama', 'Horror', 'Drama', 'Drama', 'Comedy', 'Horror', 'Action', 'Drama', 'Horror', 'Drama', 'Adventure', 'Comedy', 'Comedy', 'Drama', 'Comedy', 'Comedy', 'Comedy', 'Crime', 'Thriller', 'Comedy', 'Comedy', 'Comedy', 'Comedy', 'Comedy', 'Drama', 'Drama', 'Horror', 'Comedy', 'Documentary', 'Drama', 'Action', 'Action', 'Comedy', 'Comedy', 'Drama', 'Comedy', 'Animation', 'Comedy', 'Drama', 'Documentary', 'Comedy', 'Horror', 'Science Fiction', 'Comedy', 'Action', 'Action', 'Horror', 'Drama', 'Documentary', 'Drama', 'Music', 'Crime', 'Comedy', 'Comedy', 'Comedy', 'Drama', 'Adventure', 'Comedy', 'Mystery', 'Comedy', 'Crime', 'Documentary', 'Drama', 'Drama', 'Drama', 'Action', 'Adventure', 'Documentary', 'Documentary', 'Drama', 'Documentary', 'Drama', 'Comedy', 'Comedy', 'Drama', 'Fantasy', 'Adventure', 'Animation', 'Adventure', 'Thriller', 'Music', 'Animation', 'Adventure', 'Comedy', 'Drama', 'Comedy', 'Drama', 'Action', 'Drama', 'Drama', 'Comedy', 'Adventure', 'Comedy', 'Comedy', 'Animation', 'Romance', 'Crime', 'Comedy', 'Crime', 'Drama', 'Crime', 'Action', 'Drama', 'Adventure', 'Horror', 'Horror', 'Comedy', 'Drama', 'Music', 'Drama', 'Comedy', 'Adventure', 'Family', 'Action', 'Fantasy', 'Romance', 'Comedy', 'Animation', 'Comedy', 'Comedy', 'Thriller', 'Fantasy', 'Horror', 'Animation', 'Comedy', 'Drama', 'Science Fiction', 'Fantasy', 'Action', 'Comedy', 'Drama', 'War', 'Romance', 'Crime', 'Adventure', 'Mystery', 'Action', 'Drama', 'Comedy', 'Drama', 'Drama', 'Fantasy', 'Action', 'Comedy', 'Drama', 'Drama', 'Comedy', 'Comedy', 'Crime', 'Comedy', 'Comedy', 'Action', 'Drama', 'Drama', 'Drama', 'Action', 'Comedy', 'Adventure', 'Drama', 'Horror', 'Adventure', 'Comedy', 'Drama', 'Comedy', 'Adventure', 'Comedy', 'Drama', 'Animation', 'Drama', 'Comedy', 'Comedy', 'Comedy', 'Adventure', 'Animation', 'Drama', 'Comedy', 'Drama', 'Action', 'Animation', 'Animation', 'Drama', 'Comedy', 'Drama', 'Comedy', 'Comedy', 'Drama', 'Drama', 'Romance', 'Comedy', 'Comedy', 'Comedy', 'Comedy', 'Adventure', 'Drama', 'Animation', 'Crime', 'History', 'Drama', 'Horror', 'Drama', 'Drama', 'Action', 'Action', 'Horror', 'Action', 'Action', 'Drama', 'Drama', 'Horror', 'Animation', 'Drama', 'Drama', 'Documentary', 'Comedy', 'Action', 'Comedy', 'Action', 'Horror', 'Comedy', 'Drama', 'Comedy', 'Adventure', 'Drama', 'Action', 'Thriller', 'Romance', 'Comedy', 'Action', 'Comedy', 'Music', 'Fantasy', 'Comedy', 'Animation', 'Animation', 'Horror', 'Fantasy', 'Fantasy', 'Action', 'Adventure', 'Drama', 'Drama', 'Action', 'Comedy', 'Drama', 'Adventure', 'Comedy', 'Drama', 'Drama', 'Drama', 'Adventure', 'Comedy', 'Drama', 'Adventure', 'Action', 'Comedy', 'War', 'Action', 'Animation', 'Fantasy', 'Action', 'Adventure', 'Drama', 'Action', 'Drama', 'Romance', 'Drama', 'Comedy', 'Horror', 'Horror', 'Mystery', 'Horror', 'Horror', 'Action', 'Drama', 'Action', 'Drama', 'Thriller', 'Western', 'Comedy', 'Romance', 'Comedy', 'Drama', 'Action', 'Drama', 'Action', 'Comedy', 'Drama', 'Action', 'Drama', 'Comedy', 'Comedy', 'Action', 'TV Movie', 'Action', 'Comedy', 'Drama', 'Horror', 'Comedy', 'Drama', 'Fantasy', 'Comedy', 'Animation', 'Horror', 'Drama', 'Comedy', 'Fantasy', 'Comedy', 'Drama', 'Horror', 'Adventure', 'Drama', 'Comedy', 'Animation', 'Drama', 'Romance', 'Horror', 'Drama', 'Drama', 'Horror', 'Crime', 'Drama', 'Comedy', 'Drama', 'Comedy', 'Drama', 'Action', 'Comedy', 'Action', 'Action', 'Comedy', 'Horror', 'Horror', 'Drama', 'Comedy', 'Drama', 'Comedy', 'Drama', 'Crime', 'Drama', 'Action', 'Comedy', 'Horror', 'Drama', 'Comedy', 'Comedy', 'TV Movie', 'Comedy', 'Horror', 'Drama', 'Horror', 'Action', 'Drama', 'Drama', 'Comedy', 'Animation', 'Drama', 'Documentary', 'Drama', 'Animation', 'Documentary', 'Comedy', 'Drama', 'Horror', 'Horror', 'Comedy', 'Comedy', 'Comedy', 'Action', 'Action', 'Adventure', 'Animation', 'Action', 'Drama', 'Horror', 'Romance', 'Comedy', 'Comedy', 'Drama', 'Comedy', 'Crime', 'Drama', 'Action', 'Drama', 'Comedy', 'Science Fiction', 'Drama', 'Comedy', 'Crime', 'Mystery', 'Drama', 'Horror', 'Animation', 'Horror', 'Action', 'Drama', 'Drama', 'Adventure', 'Drama', 'Comedy', 'Comedy', 'Comedy', 'Documentary', 'Documentary', 'Drama', 'Adventure', 'Action', 'Comedy', 'Crime', 'Drama', 'Family', 'Comedy', 'Documentary', 'Action', 'Comedy', 'Animation', 'Documentary', 'Horror', 'Drama', 'Horror', 'Horror', 'Comedy', 'Thriller', 'Comedy', 'Drama', 'Documentary', 'Comedy', 'Animation', 'Comedy', 'Action', 'Comedy', 'Horror', 'Documentary', 'Music', 'TV Movie', 'Action', 'Action', 'Comedy', 'Drama', 'Documentary', 'Drama', 'Comedy', 'Drama', 'Drama', 'Drama', 'Drama', 'Documentary', 'Comedy', 'Comedy', 'Comedy', 'Drama', 'Drama', 'Animation', 'Action', 'Drama', 'Drama', 'Comedy', 'Horror', 'Comedy', 'Family', 'Comedy', 'Drama', 'Documentary', 'Drama', 'Comedy', 'Crime', 'Comedy', 'Comedy', 'Drama', 'Horror', 'Drama', 'Horror', 'Comedy', 'Action', 'Comedy', 'Drama', 'Drama', 'Drama', 'Crime', 'Documentary', 'Drama', 'Comedy', 'Action', 'Comedy', 'Adventure', 'Action', 'Comedy', 'Science Fiction', 'Romance', 'Action', 'Action', 'War', 'Adventure', 'Action', 'Comedy', 'Comedy', 'Horror', 'Fantasy', 'Animation', 'Adventure', 'Science Fiction', 'Horror', 'Thriller', 'Comedy', 'Action', 'Drama', 'Drama', 'Horror', 'Science Fiction', 'Adventure', 'Comedy', 'Adventure', 'Drama', 'Animation', 'Animation', 'Animation', 'Mystery', 'Animation', 'Animation', 'Science Fiction', 'Drama', 'Comedy', 'Comedy', 'Fantasy', 'Comedy', 'Mystery', 'Drama', 'Comedy', 'Adventure', 'Comedy', 'Action', 'War', 'Comedy', 'Horror', 'Action', 'Comedy', 'Action', 'Comedy', 'Drama', 'Action', 'Action', 'Comedy', 'Drama', 'Fantasy', 'Animation', 'Adventure', 'Adventure', 'Comedy', 'Thriller', 'Drama', 'Action', 'Action', 'Comedy', 'Western', 'Drama', 'Horror', 'Action', 'Drama', 'Thriller', 'Comedy', 'Thriller', 'Comedy', 'Drama', 'Drama', 'Comedy', 'Action', 'Science Fiction', 'Animation', 'Western', 'Western', 'Comedy', 'Documentary', 'Comedy', 'Comedy', 'Drama', 'Crime', 'Adventure', 'Action', 'Adventure', 'Drama', 'War', 'Music', 'Action', 'Animation', 'Comedy', 'Drama', 'Comedy', 'Comedy', 'Action', 'Comedy', 'Comedy', 'Adventure', 'Music', 'Drama', 'Comedy', 'Drama', 'Adventure', 'Drama', 'Drama', 'Drama', 'Drama', 'Drama', 'Comedy', 'Action', 'Comedy', 'Horror', 'Thriller', 'Mystery', 'Comedy', 'Comedy', 'Comedy', 'Horror', 'Comedy', 'Drama', 'Romance', 'Adventure', 'Action', 'Comedy', 'Western', 'Comedy', 'Comedy', 'Action', 'Action', 'Action', 'Crime', 'Comedy', 'Drama', 'Fantasy', 'Drama', 'Comedy', 'Drama', 'Crime', 'Action', 'Thriller', 'Action', 'Action', 'Action', 'Drama', 'Drama', 'Drama', 'Drama', 'Drama', 'Comedy', 'Comedy', 'Drama', 'Drama', 'Comedy', 'Comedy', 'Action', 'TV Movie', 'Action', 'Music', 'Action', 'Comedy', 'Drama', 'Family', 'Drama', 'Adventure', 'Drama', 'Animation', 'Drama', 'Drama', 'Drama', 'Documentary', 'Action', 'Drama', 'Comedy', 'Mystery', 'Action', 'Drama', 'Drama', 'Drama', 'Adventure', 'Drama', 'Comedy', 'Drama', 'Horror', 'Comedy', 'Drama', 'Animation', 'Comedy', 'Crime', 'Drama', 'Comedy', 'Drama', 'Action', 'Drama', 'Comedy', 'Drama', 'Comedy', 'Comedy', 'Comedy', 'Comedy', 'Drama', 'Mystery', 'Comedy', 'Comedy', 'Action', 'Drama', 'Comedy', 'Documentary', 'Romance', 'Comedy', 'Romance', 'Comedy', 'Romance', 'Drama', 'Comedy', 'Drama', 'Comedy', 'Action', 'Comedy', 'Adventure', 'Comedy', 'Comedy', 'Action', 'Action', 'Drama', 'Drama', 'Drama', 'Drama', 'Adventure', 'Comedy', 'Documentary', 'Animation', 'Adventure', 'Drama', 'Family', 'Horror', 'Romance', 'Action', 'Drama', 'Action', 'Horror', 'Drama', 'Drama', 'Action', 'Action', 'Drama', 'Action', 'Mystery', 'Drama', 'Family', 'Documentary', 'Drama', 'Drama', 'Drama', 'Crime', 'Adventure', 'Drama', 'Drama', 'Drama', 'Drama', 'Drama', 'Comedy', 'Action', 'Comedy', 'Horror', 'Comedy', 'Drama', 'Horror', 'Action', 'Drama', 'TV Movie', 'Documentary', 'Comedy', 'Action', 'TV Movie', 'Horror', 'Documentary', 'Horror', 'Comedy', 'Comedy', 'TV Movie', 'Action', 'Drama', 'Documentary', 'Comedy', 'Drama', 'Comedy', 'Thriller', 'Comedy', 'Comedy', 'Action', 'Drama', 'Action', 'Documentary', 'Drama', 'Comedy', 'Documentary', 'Documentary', 'Drama', 'Drama', 'Action', 'Drama', 'Crime', 'Western', 'Adventure', 'Comedy', 'Comedy', 'Comedy', 'Horror', 'Horror', 'Comedy', 'Action', 'Action', 'Action', 'Action', 'Thriller', 'Action', 'Action', 'Comedy', 'Horror', 'Comedy', 'Crime', 'Music', 'Comedy', 'Comedy', 'Animation', 'Comedy', 'Action', 'Family', 'Action', 'Drama', 'Horror', 'Horror', 'Crime', 'Comedy', 'Horror', 'Comedy', 'Drama', 'Adventure', 'Horror', 'Comedy', 'Music', 'Romance', 'Drama', 'Action', 'Horror', 'Drama', 'Science Fiction', 'Drama', 'Action', 'Action', 'Comedy', 'Action', 'Horror', 'TV Movie', 'Comedy', 'Horror', 'Action', 'Horror', 'Comedy', 'Action', 'Action', 'Horror', 'Action', 'Action', 'Drama', 'Science Fiction', 'Action', 'Fantasy', 'Action', 'Drama', 'Adventure', 'Mystery', 'Western', 'Action', 'Crime', 'Drama', 'Thriller', 'Action', 'Horror', 'Comedy', 'Crime', 'Action', 'Drama', 'Comedy', 'Action', 'Drama', 'Drama', 'Science Fiction', 'Adventure', 'Horror', 'History', 'Drama', 'Action', 'Crime', 'Comedy', 'Science Fiction', 'Comedy', 'Drama', 'Fantasy', 'Western', 'Horror', 'Horror', 'Fantasy', 'Action', 'Action', 'Adventure', 'Adventure', 'Drama', 'Comedy', 'Horror', 'Horror', 'Drama', 'Action', 'Action', 'Comedy', 'Adventure', 'Adventure', 'Animation', 'Action', 'Crime', 'Drama', 'Action', 'Fantasy', 'Science Fiction', 'Adventure', 'Action', 'Action', 'Action', 'Adventure', 'Action', 'Thriller', 'Comedy', 'Adventure', 'Action', 'Drama', 'Drama', 'Horror', 'Drama', 'Crime', 'Fantasy', 'Drama', 'Comedy', 'Comedy', 'Family', 'Animation', 'Drama', 'Comedy', 'Thriller', 'Horror', 'Adventure', 'Comedy', 'Crime', 'Comedy', 'Crime', 'Comedy', 'Animation', 'Comedy', 'Horror', 'Thriller', 'Fantasy', 'Science Fiction', 'Family', 'Drama', 'Horror', 'Adventure', 'Drama', 'Thriller', 'Crime', 'Crime', 'Thriller', 'Action', 'Western', 'Drama', 'Thriller', 'Action', 'Horror', 'Fantasy', 'Comedy', 'Action', 'Animation', 'Fantasy', 'Drama', 'Horror', 'Action', 'Comedy', 'Comedy', 'Horror', 'Comedy', 'Action', 'Thriller', 'Animation', 'Comedy', 'Comedy', 'Comedy', 'Animation', 'Horror', 'Action', 'Comedy', 'Action', 'Thriller', 'Comedy', 'Thriller', 'Adventure', 'Comedy', 'Horror', 'Comedy', 'Action', 'Action', 'Thriller', 'Horror', 'Crime', 'Horror', 'Drama', 'Animation', 'Horror', 'Adventure', 'Drama', 'Drama', 'Comedy', 'Science Fiction', 'Comedy', 'Comedy', 'Crime', 'Animation', 'Comedy', 'Action', 'Comedy', 'Science Fiction', 'Action', 'Horror', 'Horror', 'Horror', 'Action', 'Drama', 'Comedy', 'Horror', 'Drama', 'Crime', 'Drama', 'Comedy', 'Comedy', 'Comedy', 'Drama', 'Crime', 'Thriller', 'Comedy', 'Adventure', 'Drama', 'Drama', 'History', 'Drama', 'Comedy', 'Science Fiction', 'Drama', 'Action', 'Action', 'Romance', 'Action', 'Adventure', 'Science Fiction', 'Comedy', 'Comedy', 'Drama', 'Horror', 'Comedy', 'Action', 'Crime', 'Drama', 'Action', 'Adventure', 'Comedy', 'Action', 'Action', 'Horror', 'Drama', 'Drama', 'Horror', 'Comedy', 'Comedy', 'Comedy', 'Action', 'Crime', 'Comedy', 'Crime', 'Drama', 'Comedy', 'Comedy', 'Crime', 'Drama', 'Drama', 'Comedy', 'Drama', 'Family', 'Fantasy', 'Action', 'Drama', 'Drama', 'Documentary', 'Drama', 'Horror', 'Action', 'Adventure', 'Crime', 'Drama', 'Crime', 'Thriller', 'Comedy', 'Horror', 'Horror', 'Action', 'Animation', 'Drama', 'Horror', 'Documentary', 'Action', 'Crime', 'Drama', 'TV Movie', 'Drama', 'Drama', 'Comedy', 'Action', 'Comedy', 'Comedy', 'Animation', 'Crime', 'Comedy', 'Drama', 'Comedy', 'Drama', 'Drama', 'Crime', 'Drama', 'Crime', 'Adventure', 'Thriller', 'Adventure', 'Comedy', 'Adventure', 'Action', 'Drama', 'Drama', 'Crime', 'Action', 'Action', 'Drama', 'Animation', 'Animation', 'Drama', 'Drama', 'Drama', 'Animation', 'Drama', 'Horror', 'Crime', 'Drama', 'Crime', 'Comedy', 'Documentary', 'Action', 'Comedy', 'Drama', 'Drama', 'Action', 'Action', 'Comedy', 'Action', 'Adventure', 'Drama', 'Thriller', 'Documentary', 'Crime', 'Animation', 'Action', 'Family', 'Mystery', 'Comedy', 'Drama', 'Documentary', 'Comedy', 'Documentary', 'Drama', 'Comedy', 'Animation', 'Action', 'Fantasy', 'Action', 'Music', 'Drama', 'Drama', 'Fantasy', 'Horror', 'Action', 'Adventure', 'Comedy', 'Drama', 'Adventure', 'Drama', 'Drama', 'Drama', 'Comedy', 'Drama', 'Comedy', 'Horror', 'Action', 'Drama', 'Comedy', 'Drama', 'Action', 'Drama', 'Drama', 'Drama', 'Fantasy', 'Horror', 'Animation', 'Action', 'Action', 'Comedy', 'Action', 'Horror', 'Comedy', 'Comedy', 'Action', 'Comedy', 'Action', 'Action', 'Comedy', 'Comedy', 'Thriller', 'Comedy', 'Crime', 'Horror', 'Drama', 'Documentary', 'Drama', 'Comedy', 'Comedy', 'Animation', 'Action', 'Documentary', 'Comedy', 'Drama', 'Drama', 'Comedy', 'Horror', 'Crime', 'Documentary', 'Comedy', 'Crime', 'Adventure', 'Action', 'Documentary', 'Thriller', 'Comedy', 'Drama', 'Drama', 'Comedy', 'Mystery', 'Action', 'Crime', 'Comedy', 'Comedy', 'Horror', 'Horror', 'Drama', 'Fantasy', 'Comedy', 'Action', 'TV Movie', 'Drama', 'Thriller', 'Fantasy', 'Adventure', 'Horror', 'Comedy', 'Adventure', 'Action', 'Action', 'Drama', 'Comedy', 'Drama', 'Mystery', 'Horror', 'Mystery', 'Drama', 'Comedy', 'Drama', 'Music', 'Drama', 'Comedy', 'Drama', 'Comedy', 'Drama', 'Drama', 'Comedy', 'Science Fiction', 'Comedy', 'Animation', 'Horror', 'Comedy', 'Action', 'Documentary', 'Comedy', 'Comedy', 'Comedy', 'Drama', 'Comedy', 'Horror', 'Adventure', 'Comedy', 'Comedy', 'Comedy', 'Comedy', 'Action', 'Drama', 'Comedy', 'Drama', 'Documentary', 'Comedy', 'Comedy', 'Comedy', 'Action', 'Drama', 'TV Movie', 'Animation', 'Action', 'Comedy', 'Horror', 'Drama', 'Drama', 'Romance', 'Crime', 'Drama', 'Drama', 'Comedy', 'Horror', 'Comedy', 'Adventure', 'Comedy', 'Drama', 'Action', 'Documentary', 'Animation', 'Romance', 'Comedy', 'Comedy', 'Drama', 'Documentary', 'Horror', 'Comedy', 'Comedy', 'Comedy', 'Documentary', 'Horror', 'Drama', 'Adventure', 'Science Fiction', 'Action', 'Comedy', 'Comedy', 'Action', 'Drama', 'Drama', 'Comedy', 'Horror', 'Drama', 'Drama', 'Crime', 'Drama', 'Drama', 'Adventure', 'Comedy', 'Comedy', 'Comedy', 'Mystery', 'Action', 'Drama', 'Thriller', 'Comedy', 'Action', 'Crime', 'Adventure', 'Drama', 'Drama', 'Drama', 'Western', 'Thriller', 'Comedy', 'Adventure', 'Drama', 'Comedy', 'Drama', 'Comedy', 'Action', 'Crime', 'Crime', 'Drama', 'Romance', 'Horror', 'Science Fiction', 'Comedy', 'Horror', 'Crime', 'Drama', 'Crime', 'Horror', 'Comedy', 'Drama', 'Horror', 'Drama', 'Action', 'Adventure', 'Fantasy', 'Fantasy', 'Drama', 'Action', 'Drama', 'Drama', 'Drama', 'Horror', 'Adventure', 'Thriller', 'Action', 'Action', 'Comedy', 'Action', 'Science Fiction', 'Comedy', 'Drama', 'Horror', 'Comedy', 'Drama', 'Adventure', 'Animation', 'Action', 'Comedy', 'Comedy', 'Mystery', 'Comedy', 'Comedy', 'War', 'Action', 'Comedy', 'Adventure', 'Adventure', 'TV Movie', 'Adventure', 'Crime', 'Comedy', 'Drama', 'Mystery', 'Comedy', 'Action', 'Adventure', 'Action', 'Music', 'Horror', 'Romance', 'Comedy', 'Action', 'Comedy', 'Comedy', 'Adventure', 'Drama', 'Drama', 'Drama', 'Action', 'Fantasy', 'Drama', 'Comedy', 'Drama', 'Comedy', 'Science Fiction', 'Horror', 'Drama', 'Action', 'Documentary', 'Horror', 'Adventure', 'Action', 'Action', 'Music', 'Comedy', 'Drama', 'Drama', 'Thriller', 'Drama', 'Comedy', 'Adventure', 'Action', 'Drama', 'Fantasy', 'Drama', 'Drama', 'Horror', 'Thriller', 'Horror', 'Comedy', 'Drama', 'Action', 'Drama', 'Adventure', 'Action', 'Horror', 'Comedy', 'Crime', 'Comedy', 'Adventure', 'Horror', 'Documentary', 'Music', 'Comedy', 'Drama', 'Drama', 'Fantasy', 'Adventure', 'Action', 'Adventure', 'Adventure', 'Comedy', 'Comedy', 'Comedy', 'Thriller', 'Comedy', 'Horror', 'Comedy', 'Drama', 'Comedy', 'Action', 'Comedy', 'Drama', 'Action', 'Comedy', 'Family', 'Comedy', 'Horror', 'Mystery', 'Crime', 'Comedy', 'War', 'Comedy', 'Science Fiction', 'Horror', 'Music', 'Science Fiction', 'Thriller', 'Comedy', 'Romance', 'Comedy', 'Thriller', 'Comedy', 'Drama', 'Drama', 'Comedy', 'Action', 'Horror', 'Drama', 'Comedy', 'Drama', 'Fantasy', 'Action', 'Drama', 'Action', 'Comedy', 'Horror', 'Comedy', 'Drama', 'Horror', 'Fantasy', 'Action', 'Action', 'Horror', 'Comedy', 'Action', 'Animation', 'Action', 'Action', 'Crime', 'Science Fiction', 'Comedy', 'Comedy', 'Drama', 'Drama', 'Drama', 'Comedy', 'Adventure', 'Fantasy', 'Horror', 'TV Movie', 'Horror', 'Fantasy', 'Action', 'Action', 'Comedy', 'Adventure', 'Crime', 'Animation', 'Drama', 'Action', 'Adventure', 'Adventure', 'Action', 'Science Fiction', 'Science Fiction', 'Drama', 'Adventure', 'Adventure', 'Action', 'Drama', 'Science Fiction', 'Science Fiction', 'Drama', 'Drama', 'Fantasy', 'Fantasy', 'Comedy', 'Comedy', 'Adventure', 'Romance', 'Comedy', 'Drama', 'Drama', 'Crime', 'Family', 'Adventure', 'Thriller', 'Comedy', 'Action', 'Fantasy', 'Action', 'Action', 'Action', 'Drama', 'Comedy', 'Action', 'Comedy', 'Action', 'Action', 'Comedy', 'Animation', 'Comedy', 'Drama', 'Action', 'Comedy', 'Drama', 'Action', 'Drama', 'Comedy', 'Drama', 'Drama', 'Comedy', 'Family', 'Action', 'Fantasy', 'Drama', 'Mystery', 'Action', 'Drama', 'Adventure', 'Comedy', 'Action', 'Romance', 'History', 'Comedy', 'Action', 'Comedy', 'Horror', 'Action', 'Drama', 'Action', 'Romance', 'Crime', 'Comedy', 'Drama', 'Action', 'Comedy', 'Crime', 'Drama', 'Action', 'Fantasy', 'Crime', 'Comedy', 'Comedy', 'Comedy', 'Drama', 'Drama', 'Adventure', 'Comedy', 'Horror', 'Comedy', 'Comedy', 'Comedy', 'Drama', 'Drama', 'Adventure', 'Adventure', 'Comedy', 'Drama', 'Action', 'Crime', 'Action', 'Romance', 'Drama', 'Horror', 'Drama', 'Thriller', 'Comedy', 'Action', 'Thriller', 'Drama', 'Mystery', 'Horror', 'Action', 'Drama', 'Drama', 'Thriller', 'Action', 'Drama', 'Drama', 'Comedy', 'Comedy', 'Comedy', 'TV Movie', 'Drama', 'Comedy', 'Action', 'Drama', 'Drama', 'Horror', 'Action', 'Drama', 'Action', 'Comedy', 'Adventure', 'Drama', 'Comedy', 'History', 'Action', 'Comedy', 'Drama', 'Drama', 'Action', 'Action', 'Adventure', 'Drama', 'Drama', 'Drama', 'Foreign', 'Comedy', 'Documentary', 'War', 'Comedy', 'Drama', 'Animation', 'Thriller', 'Romance', 'Comedy', 'Mystery', 'Action', 'Action', 'Adventure', 'Drama', 'Horror', 'Comedy', 'Action', 'Action', 'Comedy', 'Comedy', 'Action', 'Crime', 'Animation', 'Comedy', 'Action', 'Science Fiction', 'Adventure', 'Romance', 'Fantasy', 'Action', 'Fantasy', 'Drama', 'Comedy', 'Comedy', 'Thriller', 'Thriller', 'Crime', 'Adventure', 'Adventure', 'Crime', 'Western', 'Music', 'Comedy', 'Action', 'Horror', 'Drama', 'Action', 'Horror', 'Action', 'Drama', 'Thriller', 'Action', 'Thriller', 'Comedy', 'Comedy', 'Action', 'Drama', 'Comedy', 'Drama', 'Comedy', 'Horror', 'Drama', 'Romance', 'Drama', 'Fantasy', 'Drama', 'Action', 'Action', 'Drama', 'Thriller', 'Science Fiction', 'Documentary', 'Drama', 'Drama', 'Drama', 'Drama', 'Adventure', 'Drama', 'Comedy', 'Drama', 'Comedy', 'Comedy', 'Animation', 'Romance', 'Fantasy', 'Drama', 'Horror', 'Drama', 'Drama', 'Adventure', 'Drama', 'Comedy', 'Crime', 'Action', 'Action', 'Drama', 'Comedy', 'Action', 'Comedy', 'Action', 'Action', 'Comedy', 'Adventure', 'Drama', 'Action', 'Comedy', 'Action', 'Action', 'Comedy', 'Thriller', 'Horror', 'Drama', 'Crime', 'Comedy', 'Thriller', 'Drama', 'Comedy', 'Fantasy', 'Drama', 'Adventure', 'Thriller', 'Crime', 'Comedy', 'Action', 'Mystery', 'Action', 'Animation', 'Action', 'Drama', 'Action', 'Drama', 'Drama', 'Action', 'Romance', 'Science Fiction', 'Action', 'Comedy', 'Drama', 'Action', 'Drama', 'Action', 'Crime', 'Comedy', 'Drama', 'Action', 'Comedy', 'Comedy', 'Comedy', 'Comedy', 'Comedy', 'Drama', 'Drama', 'Adventure', 'Comedy', 'Adventure', 'Romance', 'Adventure', 'Adventure', 'Adventure', 'Comedy', 'Horror', 'Animation', 'Horror', 'Science Fiction', 'Adventure', 'Drama', 'Drama', 'Horror', 'Action', 'Adventure', 'Horror', 'Romance', 'Comedy', 'Thriller', 'Romance', 'Comedy', 'Drama', 'Comedy', 'Drama', 'Family', 'Horror', 'Action', 'Action', 'Horror', 'Action', 'Science Fiction', 'Action', 'Drama', 'Horror', 'Drama', 'Music', 'Action', 'Crime', 'Drama', 'Fantasy', 'Comedy', 'Drama', 'Drama', 'Action', 'Comedy', 'Drama', 'Horror', 'Action', 'Adventure', 'Adventure', 'Action', 'Crime', 'Drama', 'Crime', 'Comedy', 'Action', 'Comedy', 'Drama', 'Horror', 'Drama', 'Horror', 'Comedy', 'Science Fiction', 'Comedy', 'Horror', 'Thriller', 'Drama', 'Drama', 'Comedy', 'TV Movie', 'Animation', 'Documentary', 'Comedy', 'Horror', 'Comedy', 'Comedy', 'Documentary', 'Thriller', 'Crime', 'Drama', 'Adventure', 'Action', 'Adventure', 'Drama', 'Crime', 'Action', 'Comedy', 'Drama', 'Family', 'Adventure', 'Animation', 'Action', 'Comedy', 'Drama', 'Horror', 'Crime', 'Science Fiction', 'Comedy', 'Comedy', 'Crime', 'Action', 'Comedy', 'Comedy', 'Fantasy', 'Fantasy', 'Action', 'Action', 'Adventure', 'Drama', 'Action', 'Action', 'Action', 'Action', 'Comedy', 'Crime', 'Horror', 'Action', 'Drama', 'Action', 'Drama', 'Action', 'Romance', 'Comedy', 'Drama', 'Drama', 'Comedy', 'Crime', 'Action', 'Drama', 'Drama', 'Comedy', 'Horror', 'Comedy', 'Comedy', 'Drama', 'Drama', 'Fantasy', 'Comedy', 'Comedy', 'Horror', 'Comedy', 'Comedy', 'Fantasy', 'Action', 'Action', 'Action', 'Comedy', 'Horror', 'History', 'Comedy', 'Drama', 'Drama', 'Comedy', 'Comedy', 'Crime', 'Comedy', 'Drama', 'Action', 'Action', 'Action', 'Action', 'Action', 'Comedy', 'Comedy', 'Comedy', 'Drama', 'Drama', 'Animation', 'Action', 'Drama', 'Drama', 'Comedy', 'Adventure', 'Action', 'Comedy', 'Comedy', 'Comedy', 'Comedy', 'Comedy', 'Family', 'Drama', 'Drama', 'Drama', 'Drama', 'Drama', 'Action', 'Crime', 'Drama', 'Adventure', 'Adventure', 'Drama', 'Drama', 'Drama', 'Drama', 'Action', 'Family', 'Drama', 'Drama', 'Drama', 'Drama', 'Adventure', 'Drama', 'Comedy', 'Action', 'Comedy', 'Drama', 'Drama', 'Drama', 'Horror', 'Fantasy', 'Drama', 'Action', 'Comedy', 'Comedy', 'Action', 'Action', 'Drama', 'Adventure', 'Animation', 'Comedy', 'Comedy', 'Comedy', 'Drama', 'Comedy', 'Romance', 'Comedy', 'Drama', 'Comedy', 'Comedy', 'Comedy', 'Drama', 'Family', 'Documentary', 'Action', 'Comedy', 'Adventure', 'Drama', 'Comedy', 'TV Movie', 'Comedy', 'Comedy', 'Drama', 'Action', 'Comedy', 'Comedy', 'Fantasy', 'Thriller', 'Comedy', 'Horror', 'Drama', 'Adventure', 'Drama', 'Adventure', 'Action', 'Comedy', 'Horror', 'Comedy', 'Drama', 'Comedy', 'Comedy', 'Comedy', 'Drama', 'Music', 'Action', 'Drama', 'Action', 'Horror', 'Comedy', 'Comedy', 'TV Movie', 'Drama', 'Comedy', 'History', 'Fantasy', 'Comedy', 'Fantasy', 'Horror', 'Comedy', 'Fantasy', 'Documentary', 'Documentary', 'Drama', 'Comedy', 'Comedy', 'Action', 'Mystery', 'Family', 'Adventure', 'Thriller', 'Adventure', 'Fantasy', 'Comedy', 'Adventure', 'Comedy', 'Animation', 'Action', 'Animation', 'Drama', 'Horror', 'Comedy', 'Action', 'Action', 'Drama', 'Action', 'Drama', 'Comedy', 'Action', 'Thriller', 'Crime', 'Adventure', 'Comedy', 'Crime', 'Drama', 'Drama', 'Family', 'Action', 'Crime', 'Thriller', 'Drama', 'Comedy', 'Drama', 'Horror', 'Fantasy', 'Drama', 'Comedy', 'Comedy', 'Adventure', 'Action', 'Crime', 'Animation', 'Comedy', 'Adventure', 'Action', 'Action', 'Comedy', 'Drama', 'Comedy', 'Comedy', 'Comedy', 'Thriller', 'Science Fiction', 'Horror', 'Action', 'Animation', 'Action', 'Comedy', 'Mystery', 'Science Fiction', 'Comedy', 'Drama', 'Drama', 'Action', 'Animation', 'Drama', 'Comedy', 'Comedy', 'Drama', 'Animation', 'Comedy', 'Horror', 'Action', 'Action', 'Thriller', 'Action', 'Action', 'Animation', 'Animation', 'Comedy', 'Horror', 'Crime', 'Comedy', 'History', 'Horror', 'Drama', 'Drama', 'Action', 'Drama', 'Drama', 'Action', 'Fantasy', 'Comedy', 'Drama', 'Comedy', 'Fantasy', 'Comedy', 'Comedy', 'Animation', 'Horror', 'Science Fiction', 'Adventure', 'Drama', 'Action', 'Drama', 'Drama', 'Drama', 'Comedy', 'Comedy', 'Action', 'Action', 'Drama', 'Comedy', 'Fantasy', 'Crime', 'Animation', 'Action', 'Action', 'Comedy', 'Comedy', 'Comedy', 'Drama', 'Drama', 'Drama', 'Drama', 'Drama', 'Comedy', 'Drama', 'Action', 'Action', 'Comedy', 'Crime', 'Drama', 'Mystery', 'Action', 'Comedy', 'Drama', 'Drama', 'Thriller', 'Romance', 'Drama', 'Horror', 'Comedy', 'Crime', 'Comedy', 'Animation', 'Fantasy', 'Comedy', 'Comedy', 'Animation', 'Comedy', 'Action', 'Action', 'Crime', 'Horror', 'Comedy', 'Comedy', 'Romance', 'Comedy', 'Animation', 'Action', 'Adventure', 'Drama', 'Romance', 'Comedy', 'Horror', 'Drama', 'Thriller', 'Comedy', 'Drama', 'Comedy', 'Drama', 'Drama', 'Drama', 'Comedy', 'History', 'Comedy', 'Documentary', 'Mystery', 'Action', 'Drama', 'Comedy', 'Action', 'Drama', 'Drama', 'Action', 'Comedy', 'Comedy', 'Horror', 'Drama', 'Documentary', 'Comedy', 'Horror', 'Drama', 'Animation', 'Horror', 'Family', 'Drama', 'Drama', 'Documentary', 'Animation', 'Adventure', 'Drama', 'Comedy', 'Drama', 'Drama', 'Action', 'Drama', 'Comedy', 'Action', 'Drama', 'Comedy', 'Family', 'Comedy', 'Animation', 'Comedy', 'Animation', 'Thriller', 'Romance', 'Comedy', 'Drama', 'Animation', 'Science Fiction', 'Science Fiction', 'Horror', 'Action', 'Drama', 'Science Fiction', 'Drama', 'Horror', 'Adventure', 'Thriller', 'Science Fiction', 'Comedy', 'Thriller', 'Fantasy', 'Music', 'Drama', 'Comedy', 'Comedy', 'Comedy', 'Comedy', 'Comedy', 'Comedy', 'Horror', 'Fantasy', 'Action', 'Fantasy', 'Drama', 'Horror', 'Drama', 'Comedy', 'Comedy', 'Horror', 'Comedy', 'Documentary', 'Drama', 'Animation', 'Drama', 'Action', 'Horror', 'Western', 'War', 'Comedy', 'Horror', 'Horror', 'Horror', 'Drama', 'Comedy', 'Comedy', 'Science Fiction', 'Drama', 'Action', 'Horror', 'Comedy', 'Comedy', 'Comedy', 'Action', 'Action', 'Action', 'Comedy', 'Action', 'Animation', 'Horror', 'Drama', 'Horror', 'Drama', 'Adventure', 'Comedy', 'Action', 'Horror', 'Science Fiction', 'Comedy', 'Comedy', 'Adventure', 'Comedy', 'Horror', 'TV Movie', 'Horror', 'Drama', 'Drama', 'Thriller', 'Drama', 'Comedy', 'Action', 'Animation', 'Horror', 'Comedy', 'Drama', 'Animation', 'Action', 'Family', 'Adventure', 'Adventure', 'Science Fiction', 'Action', 'Mystery', 'Adventure', 'Crime', 'Romance', 'Mystery', 'Drama', 'Drama', 'Action', 'Action', 'Action', 'Adventure', 'Action', 'Fantasy', 'Action', 'Horror', 'Science Fiction', 'Drama', 'Science Fiction', 'Action', 'Adventure', 'History', 'Adventure', 'Comedy', 'Crime', 'Mystery', 'Drama', 'Comedy', 'Drama', 'Comedy', 'Comedy', 'Comedy', 'Science Fiction', 'Comedy', 'Thriller', 'Drama', 'Romance', 'Romance', 'Comedy', 'Drama', 'Comedy', 'Thriller', 'Horror', 'Fantasy', 'Drama', 'Crime', 'Horror', 'Adventure', 'Action', 'Comedy', 'Comedy', 'Comedy', 'Drama', 'Comedy', 'Drama', 'Action', 'Drama', 'Comedy', 'Action', 'Music', 'Comedy', 'Animation', 'Drama', 'Crime', 'Horror', 'Comedy', 'Comedy', 'Family', 'Drama', 'Romance', 'Thriller', 'Adventure', 'Action', 'Comedy', 'Action', 'Fantasy', 'Music', 'Drama', 'Thriller', 'Drama', 'Family', 'Drama', 'Comedy', 'Drama', 'Action', 'Drama', 'Comedy', 'Music', 'Adventure', 'Action', 'Fantasy', 'Horror', 'Comedy', 'Comedy', 'Drama', 'Horror', 'Comedy', 'Drama', 'Drama', 'Adventure', 'Horror', 'Action', 'Comedy', 'Horror', 'Horror', 'Drama', 'Drama', 'Adventure', 'Drama', 'Thriller', 'Comedy', 'Action', 'Action', 'Comedy', 'Drama', 'Drama', 'Family', 'Thriller', 'Mystery', 'Adventure', 'Comedy', 'Horror', 'Comedy', 'Comedy', 'Animation', 'Thriller', 'Comedy', 'Animation', 'Drama', 'Drama', 'Action', 'Comedy', 'Drama', 'Romance', 'Comedy', 'Drama', 'Drama', 'Drama', 'Drama', 'TV Movie', 'Comedy', 'Comedy', 'Comedy', 'Adventure', 'Action', 'Action', 'Action', 'Crime', 'Crime', 'Drama', 'Action', 'Family', 'Drama', 'Comedy', 'Action', 'Comedy', 'Adventure', 'Comedy', 'Comedy', 'Comedy', 'Drama', 'Comedy', 'Comedy', 'Drama', 'Horror', 'Comedy', 'Comedy', 'Drama', 'Adventure', 'Comedy', 'Comedy', 'Crime', 'Comedy', 'Comedy', 'Adventure', 'Comedy', 'Comedy', 'Drama', 'Documentary', 'Drama', 'Comedy', 'Documentary', 'Drama', 'Action', 'Drama', 'Comedy', 'Comedy', 'Horror', 'Music', 'Action', 'Action', 'Comedy', 'Action', 'Comedy', 'Action', 'Mystery', 'Drama', 'Crime', 'Animation', 'Adventure', 'Comedy', 'Fantasy', 'Adventure', 'Drama', 'Fantasy', 'Adventure', 'Comedy', 'War', 'Adventure', 'Action', 'Action', 'Adventure', 'Comedy', 'Adventure', 'Science Fiction', 'Action', 'Horror', 'Action', 'Comedy', 'Drama', 'Family', 'Crime', 'Drama', 'Comedy', 'Adventure', 'Drama', 'Comedy', 'Comedy', 'Comedy', 'Comedy', 'Action', 'Drama', 'Comedy', 'Action', 'Action', 'Action', 'Comedy', 'Horror', 'Fantasy', 'Comedy', 'Horror', 'Science Fiction', 'Action', 'Foreign', 'Comedy', 'Drama', 'Action', 'Action', 'Drama', 'Animation', 'Crime', 'Action', 'Crime', 'Thriller', 'Comedy', 'Comedy', 'Drama', 'Comedy', 'Action', 'Comedy', 'Adventure', 'Comedy', 'Drama', 'Fantasy', 'Music', 'Comedy', 'Drama', 'Action', 'Fantasy', 'Action', 'Animation', 'Fantasy', 'Comedy', 'Crime', 'Horror', 'War', 'Documentary', 'Action', 'Action', 'Comedy', 'Crime', 'Horror', 'Action', 'Horror', 'Comedy', 'Fantasy', 'Adventure', 'Comedy', 'Comedy', 'Science Fiction', 'Drama', 'Adventure', 'Mystery', 'Drama', 'Adventure', 'Action', 'Comedy', 'Action', 'Crime', 'Action', 'Horror', 'Drama', 'Comedy', 'Comedy', 'Horror', 'Comedy', 'Drama', 'Crime', 'Adventure', 'Music', 'Comedy', 'Comedy', 'Drama', 'Drama', 'Crime', 'Comedy', 'Drama', 'Comedy', 'Action', 'Drama', 'Drama', 'Drama', 'Adventure', 'Action', 'Comedy', 'Horror', 'Comedy', 'Comedy', 'Action', 'Horror', 'Comedy', 'Drama', 'Horror', 'Documentary', 'Romance', 'Action', 'Adventure', 'Adventure', 'Action', 'Crime', 'Science Fiction', 'Action', 'Action', 'Adventure', 'Action', 'Comedy', 'Action', 'Action', 'Drama', 'Drama', 'Science Fiction', 'Comedy', 'Adventure', 'Crime', 'Comedy', 'Comedy', 'Drama', 'Horror', 'Drama', 'Adventure', 'Drama', 'Crime', 'Action', 'Thriller', 'Drama', 'Comedy', 'Comedy', 'Horror', 'Comedy', 'Action', 'Action', 'Drama', 'Drama', 'Comedy', 'Drama', 'Action', 'Action', 'Crime', 'Drama', 'Comedy', 'Action', 'Drama', 'Drama', 'Crime', 'Comedy', 'Comedy', 'Drama', 'Thriller', 'Drama', 'Comedy', 'Thriller', 'Drama', 'Drama', 'Action', 'Comedy', 'Horror', 'Action', 'Mystery', 'Drama', 'Drama', 'Drama', 'Action', 'Horror', 'Fantasy', 'Comedy', 'Mystery', 'Fantasy', 'Comedy', 'Comedy', 'Drama', 'Comedy', 'Action', 'Drama', 'Comedy', 'Thriller', 'Crime', 'Thriller', 'Drama', 'Action', 'Documentary', 'Action', 'Comedy', 'Fantasy', 'Documentary', 'Comedy', 'Action', 'Drama', 'Adventure', 'Comedy', 'Drama', 'Comedy', 'Horror', 'Fantasy', 'Drama', 'Action', 'Drama', 'Drama', 'Fantasy', 'Drama', 'Documentary', 'Comedy', 'Comedy', 'Drama', 'Drama', 'Mystery', 'Action', 'Comedy', 'Fantasy', 'Action', 'Action', 'Comedy', 'Action', 'Comedy', 'Fantasy', 'Drama', 'Drama', 'Horror', 'Drama', 'Drama', 'Drama', 'Action', 'Drama', 'Adventure', 'Comedy', 'Drama', 'War', 'Action', 'Action', 'Fantasy', 'Action', 'Comedy', 'Fantasy', 'Drama', 'Action', 'Comedy', 'Action', 'Action', 'Animation', 'Comedy', 'Fantasy', 'Animation', 'Drama', 'Fantasy', 'Horror', 'Adventure', 'Adventure', 'Horror', 'Crime', 'Comedy', 'Comedy', 'Comedy', 'Action', 'Comedy', 'Horror', 'Comedy', 'Fantasy', 'Comedy', 'Comedy', 'Horror', 'Thriller', 'Comedy', 'Comedy', 'Action', 'Action', 'Crime', 'Comedy', 'Horror', 'Action', 'Action', 'Drama', 'Horror', 'Thriller', 'Drama', 'Comedy', 'Thriller', 'Family', 'Comedy', 'Drama', 'Comedy', 'Action', 'Thriller', 'Comedy', 'Comedy', 'Comedy', 'Action', 'Action', 'Horror', 'Action', 'Action', 'Action', 'Adventure', 'Drama', 'Action', 'Drama', 'Horror', 'Horror', 'Drama', 'Crime', 'Drama', 'Documentary', 'Horror', 'Action', 'Comedy', 'Drama', 'Comedy', 'Comedy', 'Horror', 'Animation', 'Drama', 'Drama', 'Comedy', 'Drama', 'Comedy', 'Horror', 'Action', 'TV Movie', 'Drama', 'Horror', 'Horror', 'Drama', 'Drama', 'Drama', 'Music', 'Comedy', 'Comedy', 'War', 'Comedy', 'Mystery', 'Action', 'Action', 'Comedy', 'Action', 'Comedy', 'Thriller', 'Comedy', 'Thriller', 'Drama', 'Comedy', 'Comedy', 'Comedy', 'Comedy', 'Thriller', 'Documentary', 'Horror', 'Drama', 'Comedy', 'Action', 'Comedy', 'Comedy', 'Comedy', 'Horror', 'Comedy', 'Drama', 'Horror', 'Action', 'Drama', 'Comedy', 'Action', 'Drama', 'Documentary', 'Fantasy', 'TV Movie', 'Documentary', 'Drama', 'Drama', 'Action', 'Drama', 'Comedy', 'Fantasy', 'Adventure', 'Comedy', 'Action', 'Science Fiction', 'Drama', 'Drama', 'Comedy', 'Action', 'Action', 'Horror', 'Adventure', 'Action', 'Adventure', 'Adventure', 'Horror', 'Crime', 'Action', 'Action', 'Comedy', 'Crime', 'Comedy', 'Drama', 'Horror', 'Action', 'Action', 'Comedy', 'Horror', 'Action', 'Comedy', 'Comedy', 'Fantasy', 'Horror', 'Action', 'Comedy', 'Comedy', 'Comedy', 'Drama', 'Comedy', 'Thriller', 'Action', 'Family', 'Fantasy', 'Comedy', 'Romance', 'Drama', 'Drama', 'Horror', 'Science Fiction', 'Action', 'Comedy', 'Crime', 'Comedy', 'Comedy', 'Action', 'Horror', 'Family', 'Action', 'Fantasy', 'Comedy', 'Horror', 'Horror', 'Action', 'Horror', 'Adventure', 'Horror', 'Drama', 'Crime', 'Drama', 'Drama', 'Crime', 'Action', 'Crime', 'Comedy', 'Drama', 'Action', 'Drama', 'Drama', 'Action', 'Crime', 'Comedy', 'Horror', 'Comedy', 'Comedy', 'Comedy', 'Action', 'Drama', 'Animation', 'Drama', 'Drama', 'Horror', 'Comedy', 'Comedy', 'Comedy', 'Drama', 'Comedy', 'Drama', 'Action', 'Fantasy', 'Comedy', 'Mystery', 'Crime', 'Animation', 'Drama', 'Drama', 'Drama', 'Action', 'Fantasy', 'Comedy', 'Action', 'Music', 'Action', 'Drama', 'Comedy', 'Comedy', 'War', 'Comedy', 'Comedy', 'Action', 'Comedy', 'Comedy', 'TV Movie', 'Drama', 'Action', 'Drama', 'Comedy', 'Horror', 'Comedy', 'Animation', 'Science Fiction', 'Adventure', 'Horror', 'Crime', 'Science Fiction', 'Action', 'Comedy', 'Drama', 'Horror', 'Animation', 'Drama', 'Western', 'Adventure', 'Comedy', 'Romance', 'Comedy', 'Drama', 'Horror', 'War', 'Adventure', 'Drama', 'Fantasy', 'Crime', 'Drama', 'Drama', 'Animation', 'Drama', 'War', 'Comedy', 'War', 'Action', 'Drama', 'Action', 'Comedy', 'Action', 'Comedy', 'Drama', 'Drama', 'Animation', 'Drama', 'Crime', 'Adventure', 'Comedy', 'Horror', 'Comedy', 'Crime', 'Romance', 'Drama', 'Comedy', 'Action', 'Action', 'Action', 'Drama', 'Drama', 'Thriller', 'Crime', 'Horror', 'Action', 'Comedy', 'Comedy', 'Action', 'Drama', 'Action', 'Crime', 'Comedy', 'Horror', 'Action', 'Action', 'Fantasy', 'Animation', 'Action', 'Action', 'Crime', 'Thriller', 'Comedy', 'Drama', 'Action', 'Drama', 'Crime', 'Drama', 'Comedy', 'Adventure', 'Drama', 'Adventure', 'Documentary', 'Drama', 'Horror', 'Adventure', 'Comedy', 'Drama', 'Comedy', 'Adventure', 'Drama', 'Action', 'Thriller', 'Drama', 'Action', 'Comedy', 'Adventure', 'Fantasy', 'Thriller', 'Action', 'Drama', 'Comedy', 'Drama', 'Thriller', 'Music', 'Horror', 'Adventure', 'Comedy', 'Crime', 'Action', 'Horror', 'Science Fiction', 'Comedy', 'Adventure', 'History', 'Thriller', 'Comedy', 'Action', 'Western', 'Horror', 'Comedy', 'Documentary', 'Mystery', 'Horror', 'Action', 'Action', 'Action', 'Adventure', 'Adventure', 'Drama', 'Crime', 'Mystery', 'Action', 'Drama', 'Western', 'Adventure', 'Western', 'Drama', 'Crime', 'Drama', 'Comedy', 'Adventure', 'Drama', 'Crime', 'Drama', 'Fantasy', 'Action', 'Horror', 'Drama', 'Drama', 'Thriller', 'Drama', 'Drama', 'Action', 'Action', 'Horror', 'Action', 'Drama', 'Comedy', 'Adventure', 'Drama', 'Comedy', 'Comedy', 'Animation', 'Crime', 'Drama', 'Comedy', 'Horror', 'Drama', 'Drama', 'Drama', 'Action', 'Comedy', 'Comedy', 'Animation', 'Thriller', 'Comedy', 'Crime', 'Horror', 'Action', 'Comedy', 'Drama', 'Adventure', 'Drama', 'Crime', 'Drama', 'Crime', 'Thriller', 'Drama', 'Adventure', 'Comedy', 'Adventure', 'Comedy', 'Western', 'Adventure', 'Music', 'Comedy', 'Drama', 'Fantasy', 'Crime', 'Horror', 'Science Fiction', 'Family', 'Adventure', 'Comedy', 'Action', 'Action', 'Crime', 'Action', 'Adventure', 'Drama', 'Comedy', 'Action', 'Crime', 'Comedy', 'Drama', 'Drama', 'Horror', 'Crime', 'Comedy', 'Drama', 'War', 'Science Fiction', 'Action', 'Drama', 'Adventure', 'Adventure', 'Western', 'Drama', 'Drama', 'Action', 'Western', 'Horror', 'Action', 'Drama', 'Mystery', 'War', 'Action', 'Drama', 'Horror', 'Drama', 'Drama', 'Drama', 'Comedy', 'Horror', 'Crime', 'Drama', 'Comedy', 'Horror', 'Romance', 'Crime', 'Comedy', 'Drama', 'Drama', 'Horror', 'Mystery', 'Action', 'Drama', 'Action', 'Adventure', 'Fantasy', 'Romance', 'Drama', 'Adventure', 'Fantasy', 'Science Fiction', 'Horror', 'Drama', 'Drama', 'Adventure', 'Action', 'Science Fiction', 'Adventure', 'Drama', 'Drama', 'Comedy', 'Action', 'Action', 'Drama', 'Romance', 'Drama', 'Thriller', 'Adventure', 'Action', 'Action', 'Comedy', 'Drama', 'Drama', 'Fantasy', 'Comedy', 'Adventure', 'Thriller', 'Drama', 'War', 'Comedy', 'Romance', 'Action', 'Drama', 'Drama', 'Music', 'Drama', 'Action', 'Music', 'Western', 'Action', 'Adventure', 'Action', 'Drama', 'Comedy', 'Horror', 'Crime', 'Thriller', 'Comedy', 'Comedy', 'Action', 'Mystery', 'Comedy', 'Comedy', 'Action', 'Action', 'Comedy', 'Thriller', 'Drama', 'Animation', 'Adventure', 'Horror', 'Comedy', 'Adventure', 'Fantasy', 'Comedy', 'Action', 'Science Fiction', 'Action', 'Adventure', 'Drama', 'Comedy', 'Comedy', 'Mystery', 'Comedy', 'Adventure', 'Drama', 'Comedy', 'Drama', 'Science Fiction', 'Thriller', 'Comedy', 'Action', 'Crime', 'Drama', 'Action', 'Romance', 'Adventure', 'Drama', 'Action', 'Thriller', 'Action', 'Drama', 'Horror', 'Crime', 'Fantasy', 'Comedy', 'Comedy', 'Crime', 'Horror', 'Drama', 'Fantasy', 'Drama', 'Comedy', 'Action', 'TV Movie', 'Drama', 'Documentary', 'Comedy', 'Comedy', 'Comedy', 'Comedy', 'Horror', 'Horror', 'Drama', 'Mystery', 'Action', 'Drama', 'Comedy', 'Comedy', 'Drama', 'Crime', 'Action', 'Action', 'Adventure', 'Comedy', 'Music', 'Action', 'Drama', 'Drama', 'Comedy', 'Western', 'Action', 'Horror', 'Drama', 'Drama', 'Drama', 'Comedy', 'Horror', 'Action', 'Drama', 'Horror', 'Drama', 'Fantasy', 'Western', 'Comedy', 'Comedy', 'Adventure', 'Comedy', 'Comedy', 'Fantasy', 'Science Fiction', 'Comedy', 'Western', 'Romance', 'Drama', 'Action', 'Action', 'Comedy', 'Comedy', 'Thriller', 'Horror', 'Adventure', 'Thriller', 'Action', 'Comedy', 'Horror', 'Horror', 'Drama', 'Crime', 'Action', 'Action', 'Drama', 'Thriller', 'Comedy', 'Action', 'Action', 'Drama', 'Adventure', 'Drama', 'Comedy', 'Horror', 'Comedy', 'Horror', 'Comedy', 'Horror', 'Action', 'Crime', 'Drama', 'Horror', 'Horror', 'Adventure', 'Action', 'Drama', 'Action', 'Comedy', 'Drama', 'Thriller', 'Comedy', 'Drama', 'Adventure', 'Comedy', 'Comedy', 'Comedy', 'Action', 'Comedy', 'Action', 'Action', 'Drama', 'Drama', 'Drama', 'Fantasy', 'TV Movie', 'Drama', 'Mystery', 'Thriller', 'Action', 'Drama', 'Action', 'Drama', 'Comedy', 'Horror', 'Drama', 'Horror', 'Action', 'Comedy', 'Action', 'Documentary', 'Comedy', 'Horror', 'Action', 'Horror', 'Comedy', 'Horror', 'Romance', 'Fantasy', 'Drama', 'Adventure', 'Action', 'Comedy', 'Adventure', 'Action', 'Drama', 'Comedy', 'Adventure', 'Crime', 'Comedy', 'Comedy', 'Action', 'Drama', 'Action', 'Drama', 'Animation', 'Comedy', 'Comedy', 'Action', 'Action', 'Comedy', 'Action', 'Action', 'Action', 'Adventure', 'Music', 'Action', 'Action', 'Action', 'Action', 'Romance', 'Family', 'Thriller', 'Drama', 'Comedy', 'Crime', 'Comedy', 'Drama', 'Mystery', 'Action', 'Comedy', 'Crime', 'Drama', 'Horror', 'Family', 'Comedy', 'Comedy', 'Thriller', 'Action', 'Drama', 'Crime', 'Romance', 'Action', 'Action', 'Adventure', 'Drama', 'Drama', 'Comedy', 'Action', 'Drama', 'Animation', 'Drama', 'Drama', 'Action', 'Drama', 'Action', 'Comedy', 'Action', 'Action', 'Drama', 'Action', 'Horror', 'Drama', 'Comedy', 'Comedy', 'Romance', 'Drama', 'Drama', 'Comedy', 'Comedy', 'Family', 'War', 'Comedy', 'Comedy', 'Romance', 'Comedy', 'Comedy', 'Comedy', 'Science Fiction', 'Drama', 'Fantasy', 'Action', 'Drama', 'Horror', 'Drama', 'Drama', 'History', 'Action', 'Drama', 'Fantasy', 'Crime', 'Drama', 'Mystery', 'Action', 'Comedy', 'Horror', 'Comedy', 'Comedy', 'Comedy', 'Crime', 'Drama', 'Fantasy', 'Drama', 'Action', 'Drama', 'Drama', 'Drama', 'Comedy', 'Drama', 'Western', 'Drama', 'Horror', 'Music', 'Comedy', 'Drama', 'Drama', 'Comedy', 'Comedy', 'Action', 'Comedy', 'Fantasy', 'Drama', 'Drama', 'Animation', 'Drama', 'Action', 'Family', 'Drama', 'Adventure', 'Action', 'Action', 'Action', 'Action', 'Action', 'Comedy', 'Horror', 'Drama', 'Adventure', 'Music', 'Comedy', 'Animation', 'Horror', 'Horror', 'Comedy', 'Fantasy', 'Drama', 'Comedy', 'Family', 'Horror', 'Drama', 'Horror', 'Action', 'Action', 'Documentary', 'Comedy', 'Action', 'Action', 'Action', 'Comedy', 'Drama', 'Action', 'Music', 'Science Fiction', 'Fantasy', 'Comedy', 'Family', 'Comedy', 'Adventure', 'Action', 'Crime', 'Drama', 'Crime', 'Crime', 'Comedy', 'Comedy', 'Thriller', 'Action', 'Crime', 'Drama', 'Drama', 'Comedy', 'Horror', 'Crime', 'Comedy', 'Comedy', 'Adventure', 'Action', 'Music', 'Comedy', 'Comedy', 'Action', 'Western', 'Comedy', 'Music', 'Horror', 'Science Fiction', 'Fantasy', 'Documentary', 'Fantasy', 'Comedy', 'Horror', 'Animation', 'Drama', 'Comedy', 'Action', 'Action', 'Animation', 'Horror', 'Comedy', 'Comedy', 'Drama', 'Comedy', 'Comedy', 'Adventure', 'Mystery', 'Adventure', 'Comedy', 'Drama', 'Horror', 'Action', 'Adventure', 'Comedy', 'Adventure', 'Drama', 'Action', 'Horror', 'Drama', 'Comedy', 'Drama', 'Comedy', 'Adventure', 'Horror', 'Romance', 'Horror', 'Drama', 'Comedy', 'Drama', 'Horror', 'Mystery', 'Horror', 'Adventure', 'Drama', 'Drama', 'Drama', 'Crime', 'Family', 'Drama', 'Horror', 'Drama', 'Animation', 'Adventure', 'Action', 'Comedy', 'Crime', 'Science Fiction', 'Fantasy', 'Adventure', 'Drama', 'Drama', 'Adventure', 'Action', 'Horror', 'Adventure', 'Family', 'Comedy', 'Action', 'Adventure', 'Action', 'Action', 'Comedy', 'Thriller', 'Comedy', 'Horror', 'Drama', 'Adventure', 'Drama', 'Horror', 'Adventure', 'Horror', 'Action', 'Action', 'Comedy', 'Comedy', 'Drama', 'Drama', 'Horror', 'Comedy', 'Comedy', 'Action', 'Drama', 'Animation', 'Romance', 'Comedy', 'Drama', 'Action', 'Drama', 'Action', 'Comedy', 'Action', 'Horror', 'Horror', 'Drama', 'Crime', 'Science Fiction', 'Horror', 'Drama', 'Romance', 'Horror', 'Horror', 'Comedy', 'Comedy', 'Comedy', 'Comedy', 'Mystery', 'Action', 'Comedy', 'Crime', 'Animation', 'Comedy', 'Science Fiction', 'Comedy', 'Horror', 'Thriller', 'Science Fiction', 'Drama', 'Crime', 'Drama', 'Horror', 'Drama', 'Action', 'Comedy', 'Action', 'Action', 'Fantasy', 'Drama', 'Drama', 'Adventure', 'Comedy', 'Horror', 'Action', 'Comedy', 'Drama', 'Animation', 'Comedy', 'Comedy', 'Comedy', 'Drama', 'Comedy', 'Science Fiction', 'Animation', 'Drama', 'Family', 'Action', 'Fantasy', 'Drama', 'Comedy', 'Crime', 'Horror', 'Drama', 'Comedy', 'Animation', 'Drama', 'Adventure', 'Drama', 'Crime', 'Action', 'Action', 'Thriller', 'Comedy', 'Action', 'Western', 'Action', 'Drama', 'Comedy', 'Mystery', 'Crime', 'Science Fiction', 'Drama', 'Crime', 'Action', 'Comedy', 'Action', 'Thriller', 'Western', 'Action', 'Horror', 'Comedy', 'Animation', 'Drama', 'Crime', 'Action', 'Horror', 'Horror', 'Action', 'Animation', 'Action', 'Horror', 'Drama', 'Thriller', 'Crime', 'Drama', 'Documentary', 'Drama', 'Horror', 'Horror', 'Mystery', 'TV Movie', 'Action', 'Drama', 'Horror', 'Horror', 'Action', 'Drama', 'Comedy', 'Action', 'Animation', 'Adventure', 'Comedy', 'Action', 'Horror', 'Drama', 'Drama', 'Drama', 'History', 'Comedy', 'Western', 'Action', 'Drama', 'Horror', 'TV Movie', 'War', 'Action', 'Science Fiction', 'Action', 'Comedy', 'Fantasy', 'Horror', 'Music', 'Drama', 'Horror', 'Documentary', 'Action', 'Comedy', 'Action', 'Documentary', 'Action', 'Documentary', 'Action', 'Romance', 'Adventure', 'Action', 'Horror', 'Mystery', 'Crime', 'Action', 'Adventure', 'Drama', 'Drama', 'Action', 'Animation', 'Crime', 'Horror', 'War', 'Adventure', 'Comedy', 'Action', 'Thriller', 'Action', 'Drama', 'Comedy', 'Action', 'Action', 'Drama', 'Comedy', 'Drama', 'Action', 'Action', 'Drama', 'Drama', 'Drama', 'Thriller', 'Thriller', 'Drama', 'Comedy', 'Drama', 'Action', 'War', 'Comedy', 'Horror', 'Drama', 'Adventure', 'History', 'Action', 'Drama', 'Adventure', 'Comedy', 'Action', 'Action', 'Family', 'Drama', 'Drama', 'Comedy', 'Drama', 'Action', 'Animation', 'Comedy', 'Drama', 'Comedy', 'Drama', 'Thriller', 'Comedy', 'Action', 'Comedy', 'Action', 'Action', 'Horror', 'Drama', 'Science Fiction', 'Drama', 'Comedy', 'Animation', 'Music', 'Horror', 'Horror', 'Adventure', 'Horror', 'Comedy', 'Action', 'Drama', 'Action', 'Comedy', 'Drama', 'Action', 'Drama', 'Adventure', 'Drama', 'Drama', 'Drama', 'Drama', 'Comedy', 'Thriller', 'Mystery', 'Crime', 'Drama', 'Action', 'Action', 'Horror', 'Horror', 'Action', 'Fantasy', 'Horror', 'Action', 'Drama', 'Adventure', 'Adventure', 'Drama', 'Comedy', 'Action', 'Documentary', 'Adventure', 'Comedy', 'Science Fiction', 'Action', 'Drama', 'Fantasy', 'Horror', 'Drama', 'Drama', 'Drama', 'Drama', 'Drama', 'Horror', 'Documentary', 'Horror', 'Horror', 'Horror', 'Comedy', 'Action', 'Thriller', 'Science Fiction', 'Comedy', 'Drama', 'Comedy', 'Documentary', 'Horror', 'Action', 'Animation', 'Drama', 'Drama', 'Action', 'Drama', 'Drama', 'Drama', 'Family', 'Mystery', 'Action', 'Comedy', 'Romance', 'Action', 'Comedy', 'Action', 'Action', 'Comedy', 'War', 'Action', 'Family', 'Thriller', 'Western', 'Animation', 'Adventure', 'Adventure', 'Comedy', 'Horror', 'Science Fiction', 'Adventure', 'Action', 'Action', 'Adventure', 'Western', 'Comedy', 'Thriller', 'Comedy', 'Comedy', 'Action', 'Comedy', 'Mystery', 'Comedy', 'Documentary', 'Action', 'Mystery', 'Action', 'Horror']\n"
     ]
    }
   ],
   "source": [
    "#print genre_trim to verify that the split function worked\n",
    "print(genre_trim)"
   ]
  },
  {
   "cell_type": "markdown",
   "metadata": {},
   "source": [
    "After splitting the genres, we want to get the unique genres and create columns for each value."
   ]
  },
  {
   "cell_type": "code",
   "execution_count": 13,
   "metadata": {},
   "outputs": [],
   "source": [
    "#get the unique values from genre_trim list\n",
    "def unique(genre_trim):\n",
    "    x = np.array(genre_trim)\n",
    "    print(np.unique(x))"
   ]
  },
  {
   "cell_type": "code",
   "execution_count": 14,
   "metadata": {},
   "outputs": [
    {
     "name": "stdout",
     "output_type": "stream",
     "text": [
      "['Action' 'Adventure' 'Animation' 'Comedy' 'Crime' 'Documentary' 'Drama'\n",
      " 'Family' 'Fantasy' 'Foreign' 'History' 'Horror' 'Music' 'Mystery'\n",
      " 'Romance' 'Science Fiction' 'TV Movie' 'Thriller' 'War' 'Western']\n"
     ]
    }
   ],
   "source": [
    "#list the unique genres\n",
    "unique(genre_trim)"
   ]
  },
  {
   "cell_type": "code",
   "execution_count": 15,
   "metadata": {},
   "outputs": [],
   "source": [
    "#Create new column with the values from genre_trim list so we can use pandas and numpy to create columns and add values\n",
    "df['GenreTrim'] = genre_trim"
   ]
  },
  {
   "cell_type": "code",
   "execution_count": 16,
   "metadata": {},
   "outputs": [
    {
     "data": {
      "text/html": [
       "<div>\n",
       "<style scoped>\n",
       "    .dataframe tbody tr th:only-of-type {\n",
       "        vertical-align: middle;\n",
       "    }\n",
       "\n",
       "    .dataframe tbody tr th {\n",
       "        vertical-align: top;\n",
       "    }\n",
       "\n",
       "    .dataframe thead th {\n",
       "        text-align: right;\n",
       "    }\n",
       "</style>\n",
       "<table border=\"1\" class=\"dataframe\">\n",
       "  <thead>\n",
       "    <tr style=\"text-align: right;\">\n",
       "      <th></th>\n",
       "      <th>id</th>\n",
       "      <th>revenue</th>\n",
       "      <th>runtime</th>\n",
       "      <th>genres</th>\n",
       "      <th>vote_average</th>\n",
       "      <th>release_year</th>\n",
       "      <th>GenreTrim</th>\n",
       "    </tr>\n",
       "  </thead>\n",
       "  <tbody>\n",
       "    <tr>\n",
       "      <th>0</th>\n",
       "      <td>135397</td>\n",
       "      <td>1513528810</td>\n",
       "      <td>124</td>\n",
       "      <td>Action|Adventure|Science Fiction|Thriller</td>\n",
       "      <td>6.5</td>\n",
       "      <td>2015</td>\n",
       "      <td>Action</td>\n",
       "    </tr>\n",
       "    <tr>\n",
       "      <th>1</th>\n",
       "      <td>76341</td>\n",
       "      <td>378436354</td>\n",
       "      <td>120</td>\n",
       "      <td>Action|Adventure|Science Fiction|Thriller</td>\n",
       "      <td>7.1</td>\n",
       "      <td>2015</td>\n",
       "      <td>Action</td>\n",
       "    </tr>\n",
       "    <tr>\n",
       "      <th>2</th>\n",
       "      <td>262500</td>\n",
       "      <td>295238201</td>\n",
       "      <td>119</td>\n",
       "      <td>Adventure|Science Fiction|Thriller</td>\n",
       "      <td>6.3</td>\n",
       "      <td>2015</td>\n",
       "      <td>Adventure</td>\n",
       "    </tr>\n",
       "    <tr>\n",
       "      <th>3</th>\n",
       "      <td>140607</td>\n",
       "      <td>2068178225</td>\n",
       "      <td>136</td>\n",
       "      <td>Action|Adventure|Science Fiction|Fantasy</td>\n",
       "      <td>7.5</td>\n",
       "      <td>2015</td>\n",
       "      <td>Action</td>\n",
       "    </tr>\n",
       "    <tr>\n",
       "      <th>4</th>\n",
       "      <td>168259</td>\n",
       "      <td>1506249360</td>\n",
       "      <td>137</td>\n",
       "      <td>Action|Crime|Thriller</td>\n",
       "      <td>7.3</td>\n",
       "      <td>2015</td>\n",
       "      <td>Action</td>\n",
       "    </tr>\n",
       "  </tbody>\n",
       "</table>\n",
       "</div>"
      ],
      "text/plain": [
       "       id     revenue  runtime                                     genres  \\\n",
       "0  135397  1513528810      124  Action|Adventure|Science Fiction|Thriller   \n",
       "1   76341   378436354      120  Action|Adventure|Science Fiction|Thriller   \n",
       "2  262500   295238201      119         Adventure|Science Fiction|Thriller   \n",
       "3  140607  2068178225      136   Action|Adventure|Science Fiction|Fantasy   \n",
       "4  168259  1506249360      137                      Action|Crime|Thriller   \n",
       "\n",
       "   vote_average  release_year  GenreTrim  \n",
       "0           6.5          2015     Action  \n",
       "1           7.1          2015     Action  \n",
       "2           6.3          2015  Adventure  \n",
       "3           7.5          2015     Action  \n",
       "4           7.3          2015     Action  "
      ]
     },
     "execution_count": 16,
     "metadata": {},
     "output_type": "execute_result"
    }
   ],
   "source": [
    "#verify that the new \"GenreTrim\" column has been added\n",
    "df.head()"
   ]
  },
  {
   "cell_type": "code",
   "execution_count": 17,
   "metadata": {},
   "outputs": [],
   "source": [
    "#rebuild index\n",
    "df.reset_index(drop=True, inplace=True)"
   ]
  },
  {
   "cell_type": "code",
   "execution_count": 18,
   "metadata": {},
   "outputs": [],
   "source": [
    "#create new columns from unique genres and add a value of 1 to the row if it contains a value matching from the \"genres\" column\n",
    "\n",
    "df['Action'] = pd.np.where(df.genres.str.contains(\"Action\"), 1, 0)\n",
    "df['Adventure'] = pd.np.where(df.genres.str.contains(\"Adventure\"), 1, 0)\n",
    "df['Animation'] = pd.np.where(df.genres.str.contains(\"Animation\"), 1, 0)\n",
    "df['Comedy'] = pd.np.where(df.genres.str.contains(\"Comedy\"), 1, 0)\n",
    "df['Crime'] = pd.np.where(df.genres.str.contains(\"Crime\"), 1, 0)\n",
    "df['Documentary'] = pd.np.where(df.genres.str.contains(\"Documentary\"), 1, 0)\n",
    "df['Drama'] = pd.np.where(df.genres.str.contains(\"Drama\"), 1, 0)\n",
    "df['Family'] = pd.np.where(df.genres.str.contains(\"Family\"), 1, 0)\n",
    "df['Fantasy'] = pd.np.where(df.genres.str.contains(\"Fantasy\"), 1, 0)\n",
    "df['Foreign'] = pd.np.where(df.genres.str.contains(\"Foreign\"), 1, 0)\n",
    "df['History'] = pd.np.where(df.genres.str.contains(\"History\"), 1, 0)\n",
    "df['Horror'] = pd.np.where(df.genres.str.contains(\"Horror\"), 1, 0)\n",
    "df['Music'] = pd.np.where(df.genres.str.contains(\"Music\"), 1, 0)\n",
    "df['Mystery'] = pd.np.where(df.genres.str.contains(\"Mystery\"), 1, 0)\n",
    "df['Romance'] = pd.np.where(df.genres.str.contains(\"Romance\"), 1, 0)\n",
    "df['ScienceFiction'] = pd.np.where(df.genres.str.contains(\"Science Fiction\"), 1, 0)\n",
    "df['TVMovie'] = pd.np.where(df.genres.str.contains(\"TV Movie\"), 1, 0)\n",
    "df['Thriller'] = pd.np.where(df.genres.str.contains(\"Thriller\"), 1, 0)\n",
    "df['War'] = pd.np.where(df.genres.str.contains(\"War\"), 1, 0)\n",
    "df['Western'] = pd.np.where(df.genres.str.contains(\"Western\"), 1, 0)"
   ]
  },
  {
   "cell_type": "markdown",
   "metadata": {},
   "source": [
    "Verify that the above code worked"
   ]
  },
  {
   "cell_type": "code",
   "execution_count": 19,
   "metadata": {},
   "outputs": [
    {
     "data": {
      "text/html": [
       "<div>\n",
       "<style scoped>\n",
       "    .dataframe tbody tr th:only-of-type {\n",
       "        vertical-align: middle;\n",
       "    }\n",
       "\n",
       "    .dataframe tbody tr th {\n",
       "        vertical-align: top;\n",
       "    }\n",
       "\n",
       "    .dataframe thead th {\n",
       "        text-align: right;\n",
       "    }\n",
       "</style>\n",
       "<table border=\"1\" class=\"dataframe\">\n",
       "  <thead>\n",
       "    <tr style=\"text-align: right;\">\n",
       "      <th></th>\n",
       "      <th>id</th>\n",
       "      <th>revenue</th>\n",
       "      <th>runtime</th>\n",
       "      <th>genres</th>\n",
       "      <th>vote_average</th>\n",
       "      <th>release_year</th>\n",
       "      <th>GenreTrim</th>\n",
       "      <th>Action</th>\n",
       "      <th>Adventure</th>\n",
       "      <th>Animation</th>\n",
       "      <th>...</th>\n",
       "      <th>History</th>\n",
       "      <th>Horror</th>\n",
       "      <th>Music</th>\n",
       "      <th>Mystery</th>\n",
       "      <th>Romance</th>\n",
       "      <th>ScienceFiction</th>\n",
       "      <th>TVMovie</th>\n",
       "      <th>Thriller</th>\n",
       "      <th>War</th>\n",
       "      <th>Western</th>\n",
       "    </tr>\n",
       "  </thead>\n",
       "  <tbody>\n",
       "    <tr>\n",
       "      <th>0</th>\n",
       "      <td>135397</td>\n",
       "      <td>1513528810</td>\n",
       "      <td>124</td>\n",
       "      <td>Action|Adventure|Science Fiction|Thriller</td>\n",
       "      <td>6.5</td>\n",
       "      <td>2015</td>\n",
       "      <td>Action</td>\n",
       "      <td>1</td>\n",
       "      <td>1</td>\n",
       "      <td>0</td>\n",
       "      <td>...</td>\n",
       "      <td>0</td>\n",
       "      <td>0</td>\n",
       "      <td>0</td>\n",
       "      <td>0</td>\n",
       "      <td>0</td>\n",
       "      <td>1</td>\n",
       "      <td>0</td>\n",
       "      <td>1</td>\n",
       "      <td>0</td>\n",
       "      <td>0</td>\n",
       "    </tr>\n",
       "    <tr>\n",
       "      <th>1</th>\n",
       "      <td>76341</td>\n",
       "      <td>378436354</td>\n",
       "      <td>120</td>\n",
       "      <td>Action|Adventure|Science Fiction|Thriller</td>\n",
       "      <td>7.1</td>\n",
       "      <td>2015</td>\n",
       "      <td>Action</td>\n",
       "      <td>1</td>\n",
       "      <td>1</td>\n",
       "      <td>0</td>\n",
       "      <td>...</td>\n",
       "      <td>0</td>\n",
       "      <td>0</td>\n",
       "      <td>0</td>\n",
       "      <td>0</td>\n",
       "      <td>0</td>\n",
       "      <td>1</td>\n",
       "      <td>0</td>\n",
       "      <td>1</td>\n",
       "      <td>0</td>\n",
       "      <td>0</td>\n",
       "    </tr>\n",
       "    <tr>\n",
       "      <th>2</th>\n",
       "      <td>262500</td>\n",
       "      <td>295238201</td>\n",
       "      <td>119</td>\n",
       "      <td>Adventure|Science Fiction|Thriller</td>\n",
       "      <td>6.3</td>\n",
       "      <td>2015</td>\n",
       "      <td>Adventure</td>\n",
       "      <td>0</td>\n",
       "      <td>1</td>\n",
       "      <td>0</td>\n",
       "      <td>...</td>\n",
       "      <td>0</td>\n",
       "      <td>0</td>\n",
       "      <td>0</td>\n",
       "      <td>0</td>\n",
       "      <td>0</td>\n",
       "      <td>1</td>\n",
       "      <td>0</td>\n",
       "      <td>1</td>\n",
       "      <td>0</td>\n",
       "      <td>0</td>\n",
       "    </tr>\n",
       "    <tr>\n",
       "      <th>3</th>\n",
       "      <td>140607</td>\n",
       "      <td>2068178225</td>\n",
       "      <td>136</td>\n",
       "      <td>Action|Adventure|Science Fiction|Fantasy</td>\n",
       "      <td>7.5</td>\n",
       "      <td>2015</td>\n",
       "      <td>Action</td>\n",
       "      <td>1</td>\n",
       "      <td>1</td>\n",
       "      <td>0</td>\n",
       "      <td>...</td>\n",
       "      <td>0</td>\n",
       "      <td>0</td>\n",
       "      <td>0</td>\n",
       "      <td>0</td>\n",
       "      <td>0</td>\n",
       "      <td>1</td>\n",
       "      <td>0</td>\n",
       "      <td>0</td>\n",
       "      <td>0</td>\n",
       "      <td>0</td>\n",
       "    </tr>\n",
       "    <tr>\n",
       "      <th>4</th>\n",
       "      <td>168259</td>\n",
       "      <td>1506249360</td>\n",
       "      <td>137</td>\n",
       "      <td>Action|Crime|Thriller</td>\n",
       "      <td>7.3</td>\n",
       "      <td>2015</td>\n",
       "      <td>Action</td>\n",
       "      <td>1</td>\n",
       "      <td>0</td>\n",
       "      <td>0</td>\n",
       "      <td>...</td>\n",
       "      <td>0</td>\n",
       "      <td>0</td>\n",
       "      <td>0</td>\n",
       "      <td>0</td>\n",
       "      <td>0</td>\n",
       "      <td>0</td>\n",
       "      <td>0</td>\n",
       "      <td>1</td>\n",
       "      <td>0</td>\n",
       "      <td>0</td>\n",
       "    </tr>\n",
       "  </tbody>\n",
       "</table>\n",
       "<p>5 rows × 27 columns</p>\n",
       "</div>"
      ],
      "text/plain": [
       "       id     revenue  runtime                                     genres  \\\n",
       "0  135397  1513528810      124  Action|Adventure|Science Fiction|Thriller   \n",
       "1   76341   378436354      120  Action|Adventure|Science Fiction|Thriller   \n",
       "2  262500   295238201      119         Adventure|Science Fiction|Thriller   \n",
       "3  140607  2068178225      136   Action|Adventure|Science Fiction|Fantasy   \n",
       "4  168259  1506249360      137                      Action|Crime|Thriller   \n",
       "\n",
       "   vote_average  release_year  GenreTrim  Action  Adventure  Animation  \\\n",
       "0           6.5          2015     Action       1          1          0   \n",
       "1           7.1          2015     Action       1          1          0   \n",
       "2           6.3          2015  Adventure       0          1          0   \n",
       "3           7.5          2015     Action       1          1          0   \n",
       "4           7.3          2015     Action       1          0          0   \n",
       "\n",
       "    ...     History  Horror  Music  Mystery  Romance  ScienceFiction  TVMovie  \\\n",
       "0   ...           0       0      0        0        0               1        0   \n",
       "1   ...           0       0      0        0        0               1        0   \n",
       "2   ...           0       0      0        0        0               1        0   \n",
       "3   ...           0       0      0        0        0               1        0   \n",
       "4   ...           0       0      0        0        0               0        0   \n",
       "\n",
       "   Thriller  War  Western  \n",
       "0         1    0        0  \n",
       "1         1    0        0  \n",
       "2         1    0        0  \n",
       "3         0    0        0  \n",
       "4         1    0        0  \n",
       "\n",
       "[5 rows x 27 columns]"
      ]
     },
     "execution_count": 19,
     "metadata": {},
     "output_type": "execute_result"
    }
   ],
   "source": [
    "df.head()"
   ]
  },
  {
   "cell_type": "markdown",
   "metadata": {},
   "source": [
    "Now that we have cleaned the data, we can now perform our analysis to answer the questions"
   ]
  },
  {
   "cell_type": "markdown",
   "metadata": {},
   "source": [
    "<a id='eda'></a>\n",
    "## Exploratory Data Analysis\n",
    "\n",
    "\n",
    "### Question 1: Which genre generated the most revenue?"
   ]
  },
  {
   "cell_type": "markdown",
   "metadata": {},
   "source": [
    "The first step to answer this question is to get the counts of movies by genre."
   ]
  },
  {
   "cell_type": "code",
   "execution_count": 20,
   "metadata": {},
   "outputs": [
    {
     "data": {
      "text/plain": [
       "id                                                        714169864\n",
       "revenue                                                432719225875\n",
       "runtime                                                     1107385\n",
       "genres            Action|Adventure|Science Fiction|ThrillerActio...\n",
       "vote_average                                                64770.8\n",
       "release_year                                               21698255\n",
       "GenreTrim         ActionActionAdventureActionActionWesternScienc...\n",
       "Action                                                         2384\n",
       "Adventure                                                      1471\n",
       "Animation                                                       699\n",
       "Comedy                                                         3793\n",
       "Crime                                                          1354\n",
       "Documentary                                                     520\n",
       "Drama                                                          4760\n",
       "Family                                                         1231\n",
       "Fantasy                                                         916\n",
       "Foreign                                                         188\n",
       "History                                                         334\n",
       "Horror                                                         1637\n",
       "Music                                                           408\n",
       "Mystery                                                         810\n",
       "Romance                                                        1712\n",
       "ScienceFiction                                                 1229\n",
       "TVMovie                                                         167\n",
       "Thriller                                                       2907\n",
       "War                                                             270\n",
       "Western                                                         165\n",
       "dtype: object"
      ]
     },
     "execution_count": 20,
     "metadata": {},
     "output_type": "execute_result"
    }
   ],
   "source": [
    "#perform sum on column\n",
    "df.sum()"
   ]
  },
  {
   "cell_type": "markdown",
   "metadata": {},
   "source": [
    "Next we will assign a variable to each genre by the sum of each genre's column"
   ]
  },
  {
   "cell_type": "code",
   "execution_count": 21,
   "metadata": {},
   "outputs": [],
   "source": [
    "#assign variable to each genre, sum of column\n",
    "action = df.Action.sum()\n",
    "adventure = df.Adventure.sum()\n",
    "animation= df.Animation.sum()\n",
    "comedy = df.Comedy.sum()\n",
    "crime = df.Crime.sum()\n",
    "documentary = df.Documentary.sum()\n",
    "drama = df.Drama.sum()\n",
    "family = df.Family.sum()\n",
    "fantasy = df.Fantasy.sum()\n",
    "foreign = df.Foreign.sum()\n",
    "history= df.History.sum()\n",
    "horror = df.Horror.sum()\n",
    "music = df.Music.sum()\n",
    "mystery = df.Mystery.sum()\n",
    "romance= df.Romance.sum()\n",
    "sciencefiction = df.ScienceFiction.sum()\n",
    "tvmovie = df.TVMovie.sum()\n",
    "thriller = df.Thriller.sum()\n",
    "war= df.War.sum()\n",
    "western = df.Western.sum()"
   ]
  },
  {
   "cell_type": "markdown",
   "metadata": {},
   "source": [
    "Next we will try to plot this on a bar graph to see how it looks."
   ]
  },
  {
   "cell_type": "code",
   "execution_count": 22,
   "metadata": {},
   "outputs": [
    {
     "data": {
      "image/png": "[encoded data removed]",
      "text/plain": [
       "<matplotlib.figure.Figure at 0x7fb3ded749e8>"
      ]
     },
     "metadata": {
      "needs_background": "light"
     },
     "output_type": "display_data"
    }
   ],
   "source": [
    "#create bar chart to visualize the sum of genres in the data\n",
    "locations = [1, 2, 3, 4, 5, 6, 7, 8, 9, 10, 11, 12, 13, 14, 15, 16, 17, 18, 19, 20]\n",
    "heights = [action, adventure, animation, comedy, crime, documentary, drama, family, fantasy, foreign, history, horror, music, mystery, romance, sciencefiction, tvmovie, thriller, war, western]\n",
    "labels = ['Action', 'Adventure', 'Animation', 'Comedy', 'Crime', 'Documentary', 'Drama', 'Family', 'Fantasy', 'Foreign', 'History', 'Horror', 'Music', 'Mystery', 'Romance', 'Science Fiction', 'TV Movie', 'Thriller', 'War', 'Western']\n",
    "plt.bar(locations, heights, tick_label=labels)\n",
    "plt.title('Count of Movies by Genre')\n",
    "plt.xlabel('Genres')\n",
    "plt.ylabel('# of Movies');"
   ]
  },
  {
   "cell_type": "markdown",
   "metadata": {},
   "source": [
    "After creating the bar chart, it seems the label names are overlapping. I will try to fix this by creating a horizonal bar chart instead."
   ]
  },
  {
   "cell_type": "code",
   "execution_count": 23,
   "metadata": {},
   "outputs": [
    {
     "data": {
      "image/png": "[encoded data removed]",
      "text/plain": [
       "<matplotlib.figure.Figure at 0x7fb3ded1b9e8>"
      ]
     },
     "metadata": {
      "needs_background": "light"
     },
     "output_type": "display_data"
    }
   ],
   "source": [
    "#created horizonal bar chart to see the genre names better\n",
    "x_axis = [action, adventure, animation, comedy, crime, documentary, drama, family, fantasy, foreign, history, horror, music, mystery, romance, sciencefiction, tvmovie, thriller, war, western]\n",
    "y_axis = ['Action', 'Adventure', 'Animation', 'Comedy', 'Crime', 'Documentary', 'Drama', 'Family', 'Fantasy', 'Foreign', 'History', 'Horror', 'Music', 'Mystery', 'Romance', 'Science Fiction', 'TV Movie', 'Thriller', 'War', 'Western']\n",
    "plt.barh(y_axis,x_axis)\n",
    "plt.title('Count of Movies by Genre')\n",
    "plt.ylabel('Genres')\n",
    "plt.xlabel('# of Movies')\n",
    "plt.show()"
   ]
  },
  {
   "cell_type": "markdown",
   "metadata": {},
   "source": [
    "Here we get to see a better picture of the count of movies by genres using a horizontal bar chart. We can see that the genre \"drama\" is in about 5,000 movies. This doesn't tell us much so we'll have to aggregate it further."
   ]
  },
  {
   "cell_type": "markdown",
   "metadata": {},
   "source": [
    "In this next step, I want to see revenue generated by genre. To do this, I will create a new variable for each genre associated with the revenue."
   ]
  },
  {
   "cell_type": "code",
   "execution_count": 24,
   "metadata": {},
   "outputs": [],
   "source": [
    "#assign new revenue veriables to the sum of revenue in each genre column\n",
    "\n",
    "action_rev = df.loc[(df['Action'] == 1), 'revenue'].sum()\n",
    "adventure_rev = df.loc[(df['Adventure'] == 1), 'revenue'].sum()\n",
    "animation_rev = df.loc[(df['Animation'] == 1), 'revenue'].sum()\n",
    "comedy_rev = df.loc[(df['Comedy'] == 1), 'revenue'].sum()\n",
    "crime_rev = df.loc[(df['Crime'] == 1), 'revenue'].sum()\n",
    "documentary_rev = df.loc[(df['Documentary'] == 1), 'revenue'].sum()\n",
    "drama_rev = df.loc[(df['Drama'] == 1), 'revenue'].sum()\n",
    "family_rev = df.loc[(df['Family'] == 1), 'revenue'].sum()\n",
    "fantasy_rev = df.loc[(df['Fantasy'] == 1), 'revenue'].sum()\n",
    "foreign_rev = df.loc[(df['Foreign'] == 1), 'revenue'].sum()\n",
    "history_rev = df.loc[(df['History'] == 1), 'revenue'].sum()\n",
    "horror_rev = df.loc[(df['Horror'] == 1), 'revenue'].sum()\n",
    "music_rev = df.loc[(df['Music'] == 1), 'revenue'].sum()\n",
    "mystery_rev = df.loc[(df['Mystery'] == 1), 'revenue'].sum()\n",
    "romance_rev = df.loc[(df['Romance'] == 1), 'revenue'].sum()\n",
    "sciencefiction_rev = df.loc[(df['ScienceFiction'] == 1), 'revenue'].sum()\n",
    "tvmovie_rev = df.loc[(df['TVMovie'] == 1), 'revenue'].sum()\n",
    "thriller_rev = df.loc[(df['Thriller'] == 1), 'revenue'].sum()\n",
    "war_rev = df.loc[(df['War'] == 1), 'revenue'].sum()\n",
    "western_rev = df.loc[(df['Western'] == 1), 'revenue'].sum()"
   ]
  },
  {
   "cell_type": "markdown",
   "metadata": {},
   "source": [
    "Next, we will plot this on the horizontal line graph."
   ]
  },
  {
   "cell_type": "code",
   "execution_count": 25,
   "metadata": {},
   "outputs": [
    {
     "data": {
      "image/png": "[encoded data removed]",
      "text/plain": [
       "<matplotlib.figure.Figure at 0x7fb3dee1c668>"
      ]
     },
     "metadata": {
      "needs_background": "light"
     },
     "output_type": "display_data"
    }
   ],
   "source": [
    "#create horizontal bar chart to see total revenue by genre\n",
    "\n",
    "df_sorted= df.sort_values('revenue')\n",
    "#created horizonal bar chart to see the genre names better\n",
    "x_axis = [action_rev, adventure_rev, animation_rev, comedy_rev, crime_rev, documentary_rev, drama_rev, family_rev, fantasy_rev, foreign_rev, history_rev, horror_rev, music_rev, mystery_rev, romance_rev, sciencefiction_rev, tvmovie_rev, thriller_rev, war_rev, western_rev]\n",
    "y_axis = ['Action', 'Adventure', 'Animation', 'Comedy', 'Crime', 'Documentary', 'Drama', 'Family', 'Fantasy', 'Foreign', 'History', 'Horror', 'Music', 'Mystery', 'Romance', 'Science Fiction', 'TV Movie', 'Thriller', 'War', 'Western']\n",
    "plt.barh(y_axis, x_axis)\n",
    "plt.title('Revenue of Movies by Genre')\n",
    "plt.ylabel('Genres')\n",
    "plt.xlabel('Total Revenue')\n",
    "plt.show()"
   ]
  },
  {
   "cell_type": "markdown",
   "metadata": {},
   "source": [
    "After plotting the bar graph, we can see that the top 5 total revenue generated genre is Action, Adventure, Comedy, Drama, and Thriller.\n",
    "\n",
    "This doesn't tell us the whole picture since there are more movies in certain genres than others.\n",
    "\n",
    "Next, I will do a calculation to get revenue per movie by genre, this will give us a better conclusion."
   ]
  },
  {
   "cell_type": "code",
   "execution_count": 26,
   "metadata": {},
   "outputs": [],
   "source": [
    "#using the same variable, I will take the revenue generated by genre and divide by the counts of movies in the same genre\n",
    "\n",
    "action_rev = df.loc[(df['Action'] == 1), 'revenue'].sum() / df.Action.sum()\n",
    "adventure_rev = df.loc[(df['Adventure'] == 1), 'revenue'].sum() / df.Adventure.sum()\n",
    "animation_rev = df.loc[(df['Animation'] == 1), 'revenue'].sum() / df.Animation.sum()\n",
    "comedy_rev = df.loc[(df['Comedy'] == 1), 'revenue'].sum() / df.Comedy.sum()\n",
    "crime_rev = df.loc[(df['Crime'] == 1), 'revenue'].sum() / df.Crime.sum()\n",
    "documentary_rev = df.loc[(df['Documentary'] == 1), 'revenue'].sum() / df.Documentary.sum()\n",
    "drama_rev = df.loc[(df['Drama'] == 1), 'revenue'].sum() / df.Drama.sum()\n",
    "family_rev = df.loc[(df['Family'] == 1), 'revenue'].sum() / df.Family.sum()\n",
    "fantasy_rev = df.loc[(df['Fantasy'] == 1), 'revenue'].sum() / df.Fantasy.sum()\n",
    "foreign_rev = df.loc[(df['Foreign'] == 1), 'revenue'].sum() / df.Foreign.sum()\n",
    "history_rev = df.loc[(df['History'] == 1), 'revenue'].sum() / df.History.sum()\n",
    "horror_rev = df.loc[(df['Horror'] == 1), 'revenue'].sum() / df.Horror.sum()\n",
    "music_rev = df.loc[(df['Music'] == 1), 'revenue'].sum() / df.Music.sum()\n",
    "mystery_rev = df.loc[(df['Mystery'] == 1), 'revenue'].sum() / df.Mystery.sum()\n",
    "romance_rev = df.loc[(df['Romance'] == 1), 'revenue'].sum() / df.Romance.sum()\n",
    "sciencefiction_rev = df.loc[(df['ScienceFiction'] == 1), 'revenue'].sum() / df.ScienceFiction.sum()\n",
    "tvmovie_rev = df.loc[(df['TVMovie'] == 1), 'revenue'].sum() / df.TVMovie.sum()\n",
    "thriller_rev = df.loc[(df['Thriller'] == 1), 'revenue'].sum() / df.Thriller.sum()\n",
    "war_rev = df.loc[(df['War'] == 1), 'revenue'].sum() / df.War.sum()\n",
    "western_rev = df.loc[(df['Western'] == 1), 'revenue'].sum() / df.Western.sum()\n",
    "\n"
   ]
  },
  {
   "cell_type": "code",
   "execution_count": 27,
   "metadata": {},
   "outputs": [
    {
     "data": {
      "image/png": "[encoded data removed]",
      "text/plain": [
       "<matplotlib.figure.Figure at 0x7fb3ded9bfd0>"
      ]
     },
     "metadata": {
      "needs_background": "light"
     },
     "output_type": "display_data"
    }
   ],
   "source": [
    "#create horizontal bar chart\n",
    "\n",
    "df_sorted= df.sort_values('revenue')\n",
    "#created horizonal bar chart to see the genre names better\n",
    "x_axis = [action_rev, adventure_rev, animation_rev, comedy_rev, crime_rev, documentary_rev, drama_rev, family_rev, fantasy_rev, foreign_rev, history_rev, horror_rev, music_rev, mystery_rev, romance_rev, sciencefiction_rev, tvmovie_rev, thriller_rev, war_rev, western_rev]\n",
    "y_axis = ['Action', 'Adventure', 'Animation', 'Comedy', 'Crime', 'Documentary', 'Drama', 'Family', 'Fantasy', 'Foreign', 'History', 'Horror', 'Music', 'Mystery', 'Romance', 'Science Fiction', 'TV Movie', 'Thriller', 'War', 'Western']\n",
    "plt.barh(y_axis, x_axis)\n",
    "plt.title('Revenue Generated per Movie by Genre')\n",
    "plt.ylabel('Genres')\n",
    "plt.xlabel('Revenue per Movie')\n",
    "plt.show()"
   ]
  },
  {
   "cell_type": "markdown",
   "metadata": {},
   "source": [
    "After aggregating it by movie count, the top generated revenue per movie by genre is Adventure.\n",
    "\n",
    "The Top 5 is Adventure, Fantasy, Animation, Family, and Science Fiction."
   ]
  },
  {
   "cell_type": "markdown",
   "metadata": {},
   "source": [
    "### Question 2: Is there a correlation between movie ratings and release year?"
   ]
  },
  {
   "cell_type": "markdown",
   "metadata": {},
   "source": [
    "The first step to answer this question is to plot the variables we will be working with, which is movie ratings and release year. "
   ]
  },
  {
   "cell_type": "code",
   "execution_count": 30,
   "metadata": {},
   "outputs": [
    {
     "data": {
      "text/plain": [
       "Text(0.5,0,'Average Ratings')"
      ]
     },
     "execution_count": 30,
     "metadata": {},
     "output_type": "execute_result"
    },
    {
     "data": {
      "image/png": "[encoded data removed]",
      "text/plain": [
       "<matplotlib.figure.Figure at 0x7fb3ded00710>"
      ]
     },
     "metadata": {
      "needs_background": "light"
     },
     "output_type": "display_data"
    }
   ],
   "source": [
    "#draw histogram for vote average to see the distribution\n",
    "df.vote_average.hist()\n",
    "plt.title('Average Ratings from All Movies')\n",
    "plt.ylabel('# of Movies')\n",
    "plt.xlabel('Average Ratings')"
   ]
  },
  {
   "cell_type": "markdown",
   "metadata": {},
   "source": [
    "This histogram shows us that most movies voting average lies between 5.3 to 6.1"
   ]
  },
  {
   "cell_type": "code",
   "execution_count": 40,
   "metadata": {},
   "outputs": [
    {
     "data": {
      "text/plain": [
       "Text(0.5,0,'Release Year')"
      ]
     },
     "execution_count": 40,
     "metadata": {},
     "output_type": "execute_result"
    },
    {
     "data": {
      "image/png": "[encoded data removed]",
      "text/plain": [
       "<matplotlib.figure.Figure at 0x7fb3dee54a90>"
      ]
     },
     "metadata": {
      "needs_background": "light"
     },
     "output_type": "display_data"
    }
   ],
   "source": [
    "#draw histogram for release year to see the distribution\n",
    "df.release_year.hist()\n",
    "plt.title('Released Year from All Movies')\n",
    "plt.ylabel('# of Movies')\n",
    "plt.xlabel('Release Year')"
   ]
  },
  {
   "cell_type": "markdown",
   "metadata": {},
   "source": [
    "This histogram shows us that majority of movies are released after the year 2000"
   ]
  },
  {
   "cell_type": "code",
   "execution_count": 39,
   "metadata": {},
   "outputs": [
    {
     "data": {
      "image/png": "[encoded data removed]",
      "text/plain": [
       "<matplotlib.figure.Figure at 0x7fb3dede3a20>"
      ]
     },
     "metadata": {
      "needs_background": "light"
     },
     "output_type": "display_data"
    }
   ],
   "source": [
    "#create scatterplot\n",
    "x = df['release_year']\n",
    "y = df['vote_average']\n",
    "plt.scatter(x, y)\n",
    "plt.title('Average Ratings from All Movies by Release Year')\n",
    "plt.ylabel('Average Ratings')\n",
    "plt.xlabel('Release Year')\n",
    "plt.show()"
   ]
  },
  {
   "cell_type": "markdown",
   "metadata": {},
   "source": [
    "Here we can see that there were definitely more movies rated in the later years versus the early years. The early years had less lower ratings."
   ]
  },
  {
   "cell_type": "code",
   "execution_count": 36,
   "metadata": {},
   "outputs": [
    {
     "data": {
      "image/png": "[encoded data removed]",
      "text/plain": [
       "<matplotlib.figure.Figure at 0x7fb3deead588>"
      ]
     },
     "metadata": {
      "needs_background": "light"
     },
     "output_type": "display_data"
    }
   ],
   "source": [
    "# groupby release  year and vote average\n",
    "dff = df.groupby(['release_year']).mean()['vote_average']\n",
    "\n",
    "# plot the result\n",
    "dff.plot()\n",
    "plt.xticks(rotation=45)\n",
    "plt.title('Mean of Average Ratings by Release Year')\n",
    "plt.ylabel('Average Ratings')\n",
    "plt.xlabel('Release Year')\n",
    "plt.show()"
   ]
  },
  {
   "cell_type": "markdown",
   "metadata": {},
   "source": [
    "After taking the mean ratings by each release year, we have a better picture of how it correlates with vote average. Here we can see that the trend of average movie ratings decreases from 1960 to present."
   ]
  },
  {
   "cell_type": "markdown",
   "metadata": {},
   "source": [
    "<a id='conclusions'></a>\n",
    "## Conclusions\n",
    "#### Question 1: Which genre generated the most revenue? \n",
    "\n",
    "Movies that has the genre \"Adventure\" will most likely generate more revenue than other genres. Even though the genre \"Adventure\" did not appear as frequently as the other genres, it still generated more revenue per movie. \n",
    "\n",
    "Next Steps: Dive deeper into this analysis and see if the genre \"Adventure\" alone performs the same without it being a sub-genre.\n",
    "\n",
    "#### Question 2: Is there a correlation between movie ratings and release year?\n",
    "\n",
    "In the last line graph, we can see that the trend is negative. This is correlated with the numbers of movies that are released each year. As we start releasing more movies, there seem to be more bad rated movies than good rated movies.\n",
    "\n",
    "Next Steps: Find out why movies are rated worse than others.\n",
    "\n",
    "\n",
    "### Limitation\n",
    "The format of a few columns that were seperated by the character \"|\" which had to be cleaned up to a working format."
   ]
  },
  {
   "cell_type": "code",
   "execution_count": 41,
   "metadata": {},
   "outputs": [
    {
     "data": {
      "text/plain": [
       "0"
      ]
     },
     "execution_count": 41,
     "metadata": {},
     "output_type": "execute_result"
    }
   ],
   "source": [
    "from subprocess import call\n",
    "call(['python', '-m', 'nbconvert', 'Investigate_a_Dataset.ipynb'])"
   ]
  },
  {
   "cell_type": "code",
   "execution_count": null,
   "metadata": {},
   "outputs": [],
   "source": []
  }
 ],
 "metadata": {
  "kernelspec": {
   "display_name": "Python 3",
   "language": "python",
   "name": "python3"
  },
  "language_info": {
   "codemirror_mode": {
    "name": "ipython",
    "version": 3
   },
   "file_extension": ".py",
   "mimetype": "text/x-python",
   "name": "python",
   "nbconvert_exporter": "python",
   "pygments_lexer": "ipython3",
   "version": "3.6.3"
  }
 },
 "nbformat": 4,
 "nbformat_minor": 2
}
